{
 "cells": [
  {
   "cell_type": "markdown",
   "id": "62e27f3f",
   "metadata": {},
   "source": [
    "---\n",
    "# The Python Programming Language\n",
    "---\n",
    "\n",
    "How to use this notebook:\n",
    "\n",
    "- First, work through the prerequisites in [1. Prerequisites](#1-prerequisites).\n",
    "- Then, work though [2. Python Basics](#2-python-basics) to [16. Object-Oriented_Programming](#16-object-oriented-programming).\n",
    "  - Note that you don't have to work through all chapters at once.\n",
    "  - Most of the initial chapters will seem trivial if you are already familiar with a C-based language.\n",
    "    - So just skim through these chapters to see how various idioms are implemented in Python.\n",
    "  - The various chapters are also meant as a reference if you need to re-visit a specific Python concept.\n",
    "- If you want to clean up any files created by this notebook, you can also work through [17. Cleanup](#17-cleanup).\n",
    "\n",
    "This notebook covers:\n",
    "\n",
    "- [1. Prerequisites](#1-prerequisites) \n",
    "- [2. Python Basics](#2-python-basics)\n",
    "  - [2.1 Basic Input and Output](#21-basic-input-and-output)\n",
    "  - [2.2 Basic Data Types](#22-basic-data-types)\n",
    "  - [2.3 Arithmetic Operators](#23-arithmetic-operators)\n",
    "  - [2.4 Expressions and Operator Precedence](#24-expressions-and-operator-precedence)\n",
    "  - [2.5 Functions](#25-functions)\n",
    "  - [2.6 Strings](#26-strings)\n",
    "  - [2.7 Type Conversion](#27-type-conversion)\n",
    "- [3. Variables and Statements](#3-variables-and-statements)\n",
    "  - [3.1 Variables](#31-variables)\n",
    "  - [3.2 Variable Names and Keywords](#32-variable-names-and-keywords)\n",
    "  - [3.3 The `import` Statement](#33-the-import-statement)\n",
    "  - [3.4 Expressions vs Statement](#34-expressions-vs-statement)\n",
    "  - [3.5 The `print` Function](#35-the-print-function)\n",
    "  - [3.6 Arguments](#36-arguments)\n",
    "  - [3.7 Comments](#37-comments)\n",
    "- [4. Functions](#4-functions)\n",
    "  - [4.1 Defining New Functions](#41-defining-new-functions)\n",
    "  - [4.2 Parameters and Return Values](#42-parameters-and-return-values)\n",
    "  - [4.3 Calling Functions](#43-calling-functions)\n",
    "  - [4.4 Repetition with the `for` Loop](#44-repetition-with-the-for-loop)\n",
    "  - [4.5 Variables and Parameters Are Local](#45-variables-and-parameters-are-local)\n",
    "  - [4.6 Tracebacks](#46-tracebacks)\n",
    "- [5. Functions and Interfaces](#5-functions-and-interfaces)\n",
    "  - [5.1 The `jupyturtle` Module](#51-the-jupyturtle-module)\n",
    "  - [5.2 Making a Square](#52-making-a-square)\n",
    "  - [5.3 Encapsulation and Generalization](#53-encapsulation-and-generalization)\n",
    "  - [5.4 Refactoring, Interface, and Implementation](#54-refactoring-interface-and-implementation)\n",
    "  - [5.5 Docstrings](#55-docstrings)\n",
    "- [6. Conditionals and Recursion](#6-conditionals-and-recursion)\n",
    "  - [6.1 Boolean Expressions](#61-boolean-expressions)\n",
    "  - [6.2 Logical Operators](#62-logical-operators)\n",
    "  - [6.3 The `if` Statement](#63-the-if-statement)\n",
    "  - [6.4 The `if` Statement's `elif` and `else` Clauses](#64-the-if-statements-elif-and-else-clauses)\n",
    "  - [6.5 Nested `if` Statements](#65-nested-if-statements)\n",
    "  - [6.6 Recursion](#66-recursion)\n",
    "- [7. Return Values](#7-return-values)\n",
    "  - [7.1 Some Functions have Return Values](#71-some-functions-have-return-values)\n",
    "  - [7.2 Some Functions Return `None`](#72-some-functions-return-none)\n",
    "  - [7.3 Return Values and Conditionals](#73-return-values-and-conditionals)\n",
    "  - [7.4 Boolean Functions](#74-boolean-functions)\n",
    "  - [7.5 Recursion with Return Values](#75-recursion-with-return-values)\n",
    "  - [7.6 Checking Types (Input Validation)](#76-checking-types-input-validation)\n",
    "- [8. Iteration and Search](#8-iteration-and-search)\n",
    "  - [8.1 The `for` Loop](#81-the-for-loop)\n",
    "  - [8.2 Loops and Strings](#82-loops-and-strings)\n",
    "  - [8.3 The `in` Operator](#83-the-in-operator)\n",
    "- [9. Strings](#9-strings)\n",
    "  - [9.1 A String is a Sequence](#91-a-string-is-a-sequence)\n",
    "  - [9.2 String Slices](#92-string-slices)\n",
    "  - [9.3 Strings are Immutable](#93-strings-are-immutable)\n",
    "  - [9.4 String Comparison](#94-string-comparison)\n",
    "  - [9.5 String Methods](#95-string-methods)\n",
    "- [10. Lists](#10-lists)\n",
    "  - [10.1 A List is a Sequence](#101-a-list-is-a-sequence)\n",
    "  - [10.2 Lists are Mutable](#102-lists-are-mutable)\n",
    "  - [10.3 List Slices](#103-list-slices)\n",
    "  - [10.4 List Operations](#104-list-operations)\n",
    "  - [10.5 List Methods](#105-list-methods)\n",
    "  - [10.6 Lists and Strings](#106-lists-and-strings)\n",
    "  - [10.7 Looping Through and Sorting a List](#107-looping-through-and-sorting-a-list)\n",
    "  - [10.8 Objects, References and Values (Strings)](#108-objects-references-and-values-strings)\n",
    "  - [10.9 Objects, References and Values (Lists)](#109-objects-references-and-values-lists)\n",
    "  - [10.10 Aliasing](#1010-aliasing)\n",
    "  - [10.11 Passing Lists as Arguments to Functions](#1011-passing-lists-as-arguments-to-functions)\n",
    "- [11. Dictionaries](#11-dictionaries)\n",
    "  - [11.1 A Dictionary is a Mapping](#111-a-dictionary-is-a-mapping)\n",
    "  - [11.2 Creating Dictionaries](#112-creating-dictionaries)\n",
    "  - [11.3 The `in` Operator](#113-the-in-operator)\n",
    "  - [11.4 Looping and Dictionaries](#114-looping-and-dictionaries)\n",
    "  - [11.5 Lists and Dictionaries](#115-lists-and-dictionaries)\n",
    "- [12. Tuples](#12-tuples)\n",
    "  - [12.1 Tuples are Like Lists](#121-tuples-are-like-lists)\n",
    "  - [12.2 Most List Operators Work with Tuples](#122-most-list-operators-work-with-tuples)\n",
    "  - [12.3 But Tuples are Immutable](#123-but-tuples-are-immutable)\n",
    "  - [12.4 Tuple Assignment](#124-tuple-assignment)\n",
    "  - [12.5 Tuples as Return Values and Argument Packing](#125-tuples-as-return-values-and-argument-packing)\n",
    "  - [12.6 The `zip` and `enumerate` Functions](#126-the-zip-and-enumerate-functions)\n",
    "- [13. Sets](#13-sets)\n",
    "  - [13.1 Sets are Unordered Collections](#131-sets-are-unordered-collections)\n",
    "  - [13.2 Sets are Mutable](#132-sets-are-mutable)\n",
    "  - [13.3 Sets Support Set Operations](#133-sets-support-set-operations)\n",
    "  - [13.4 Frozensets are Immutable Sets](#134-frozensets-are-immutable-sets)\n",
    "- [14. List and Dictionary Comprehensions](#14-list-and-dictionary-comprehensions)\n",
    "  - [14.1 List Comprehensions](#141-list-comprehensions)\n",
    "  - [14.2 Dictionary Comprehensions](#142-dictionary-comprehensions)\n",
    "- [15. Files](#15-files)\n",
    "  - [15.1 Filenames and Paths](#151-filenames-and-paths)\n",
    "  - [15.2 Reading and Writing Files](#152-reading-and-writing-files)\n",
    "- [16. Object-Oriented Programming](#16-object-oriented-programming)\n",
    "  - [16.1 Programmer-Defined Types (Classes)](#161-programmer-defined-types-classes)\n",
    "  - [16.2 Attributes and Methods](#162-attributes-and-methods)\n",
    "  - [16.3 Class Attributes](#163-class-attributes)\n",
    "  - [16.4 Special Methods](#164-special-methods)\n",
    "  - [16.5 Modules and Packages](#165-modules-and-packages)\n",
    "  - [16.6 The Card Class in Action](#166-the-card-class-in-action)\n",
    "  - [16.7 The Deck Class](#167-the-deck-class)\n",
    "  - [16.8 The Deck Class in Action](#168-the-deck-class-in-action)\n",
    "  - [16.9 The Hand Class](#169-the-hand-class)\n",
    "  - [16.10 The Hand Class in Action](#1610-the-hand-class-in-action)\n",
    "  - [16.11 The BridgeHand Class](#1611-the-bridgeHand-class)\n",
    "  - [16.12 The BridgeHand Class in Action](#1612-the-bridgeHand-class-in-action)\n",
    "- [17. Cleanup](#17-cleanup)"
   ]
  },
  {
   "cell_type": "markdown",
   "id": "f27aa3e9",
   "metadata": {},
   "source": [
    "---\n",
    "# 1. Prerequisites\n",
    "---"
   ]
  },
  {
   "cell_type": "markdown",
   "id": "d0bc1de0",
   "metadata": {},
   "source": [
    "Let's make sure you have a working Python virtual environment.\n",
    "\n",
    "- If you don't already have a working environment, run the code below in a terminal (Windows/Linux: `Ctrl + J`, MacOS: `Cmd + J`).\n",
    "\n",
    "  ```bash\n",
    "  conda create -y -p ./.conda python=3.12\n",
    "  conda activate ./.conda\n",
    "  python -m pip install --upgrade pip\n",
    "  pip install ipykernel jupyter pylance numpy pandas matplotlib seaborn bokeh plotly\n",
    "  pip install dash dash-bootstrap-components openpyxl lxml pycountry\n",
    "  ```\n",
    "\n",
    "- Then, make sure you have chosen that environment by clicking `Select Kernel` in the top right of this Notebook.\n",
    "\n",
    "Alternatively, you can run this Notebook in Google CoLab.\n",
    "- Click [![Open In Colab](https://colab.research.google.com/assets/colab-badge.svg)](https://colab.research.google.com/github/paga-hb/C1VI1B_2025/blob/main/workshop1/python.ipynb)\n",
    "\n",
    "- In Google CoLab, choose `File -> Save a Copy in Drive`.\n",
    "- Now you can work through the Notebook cells in Google CoLab."
   ]
  },
  {
   "cell_type": "markdown",
   "id": "f3aa3231",
   "metadata": {},
   "source": [
    "---\n",
    "# 2. Python Basics\n",
    "---\n",
    "\n",
    "- We will run all Python code examples within this Notebook, but remember you can always place the code in a `.py` file, e.g. `main.py`, open a terminal (Windows/Linux: `Ctrl + J`, MacOS: `Cmd + J`) and execute the command `python main.py`, making sure you are running the command within the Python virtual environment (`conda activate ./.conda`)."
   ]
  },
  {
   "cell_type": "markdown",
   "id": "379cd8e0",
   "metadata": {},
   "source": [
    "---\n",
    "## 2.1 Basic Input and Output\n",
    "\n",
    "- Basic input is handled via the `input()` function, more specifically via the statement `line = input(prompt)`, where:\n",
    "  - `input()` is the function used for reading input from the terminal.\n",
    "  - `prompt` is a string with a prompt/message to the user.\n",
    "  - `line` is a variable that will hold the string the user entered in the terminal.\n",
    "- Basic output is handled via the `print()` function, more specifically via the statement `print(message)`, where:\n",
    "  - `print()` is the function used for writing output to the terminal.\n",
    "  - `message` is the string that will be written to the terminal.\n",
    "\n",
    "In the cell below, the `input()` statement is commented, since it won't work in a Notebook cell.\n",
    "\n",
    "Run the cell below to the the output generated by the `print()` function."
   ]
  },
  {
   "cell_type": "code",
   "execution_count": 2,
   "id": "8d0042a2",
   "metadata": {},
   "outputs": [
    {
     "name": "stdout",
     "output_type": "stream",
     "text": [
      "Hello World!\n"
     ]
    }
   ],
   "source": [
    "# line = input(\"Prompt: \")\n",
    "print(\"Hello World!\")"
   ]
  },
  {
   "cell_type": "markdown",
   "id": "1c599938",
   "metadata": {},
   "source": [
    "---\n",
    "## 2.2 Basic Data Types\n",
    "\n",
    "The basic data types in Python are:\n",
    "- `int` which is an integer number such as `42`\n",
    "- `float` which is a floating point number such as `42.0`\n",
    "- `str` which is a string such as `\"42\"`\n",
    "- `bool` which is a boolean such as `True` or `False`\n",
    "\n",
    "We can determine the type of any litteral, variable, or expression by passing them to the `type()` function."
   ]
  },
  {
   "cell_type": "code",
   "execution_count": 9,
   "id": "ef12e82b",
   "metadata": {},
   "outputs": [
    {
     "name": "stdout",
     "output_type": "stream",
     "text": [
      "<class 'int'>\n",
      "<class 'float'>\n",
      "<class 'str'>\n",
      "<class 'bool'>\n"
     ]
    }
   ],
   "source": [
    "print( type(42) )\n",
    "print( type(42.0) )\n",
    "print( type(\"42\") )\n",
    "print( type(True) )"
   ]
  },
  {
   "cell_type": "markdown",
   "id": "aab0c793",
   "metadata": {},
   "source": [
    "**Note**\n",
    "\n",
    "Python is a dynamically typed language, so no data types are explicitly stated in code."
   ]
  },
  {
   "cell_type": "markdown",
   "id": "c611be40",
   "metadata": {},
   "source": [
    "---\n",
    "## 2.3 Arithmetic Operators\n",
    "\n",
    "The arithmetic operators are:\n",
    "- `+` for addition\n",
    "- `-` for subtraction (and negation)\n",
    "- `*` for multiplication\n",
    "- `/` for division (yields a `float`)\n",
    "- `//` for integer division (yields an `int`)\n",
    "- `%` for the remainder (modulus) from integer division\n",
    "- `**` for exponentiation"
   ]
  },
  {
   "cell_type": "code",
   "execution_count": 10,
   "id": "2deb7c59",
   "metadata": {},
   "outputs": [
    {
     "name": "stdout",
     "output_type": "stream",
     "text": [
      "42\n",
      "42\n",
      "42\n",
      "42.0\n",
      "42\n",
      "0\n",
      "49\n"
     ]
    }
   ],
   "source": [
    "print( 30 + 12 )\n",
    "print( 43 - 1 )\n",
    "print( 6 * 7 )\n",
    "print( 84 / 2 )\n",
    "print( 84 // 2 )\n",
    "print( 84 % 2 )\n",
    "print( 7 ** 2 )"
   ]
  },
  {
   "cell_type": "markdown",
   "id": "9e112d9c",
   "metadata": {},
   "source": [
    "---\n",
    "## 2.4 Expressions and Operator Precedence\n",
    "\n",
    "- An expression is any combination of values, variables, operators, and function calls that can be evaluated to produce another value.\n",
    "\n",
    "- Operator precedence follows the evaluation order you might be familiar with from math or another C-based language. \n",
    "\n",
    "- You can control the evaluation order of sub-expressions using parentheses.\n",
    "\n",
    "- For more about operator precedence in Python, see [operator-precedence](https://docs.python.org/3/reference/expressions.html#operator-precedence)"
   ]
  },
  {
   "cell_type": "code",
   "execution_count": 12,
   "id": "96317f10",
   "metadata": {},
   "outputs": [
    {
     "name": "stdout",
     "output_type": "stream",
     "text": [
      "14\n",
      "42\n",
      "102\n"
     ]
    }
   ],
   "source": [
    "a = 1\n",
    "b = 2\n",
    "print( 2 * 3 + a * b + len(\"hello!\") )\n",
    "print( 12 + 5 * 6 )\n",
    "print( (12 + 5) * 6 )"
   ]
  },
  {
   "cell_type": "markdown",
   "id": "02efd22d",
   "metadata": {},
   "source": [
    "---\n",
    "## 2.5 Functions\n",
    "\n",
    "- Functions in Python are called with a comma-separated list of arguments within parentheses, and can return a value.\n",
    "- Some functions are built in to the language, e.g. the functions `round()` (rounds a number) and `abs()` (returns a number’s absolute value).\n",
    "- Any function that returns a value can be used\n",
    "as an expression."
   ]
  },
  {
   "cell_type": "code",
   "execution_count": 15,
   "id": "052afe30",
   "metadata": {},
   "outputs": [
    {
     "name": "stdout",
     "output_type": "stream",
     "text": [
      "42\n",
      "43\n",
      "42.68\n",
      "42\n",
      "42\n",
      "43\n"
     ]
    }
   ],
   "source": [
    "print( round(42.4) )\n",
    "print( round(42.6) )\n",
    "print( round(42.678, 2) )\n",
    "print( abs(42) )\n",
    "print( abs(-42) )\n",
    "print( abs(42) + 1 )"
   ]
  },
  {
   "cell_type": "markdown",
   "id": "d10f8073",
   "metadata": {},
   "source": [
    "---\n",
    "## 2.6 Strings\n",
    "\n",
    "- To write a string, put a sequence of characters inside single `'` or double `\"` quotation marks.\n",
    "- To concatenate two strings, use the string concatenation operator `+`\n",
    "- Multiplying `*` a string with a number, makes that many copies of the string and concatenates them.\n",
    "- The `len()` function returns the length of a string (number or characters).\n",
    "- The type of a string is `str`"
   ]
  },
  {
   "cell_type": "code",
   "execution_count": 16,
   "id": "5e387c3c",
   "metadata": {},
   "outputs": [
    {
     "name": "stdout",
     "output_type": "stream",
     "text": [
      "Hello\n",
      "World\n",
      "Hello World\n",
      "Spam, Spam, Spam, Spam, \n",
      "4\n",
      "<class 'str'>\n"
     ]
    }
   ],
   "source": [
    "print( 'Hello' )\n",
    "print( \"World\" )\n",
    "print( \"Hello\" + \" \" + \"World\" )\n",
    "print( \"Spam, \" * 4 )\n",
    "print( len(\"Spam\") )\n",
    "print( type(\"Spam\") )"
   ]
  },
  {
   "cell_type": "markdown",
   "id": "3941e0c2",
   "metadata": {},
   "source": [
    "---\n",
    "## 2.7 Type Conversion\n",
    "\n",
    "- Every value has a type\n",
    "  - `2` is an integer number with data type `int`\n",
    "  - `42.0` is a floating point number with data type `float`\n",
    "  - `'Hello'` is a string with data type `str`\n",
    "  - `True` or `False` is a boolean with data type `bool`\n",
    "- The built-in function `type()` returns the type of a value\n",
    "- A set of built-in functions convert one type to another.\n",
    "  - `int()` converts a value to an `int`\n",
    "  - `float()` converts a value to an `float`\n",
    "  - `str()` converts a value to an `str`"
   ]
  },
  {
   "cell_type": "code",
   "execution_count": 18,
   "id": "676df726",
   "metadata": {},
   "outputs": [
    {
     "name": "stdout",
     "output_type": "stream",
     "text": [
      "42\n",
      "42\n",
      "42.0\n",
      "42.0\n",
      "42\n",
      "42.0\n"
     ]
    }
   ],
   "source": [
    "print( int(42.9) )\n",
    "print( int('42') )\n",
    "print( float(42) )\n",
    "print( float('42.0') )\n",
    "print( str(42) )\n",
    "print( str(42.0) )"
   ]
  },
  {
   "cell_type": "markdown",
   "id": "7cb0acaf",
   "metadata": {},
   "source": [
    "---\n",
    "# 3. Variables and Statements\n",
    "---"
   ]
  },
  {
   "cell_type": "markdown",
   "id": "b3d043f4",
   "metadata": {},
   "source": [
    "## 3.1 Variables\n",
    "\n",
    "- A variable is a name that refers to a value.\n",
    "- To create a variable, we can write an assignment statement.\n",
    "- Variables are dynamically typed, so a variable can change types during the execution of a program.\n",
    "- A variable can be used in an expression or as an argument when calling a function."
   ]
  },
  {
   "cell_type": "code",
   "execution_count": 2,
   "id": "58584dbf",
   "metadata": {},
   "outputs": [
    {
     "name": "stdout",
     "output_type": "stream",
     "text": [
      "17\n",
      "3.14\n",
      "string\n",
      "True\n",
      "<class 'bool'>\n",
      "17\n",
      "<class 'int'>\n",
      "42\n",
      "3\n",
      "6\n"
     ]
    }
   ],
   "source": [
    "n = 17\n",
    "print( n )\n",
    "\n",
    "pi = 3.14\n",
    "print( pi )\n",
    "\n",
    "msg = 'string'\n",
    "print( msg )\n",
    "\n",
    "b = True\n",
    "print( b )\n",
    "print( type(b) )\n",
    "\n",
    "b = 17\n",
    "print( b )\n",
    "print( type(b) )\n",
    "\n",
    "print( n + 25 )\n",
    "print( round(pi) )\n",
    "print( len(msg) )"
   ]
  },
  {
   "cell_type": "markdown",
   "id": "0cd80a40",
   "metadata": {},
   "source": [
    "---\n",
    "## 3.2 Variable Names and Keywords\n",
    "\n",
    "- Variable names can contain letters, numbers, and the underscore character `_`, but they can’t begin with a number.\n",
    "- By convention, only lower case is for variable names, and, in names with multiple words, each name is separated\n",
    "with an underscore `_` (a.k.a. snake case).\n",
    "- Python is case sensitive, so `a1` and `A1` are different variables.\n",
    "- Keywords can’t be used as variable names, e.g. `False`, `None`, `True`, `and`, `as`, `assert`, `async`, `await`, `break`, `class`, `continue`, `def`, `del`, `elif`, `else`, `except`, `finally`, `for`, `from`, `global`, `if`, `import`, `in`, `is`, `lambda`, `nonlocal`, `not`, `or`, `pass`, `raise`, `return`, `try`, `while`, `with`, and `yield`. "
   ]
  },
  {
   "cell_type": "code",
   "execution_count": 4,
   "id": "40eacc00",
   "metadata": {},
   "outputs": [
    {
     "name": "stdout",
     "output_type": "stream",
     "text": [
      "5\n",
      "john doe\n",
      "1\n",
      "2\n"
     ]
    }
   ],
   "source": [
    "id_2 = 5\n",
    "print( id_2 )\n",
    "\n",
    "your_name = 'john doe'\n",
    "print( your_name )\n",
    "\n",
    "a1 = 1\n",
    "print( a1 )\n",
    "\n",
    "A1 = 2\n",
    "print( A1 )"
   ]
  },
  {
   "cell_type": "markdown",
   "id": "81738fac",
   "metadata": {},
   "source": [
    "---\n",
    "## 3.3 The `import` Statement\n",
    "\n",
    "- In order to use additional features from a module, e.g. the `math` module, you have to import them.\n",
    "- A module is a collection of variables, functions and classes.\n",
    "- To use a variable, function or a class in an imported module, you have to use the dot operator `.` between the name of the module and the name of the variable, function or class.\n",
    "- The `math` module includes a variable `pi` with the value of the mathematical constant $\\pi$ π, a `sqrt()` function that computes square roots, and a `pow()` function that raises one number to the power of another number.\n",
    "- A module’s variables, functions and classes can also be imported individually from the module, which means the module’s name and the dot operator can be omitted."
   ]
  },
  {
   "cell_type": "code",
   "execution_count": 1,
   "id": "dd61861f",
   "metadata": {},
   "outputs": [
    {
     "name": "stdout",
     "output_type": "stream",
     "text": [
      "3.141592653589793\n",
      "5.0\n",
      "25.0\n",
      "3.141592653589793\n",
      "5.0\n"
     ]
    }
   ],
   "source": [
    "import math\n",
    "print( math.pi )\n",
    "print( math.sqrt(25) )\n",
    "print( math.pow(5, 2) )\n",
    "\n",
    "from math import pi\n",
    "print( math.pi )\n",
    "\n",
    "from math import sqrt\n",
    "print( sqrt(25) )"
   ]
  },
  {
   "cell_type": "markdown",
   "id": "b7c42a6c",
   "metadata": {},
   "source": [
    "---\n",
    "## 3.4 Expressions vs Statement\n",
    "\n",
    "- Expressions are evaluated to a value.\n",
    "- Statements are executed and have an effect but no value."
   ]
  },
  {
   "cell_type": "code",
   "execution_count": 3,
   "id": "8631e431",
   "metadata": {},
   "outputs": [
    {
     "name": "stdout",
     "output_type": "stream",
     "text": [
      "42\n"
     ]
    }
   ],
   "source": [
    "import math\n",
    "n = 17\n",
    "\n",
    "print( 19 + n + round(math.pi) * 2 )"
   ]
  },
  {
   "cell_type": "markdown",
   "id": "ba30d55b",
   "metadata": {},
   "source": [
    "---\n",
    "## 3.5 The `print` Function\n",
    "\n",
    "- The `print()` function outputs text to standard output, i.e. the terminal.\n",
    "- `print()` can also output sequences of expressions separated by commas.\n",
    "- String interpolation is accomplished by preceding a string with the letter `f` and inserting expressions in curly braces `{}` within the string.\n",
    "- Raw strings (parsed verbatim) are created by preceding a string with the letter `r`."
   ]
  },
  {
   "cell_type": "code",
   "execution_count": 5,
   "id": "f8093eab",
   "metadata": {},
   "outputs": [
    {
     "name": "stdout",
     "output_type": "stream",
     "text": [
      "17\n",
      "19\n",
      "3\n",
      "42\n",
      "The value of pi is approximately 3.141592653589793\n",
      "The value of pi is approximately 3.141592653589793\n",
      "The value of pi is approximately 3.141592653589793\n",
      "One\n",
      "Two\n",
      "One\\nTwo\n"
     ]
    }
   ],
   "source": [
    "n = 17\n",
    "print( n )\n",
    "print( 19 )\n",
    "print( round(pi) )\n",
    "print( 19 + n + round(pi) * 2 )\n",
    "\n",
    "print(\"The value of pi is approximately 3.141592653589793\")\n",
    "print(\"The value of pi is approximately\", math.pi)\n",
    "print(f\"The value of pi is approximately {math.pi}\")\n",
    "\n",
    "print(\"One\\nTwo\")\n",
    "print(r\"One\\nTwo\")"
   ]
  },
  {
   "cell_type": "markdown",
   "id": "a788cde9",
   "metadata": {},
   "source": [
    "---\n",
    "## 3.6 Arguments\n",
    "\n",
    "- When calling a function, the expression within parentheses is an argument.\n",
    "- Functions can be defined to take 0 to many arguments.\n",
    "- Some functions can take additional optional arguments.\n",
    "- Calling a function with too few/many arguments or arguments with incompatible types is a `TypeError`.\n",
    "\n",
    "**Note**\n",
    "\n",
    "- The first line below is commented out since the `input()` function won't work in a Notebook cell.\n",
    "- The last three code snippets, each within a `try` and `except` construct, are also examples of exception handling in Python."
   ]
  },
  {
   "cell_type": "code",
   "execution_count": 11,
   "id": "a9cc7eb2",
   "metadata": {},
   "outputs": [
    {
     "name": "stdout",
     "output_type": "stream",
     "text": [
      "5.0\n",
      "25.0\n",
      "Any number of arguments\n",
      "3\n",
      "3.14\n",
      "3.142\n",
      "float expected at most 1 argument, got 2\n",
      "pow expected 2 arguments, got 1\n",
      "must be real number, not str\n"
     ]
    }
   ],
   "source": [
    "# print( input() )\n",
    "print( math.sqrt(25) )\n",
    "print( math.pow(5, 2) )\n",
    "\n",
    "print('Any', 'number', 'of', 'arguments')\n",
    "\n",
    "print( round(math.pi) )\n",
    "print( round(math.pi, 2) )\n",
    "print( round(math.pi, 3) )\n",
    "\n",
    "try:\n",
    "    print( float('123', 0) )\n",
    "except Exception as e:\n",
    "    print( e )\n",
    "\n",
    "try:\n",
    "    print( math.pow(2) )\n",
    "except Exception as e:\n",
    "    print( e )\n",
    "\n",
    "try:\n",
    "    print( math.sqrt('123') )\n",
    "except Exception as e:\n",
    "    print( e )"
   ]
  },
  {
   "cell_type": "markdown",
   "id": "e8d67f98",
   "metadata": {},
   "source": [
    "---\n",
    "## 3.7 Comments\n",
    "\n",
    "- A comment is created with the hash character `#`, where anything following `#` on a line is part of the comment.\n",
    "- A multi-line comment is created within a pair of tripple quotes `\"\"\"`.\n",
    "- A multi-line comment can span multiple lines."
   ]
  },
  {
   "cell_type": "code",
   "execution_count": 15,
   "id": "39381c4b",
   "metadata": {},
   "outputs": [
    {
     "name": "stdout",
     "output_type": "stream",
     "text": [
      "8\n",
      "8\n",
      "8\n"
     ]
    }
   ],
   "source": [
    "# velocity in meters per second\n",
    "v = 8\n",
    "print(v)\n",
    "\n",
    "v = 8 # velocity in meters per second\n",
    "print(v)\n",
    "\n",
    "\"\"\"\n",
    "velocity\n",
    "in meters\n",
    "per second\n",
    "\"\"\"\n",
    "v = 8\n",
    "print(v)"
   ]
  },
  {
   "cell_type": "markdown",
   "id": "456b8a85",
   "metadata": {},
   "source": [
    "---\n",
    "# 4. Functions\n",
    "---"
   ]
  },
  {
   "cell_type": "markdown",
   "id": "3be1c203",
   "metadata": {},
   "source": [
    "## 4.1 Defining New Functions\n",
    "\n",
    "- A function definition has\n",
    "  - a function header, consisting of the keyword `def`, the function’s name, a comma-separated parameter list within parentheses `()`, and a colon `:`\n",
    "  - a function body, consisting of an indented block of statements, including a `return` value statement if the function returns a value (e.g. `return 0`).\n",
    "- Any legal variable name is also a legal function name.\n",
    "- An empty parameter list indicates the function takes no arguments.\n",
    "- Defining a function creates a function object of type `function`.\n",
    "- We call a function using its name, passing in arguments to the parameters (if any) within parentheses `()`.\n",
    "- When calling a function, it executes the statements in the body, returning the function’s value (if any).\n",
    "\n",
    "**Note**\n",
    "\n",
    "Since Python uses indentation to create a code block (as opposed to curly braces in other C-based languages), a function with an empty function body is created with the keyword `pass` (with basically means *nothing*)."
   ]
  },
  {
   "cell_type": "code",
   "execution_count": 20,
   "id": "0c5af16b",
   "metadata": {},
   "outputs": [
    {
     "name": "stdout",
     "output_type": "stream",
     "text": [
      "<class 'function'>\n",
      "3\n"
     ]
    }
   ],
   "source": [
    "def add(a, b):   # function header\n",
    "    sum = a + b  # function\n",
    "    return sum   # body\n",
    "\n",
    "print( type(add) )\n",
    "\n",
    "ans = add(1, 2)  # call the function\n",
    "print( ans )\n",
    "\n",
    "def empty_function():\n",
    "    pass              # empty function body needs a \"pass\""
   ]
  },
  {
   "cell_type": "markdown",
   "id": "748f2d11",
   "metadata": {},
   "source": [
    "---\n",
    "## 4.2 Parameters and Return Values\n",
    "\n",
    "- A function can have zero to many parameters.\n",
    "- When the function is called, the values of arguments passed to the function are assigned to the function’s parameters.\n",
    "- Values, variables, and expressions can be passed as arguments to a function.\n",
    "- A function that doesn’t explicitly return a value, implicitly returns the value `None`, which is of type `NoneType`."
   ]
  },
  {
   "cell_type": "code",
   "execution_count": 23,
   "id": "7eba74b7",
   "metadata": {},
   "outputs": [
    {
     "name": "stdout",
     "output_type": "stream",
     "text": [
      "None\n",
      "<class 'NoneType'>\n",
      "I'm a lumberjack, and I'm okay.\n",
      "I sleep all night and I work all day.\n",
      "Dennis Moore, \n",
      "Dennis Moore, \n",
      "3\n"
     ]
    }
   ],
   "source": [
    "def f(a, b):\n",
    "    res = a + b # no explicit return value (returns \"None\")\n",
    "\n",
    "ans = f(1, 2)   # call function\n",
    "print( ans )\n",
    "print( type(ans) )\n",
    "\n",
    "def print_lyrics(): # no parameters\n",
    "    print(\"I'm a lumberjack, and I'm okay.\")\n",
    "    print(\"I sleep all night and I work all day.\")\n",
    "\n",
    "print_lyrics()      # call function (no arguments)\n",
    "\n",
    "def print_twice(string):      # one parameter\n",
    "    print(string)\n",
    "    print(string)\n",
    "\n",
    "print_twice(\"Dennis Moore, \") # call function (one  argument)\n",
    "\n",
    "def add(a, b):  # two parameters\n",
    "    sum = a + b\n",
    "    return sum\n",
    "\n",
    "x = 1\n",
    "y = 2\n",
    "ans = add(x, y) # call function (two arguments)\n",
    "print(ans)"
   ]
  },
  {
   "cell_type": "markdown",
   "id": "9fdff821",
   "metadata": {},
   "source": [
    "---\n",
    "## 4.3 Calling Functions\n",
    "\n",
    "- We call a function using its name, passing in arguments to the parameters (if any) within parentheses `()`.\n",
    "- A function can call another function."
   ]
  },
  {
   "cell_type": "code",
   "execution_count": 24,
   "id": "e29da2d8",
   "metadata": {},
   "outputs": [
    {
     "name": "stdout",
     "output_type": "stream",
     "text": [
      "Spam, Spam, Spam, Spam, \n",
      "Spam, Spam, Spam, Spam, \n",
      "Spam, Spam, \n",
      "(Lovely Spam, Wonderful Spam!)\n",
      "Spam, Spam, \n"
     ]
    }
   ],
   "source": [
    "def repeat(word, n):\n",
    "    print(word * n)\n",
    "\n",
    "def first_two_lines():\n",
    "    repeat(spam, 4)\n",
    "    repeat(spam, 4)\n",
    "\n",
    "def last_three_lines():\n",
    "    repeat(spam, 2)\n",
    "    print('(Lovely Spam, Wonderful Spam!)')\n",
    "    repeat(spam, 2)\n",
    "\n",
    "def print_verse():\n",
    "    first_two_lines()\n",
    "    last_three_lines()\n",
    "\n",
    "spam = 'Spam, '\n",
    "print_verse()"
   ]
  },
  {
   "cell_type": "markdown",
   "id": "909e69c5",
   "metadata": {},
   "source": [
    "---\n",
    "## 4.4 Repetition with the `for` Loop\n",
    "\n",
    "- A `for` statement (loop) iterates (loops) over a block of statements a number of times.\n",
    "- A `for` loop has:\n",
    "  - a head, consisting of the keyword `for`, followed by variable(s), the keyword `in`, an iterable object, and a colon `:`\n",
    "  - a body, consisting of indented statements.\n",
    "- The simplest `for` loop has one loop variable and uses the built-in `range()` function to return an iterable sequence of numbers between `start` (inclusive, default `0`) and `stop` (exclusive) using a `step` size (default `1`).\n",
    "\n",
    "    ```python\n",
    "    range(stop)\n",
    "    range(start, stop)\n",
    "    range(start, stop, step)\n",
    "    ```"
   ]
  },
  {
   "cell_type": "code",
   "execution_count": 28,
   "id": "3a43caba",
   "metadata": {},
   "outputs": [
    {
     "name": "stdout",
     "output_type": "stream",
     "text": [
      "0\n",
      "1\n",
      "0\n",
      "1\n",
      "0\n",
      "1\n",
      "\n",
      "Verse 0\n",
      "Spam, Spam, Spam, Spam, \n",
      "Spam, Spam, Spam, Spam, \n",
      "Spam, Spam, \n",
      "(Lovely Spam, Wonderful Spam!)\n",
      "Spam, Spam, \n",
      "\n",
      "Verse 1\n",
      "Spam, Spam, Spam, Spam, \n",
      "Spam, Spam, Spam, Spam, \n",
      "Spam, Spam, \n",
      "(Lovely Spam, Wonderful Spam!)\n",
      "Spam, Spam, \n",
      "\n"
     ]
    }
   ],
   "source": [
    "for i in range(2):       # for loop with a \"range(stop)\"\n",
    "    print(i)\n",
    "\n",
    "for i in range(0, 2):    # for loop with a \"range(start, stop)\"\n",
    "    print(i)\n",
    "\n",
    "for i in range(0, 2, 1): # for loop with a \"range(start, stop, step)\"\n",
    "    print(i)\n",
    "\n",
    "print()\n",
    "\n",
    "def repeat(word, n):\n",
    "    print(word * n)\n",
    "\n",
    "def first_two_lines():\n",
    "    repeat(spam, 4)\n",
    "    repeat(spam, 4)\n",
    "\n",
    "def last_three_lines():\n",
    "    repeat(spam, 2)\n",
    "    print('(Lovely Spam, Wonderful Spam!)')\n",
    "    repeat(spam, 2)\n",
    "\n",
    "def print_verse():\n",
    "    first_two_lines()\n",
    "    last_three_lines()\n",
    "\n",
    "for i in range(2):     # for loop's header\n",
    "    print(\"Verse\", i)  # for\n",
    "    print_verse()      # loop's\n",
    "    print()            # body"
   ]
  },
  {
   "cell_type": "markdown",
   "id": "bc0b9dcd",
   "metadata": {},
   "source": [
    "---\n",
    "## 4.5 Variables and Parameters Are Local\n",
    "\n",
    "- When you create a variable inside a function’s body, it’s a **local variable**, which means that it only exists (visible) inside the function.\n",
    "- **Parameters are also local**, i.e. only exist (visible) inside the function.\n",
    "- Parameters and local variables are created when a function is called, and destroyed when the function returns.\n",
    "- **Global variables are created outside of any function (or class)**, exist throughout the program’s lifetime, and are accessible (visible) from anywhere inside the module (.py file).\n",
    "- If you want to **modify** a global variable inside a function’s body, you need to use the keyword `global`, to declare that it’s a global variable and not a local variable."
   ]
  },
  {
   "cell_type": "code",
   "execution_count": 39,
   "id": "0f4e02ed",
   "metadata": {},
   "outputs": [
    {
     "name": "stdout",
     "output_type": "stream",
     "text": [
      "Always look on the bright side of life.\n",
      "Always look on the bright side of life.\n",
      "name 'cat' is not defined\n",
      "\n",
      "3\n",
      "\n",
      "7\n"
     ]
    }
   ],
   "source": [
    "def print_twice(string):\n",
    "    print(string)\n",
    "    print(string)\n",
    "\n",
    "def cat_twice(part1, part2):\n",
    "    cat = part1 + part2      # \"cat\" is a local variable\n",
    "    print_twice(cat)\n",
    "\n",
    "line1 = 'Always look on the '\n",
    "line2 = 'bright side of life.'\n",
    "cat_twice(line1, line2)\n",
    "\n",
    "try:\n",
    "    print(cat) # cat not defined here\n",
    "except Exception as e:\n",
    "    print(e)\n",
    "\n",
    "print()\n",
    "\n",
    "c = 3 # global variable\n",
    "\n",
    "def add(a,b):\n",
    "    return a + b + c # function uses (reads) global variable\n",
    "\n",
    "add(1,2)\n",
    "print(c) # global variable unmodified\n",
    "\n",
    "print()\n",
    "\n",
    "c = 3 # global variable\n",
    "\n",
    "def add(a,b):\n",
    "    global c # need \"global c\" here, since\n",
    "    c = 7    # function modifies global variable\n",
    "    return a + b + c\n",
    "\n",
    "add(1,2)\n",
    "print(c) # global variable modified"
   ]
  },
  {
   "cell_type": "markdown",
   "id": "ca4d9750",
   "metadata": {},
   "source": [
    "---\n",
    "## 4.6 Tracebacks\n",
    "\n",
    "- When a runtime error occurs in a function, Python displays the name of the function that was running, the name of the function that called it, and so on, up the function call stack."
   ]
  },
  {
   "cell_type": "code",
   "execution_count": 42,
   "id": "48db6d80",
   "metadata": {},
   "outputs": [
    {
     "ename": "NameError",
     "evalue": "name 'cat' is not defined",
     "output_type": "error",
     "traceback": [
      "\u001b[31m---------------------------------------------------------------------------\u001b[39m",
      "\u001b[31mNameError\u001b[39m                                 Traceback (most recent call last)",
      "\u001b[36mCell\u001b[39m\u001b[36m \u001b[39m\u001b[32mIn[42]\u001b[39m\u001b[32m, line 11\u001b[39m\n\u001b[32m      9\u001b[39m line1 = \u001b[33m'\u001b[39m\u001b[33mAlways look on the \u001b[39m\u001b[33m'\u001b[39m\n\u001b[32m     10\u001b[39m line2 = \u001b[33m'\u001b[39m\u001b[33mbright side of life.\u001b[39m\u001b[33m'\u001b[39m\n\u001b[32m---> \u001b[39m\u001b[32m11\u001b[39m \u001b[43mcat_twice\u001b[49m\u001b[43m(\u001b[49m\u001b[43mline1\u001b[49m\u001b[43m,\u001b[49m\u001b[43m \u001b[49m\u001b[43mline2\u001b[49m\u001b[43m)\u001b[49m\n",
      "\u001b[36mCell\u001b[39m\u001b[36m \u001b[39m\u001b[32mIn[42]\u001b[39m\u001b[32m, line 7\u001b[39m, in \u001b[36mcat_twice\u001b[39m\u001b[34m(part1, part2)\u001b[39m\n\u001b[32m      5\u001b[39m \u001b[38;5;28;01mdef\u001b[39;00m\u001b[38;5;250m \u001b[39m\u001b[34mcat_twice\u001b[39m(part1, part2):\n\u001b[32m      6\u001b[39m     cat = part1 + part2 \u001b[38;5;66;03m# \"cat\" is a local variable\u001b[39;00m\n\u001b[32m----> \u001b[39m\u001b[32m7\u001b[39m     \u001b[43mprint_twice\u001b[49m\u001b[43m(\u001b[49m\u001b[43mcat\u001b[49m\u001b[43m)\u001b[49m\n",
      "\u001b[36mCell\u001b[39m\u001b[36m \u001b[39m\u001b[32mIn[42]\u001b[39m\u001b[32m, line 2\u001b[39m, in \u001b[36mprint_twice\u001b[39m\u001b[34m(string)\u001b[39m\n\u001b[32m      1\u001b[39m \u001b[38;5;28;01mdef\u001b[39;00m\u001b[38;5;250m \u001b[39m\u001b[34mprint_twice\u001b[39m(string):\n\u001b[32m----> \u001b[39m\u001b[32m2\u001b[39m     \u001b[38;5;28mprint\u001b[39m(\u001b[43mcat\u001b[49m) \u001b[38;5;66;03m# \"cat\" is not defined here (causes a \"NameError\")\u001b[39;00m\n\u001b[32m      3\u001b[39m     \u001b[38;5;28mprint\u001b[39m(string)\n",
      "\u001b[31mNameError\u001b[39m: name 'cat' is not defined"
     ]
    }
   ],
   "source": [
    "def print_twice(string):\n",
    "    print(cat) # \"cat\" is not defined here (causes a \"NameError\")\n",
    "    print(string)\n",
    "\n",
    "def cat_twice(part1, part2):\n",
    "    cat = part1 + part2 # \"cat\" is a local variable\n",
    "    print_twice(cat)\n",
    "\n",
    "line1 = 'Always look on the '\n",
    "line2 = 'bright side of life.'\n",
    "cat_twice(line1, line2)"
   ]
  },
  {
   "cell_type": "markdown",
   "id": "48879052",
   "metadata": {},
   "source": [
    "---\n",
    "# 5. Functions and Interfaces\n",
    "---"
   ]
  },
  {
   "cell_type": "markdown",
   "id": "0a3e55f8",
   "metadata": {},
   "source": [
    "## 5.1 The `jupyturtle` Module\n",
    "\n",
    "- The `jupyturtle` module allows you to create simple drawings by giving instructions to an imaginary turtle.\n",
    "- To use the `jupyturtle` module:\n",
    "\n",
    "    ```python\n",
    "    pip install jupyturtle\n",
    "    ```\n",
    "\n",
    "- `make_turtle()` creates a Turtle instance on a `Canvas` surface.\n",
    "- `forward(n)` moves the turtle forward `n` pixels.\n",
    "- `left(a)` and `right(a)` rotates the turtle `a` degrees."
   ]
  },
  {
   "cell_type": "code",
   "execution_count": null,
   "id": "69cef696",
   "metadata": {},
   "outputs": [],
   "source": [
    "!pip install jupyturtle"
   ]
  },
  {
   "cell_type": "code",
   "execution_count": 46,
   "id": "17e31f87",
   "metadata": {},
   "outputs": [
    {
     "data": {
      "text/html": [
       "<svg width=\"300\" height=\"150\" style=\"fill:none; stroke-linecap:round;\">\n",
       "    <rect width=\"100%\" height=\"100%\" fill=\"#F3F3F7\" />\n",
       "\n",
       "\n",
       "<path stroke=\"#663399\" stroke-width=\"2\" d=\"M 150,75 200,75 200,25\" />'\n",
       "\n",
       "<g transform=\"rotate(180.0,200.0,25.0) translate(200.0, 25.0)\">\n",
       "    <circle stroke=\"#63A375\" stroke-width=\"2\" fill=\"transparent\" r=\"5.5\" cx=\"0\" cy=\"0\"/>\n",
       "    <polygon points=\"0,12 2,9 -2,9\" style=\"fill:#63A375;stroke:#63A375;stroke-width:2\"/>\n",
       "</g>\n",
       "\n",
       "</svg>"
      ],
      "text/plain": [
       "<IPython.core.display.HTML object>"
      ]
     },
     "metadata": {},
     "output_type": "display_data"
    }
   ],
   "source": [
    "from jupyturtle import make_turtle\n",
    "from jupyturtle import forward, left, right\n",
    "\n",
    "make_turtle()\n",
    "forward(50)\n",
    "left(90)\n",
    "forward(50)"
   ]
  },
  {
   "cell_type": "markdown",
   "id": "5885a56f",
   "metadata": {},
   "source": [
    "---\n",
    "## 5.2 Making a Square\n",
    "\n",
    "- Combining four sets of function calls draws a square."
   ]
  },
  {
   "cell_type": "code",
   "execution_count": 48,
   "id": "af779a1f",
   "metadata": {},
   "outputs": [
    {
     "data": {
      "text/html": [
       "<svg width=\"300\" height=\"150\" style=\"fill:none; stroke-linecap:round;\">\n",
       "    <rect width=\"100%\" height=\"100%\" fill=\"#F3F3F7\" />\n",
       "\n",
       "\n",
       "<path stroke=\"#663399\" stroke-width=\"2\" d=\"M 150,75 200,75 200,25 150,25 150,75\" />'\n",
       "\n",
       "<g transform=\"rotate(-90.0,150.0,75.0) translate(150.0, 75.0)\">\n",
       "    <circle stroke=\"#63A375\" stroke-width=\"2\" fill=\"transparent\" r=\"5.5\" cx=\"0\" cy=\"0\"/>\n",
       "    <polygon points=\"0,12 2,9 -2,9\" style=\"fill:#63A375;stroke:#63A375;stroke-width:2\"/>\n",
       "</g>\n",
       "\n",
       "</svg>"
      ],
      "text/plain": [
       "<IPython.core.display.HTML object>"
      ]
     },
     "metadata": {},
     "output_type": "display_data"
    }
   ],
   "source": [
    "make_turtle()\n",
    "\n",
    "forward(50)\n",
    "left(90)\n",
    "\n",
    "forward(50)\n",
    "left(90)\n",
    "\n",
    "forward(50)\n",
    "left(90)\n",
    "\n",
    "forward(50)\n",
    "left(90)"
   ]
  },
  {
   "cell_type": "markdown",
   "id": "277b983e",
   "metadata": {},
   "source": [
    "- We can also use a for loop."
   ]
  },
  {
   "cell_type": "code",
   "execution_count": 49,
   "id": "9e08c2a5",
   "metadata": {},
   "outputs": [
    {
     "data": {
      "text/html": [
       "<svg width=\"300\" height=\"150\" style=\"fill:none; stroke-linecap:round;\">\n",
       "    <rect width=\"100%\" height=\"100%\" fill=\"#F3F3F7\" />\n",
       "\n",
       "\n",
       "<path stroke=\"#663399\" stroke-width=\"2\" d=\"M 150,75 200,75 200,25 150,25 150,75\" />'\n",
       "\n",
       "<g transform=\"rotate(-90.0,150.0,75.0) translate(150.0, 75.0)\">\n",
       "    <circle stroke=\"#63A375\" stroke-width=\"2\" fill=\"transparent\" r=\"5.5\" cx=\"0\" cy=\"0\"/>\n",
       "    <polygon points=\"0,12 2,9 -2,9\" style=\"fill:#63A375;stroke:#63A375;stroke-width:2\"/>\n",
       "</g>\n",
       "\n",
       "</svg>"
      ],
      "text/plain": [
       "<IPython.core.display.HTML object>"
      ]
     },
     "metadata": {},
     "output_type": "display_data"
    }
   ],
   "source": [
    "make_turtle()\n",
    "\n",
    "for i in range(4):\n",
    "    forward(50)\n",
    "    left(90)"
   ]
  },
  {
   "cell_type": "markdown",
   "id": "640c7e7b",
   "metadata": {},
   "source": [
    "---\n",
    "## 5.3 Encapsulation and Generalization\n",
    "\n",
    "- We can also place the square-drawing code in a function called square.\n",
    "- Wrapping a piece of code up in a function is called encapsulation, and also means we can reuse the square-drawing code any time we like by calling the function.\n",
    "- We can add the length of the sides as a parameter, so that we can draw squares with different sizes.\n",
    "- Adding a parameter to a function is called generalization because it makes the function more general."
   ]
  },
  {
   "cell_type": "code",
   "execution_count": 50,
   "id": "850c5c55",
   "metadata": {},
   "outputs": [
    {
     "data": {
      "text/html": [
       "<svg width=\"300\" height=\"150\" style=\"fill:none; stroke-linecap:round;\">\n",
       "    <rect width=\"100%\" height=\"100%\" fill=\"#F3F3F7\" />\n",
       "\n",
       "\n",
       "<path stroke=\"#663399\" stroke-width=\"2\" d=\"M 150,75 200,75 200,25 150,25 150,75\" />'\n",
       "\n",
       "<g transform=\"rotate(-90.0,150.0,75.0) translate(150.0, 75.0)\">\n",
       "    <circle stroke=\"#63A375\" stroke-width=\"2\" fill=\"transparent\" r=\"5.5\" cx=\"0\" cy=\"0\"/>\n",
       "    <polygon points=\"0,12 2,9 -2,9\" style=\"fill:#63A375;stroke:#63A375;stroke-width:2\"/>\n",
       "</g>\n",
       "\n",
       "</svg>"
      ],
      "text/plain": [
       "<IPython.core.display.HTML object>"
      ]
     },
     "metadata": {},
     "output_type": "display_data"
    }
   ],
   "source": [
    "def square():\n",
    "    for i in range(4):\n",
    "        forward(50)\n",
    "        left(90)\n",
    "\n",
    "make_turtle()\n",
    "square()"
   ]
  },
  {
   "cell_type": "markdown",
   "id": "ed6e7431",
   "metadata": {},
   "source": [
    "- If we add another parameter, for the number of sizes, we can make it even more general.\n",
    "- We can now draw polygons, so the function is renamed to `polygon`.\n",
    "- When calling a function with multiple arguments, it is easy to forget what they are, or what order they should be in, so we can include the names of the parameters in the argument list.\n",
    "- These are called keyword arguments (as opposed to the normal positional arguments), where the arguments are assigned to the parameters using the assignment operator `=`."
   ]
  },
  {
   "cell_type": "code",
   "execution_count": 52,
   "id": "790007b0",
   "metadata": {},
   "outputs": [
    {
     "data": {
      "text/html": [
       "<svg width=\"300\" height=\"150\" style=\"fill:none; stroke-linecap:round;\">\n",
       "    <rect width=\"100%\" height=\"100%\" fill=\"#F3F3F7\" />\n",
       "\n",
       "\n",
       "<path stroke=\"#663399\" stroke-width=\"2\" d=\"M 150,75 180,75 198.7,51.5 192,22.3 165,9.3 138,22.3 131.3,51.5 150,75\" />'\n",
       "\n",
       "<g transform=\"rotate(270.0,150.0,75.0) translate(150.0, 75.0)\">\n",
       "    <circle stroke=\"#63A375\" stroke-width=\"2\" fill=\"transparent\" r=\"5.5\" cx=\"0\" cy=\"0\"/>\n",
       "    <polygon points=\"0,12 2,9 -2,9\" style=\"fill:#63A375;stroke:#63A375;stroke-width:2\"/>\n",
       "</g>\n",
       "\n",
       "</svg>"
      ],
      "text/plain": [
       "<IPython.core.display.HTML object>"
      ]
     },
     "metadata": {},
     "output_type": "display_data"
    },
    {
     "data": {
      "text/html": [
       "<svg width=\"300\" height=\"150\" style=\"fill:none; stroke-linecap:round;\">\n",
       "    <rect width=\"100%\" height=\"100%\" fill=\"#F3F3F7\" />\n",
       "\n",
       "\n",
       "<path stroke=\"#663399\" stroke-width=\"2\" d=\"M 150,75 180,75 198.7,51.5 192,22.3 165,9.3 138,22.3 131.3,51.5 150,75\" />'\n",
       "\n",
       "<g transform=\"rotate(270.0,150.0,75.0) translate(150.0, 75.0)\">\n",
       "    <circle stroke=\"#63A375\" stroke-width=\"2\" fill=\"transparent\" r=\"5.5\" cx=\"0\" cy=\"0\"/>\n",
       "    <polygon points=\"0,12 2,9 -2,9\" style=\"fill:#63A375;stroke:#63A375;stroke-width:2\"/>\n",
       "</g>\n",
       "\n",
       "</svg>"
      ],
      "text/plain": [
       "<IPython.core.display.HTML object>"
      ]
     },
     "metadata": {},
     "output_type": "display_data"
    }
   ],
   "source": [
    "def polygon(n, length):\n",
    "    angle = 360 / n\n",
    "    for i in range(n):\n",
    "        forward(length)\n",
    "        left(angle)\n",
    "\n",
    "make_turtle()\n",
    "polygon(7, 30) # using positional arguments\n",
    "\n",
    "make_turtle()\n",
    "polygon(n=7, length=30) # using keyword arguments"
   ]
  },
  {
   "cell_type": "markdown",
   "id": "e0bd7dc0",
   "metadata": {},
   "source": [
    "---\n",
    "## 5.4 Refactoring, Interface, and Implementation\n",
    "\n",
    "- We can reorganize our code with an additional function `polyline`.\n",
    "- Changes like this, which improve the code without changing its behavior, are called refactoring.\n",
    "- The design of a function has 2 parts:\n",
    "  - The interface is how the function is used, including its name, the parameters it takes and what the function is supposed to do (its header).\n",
    "  - The implementation is how the function does what it’s supposed to do (includes the function body)."
   ]
  },
  {
   "cell_type": "code",
   "execution_count": 53,
   "id": "67033212",
   "metadata": {},
   "outputs": [
    {
     "data": {
      "text/html": [
       "<svg width=\"300\" height=\"150\" style=\"fill:none; stroke-linecap:round;\">\n",
       "    <rect width=\"100%\" height=\"100%\" fill=\"#F3F3F7\" />\n",
       "\n",
       "\n",
       "<path stroke=\"#663399\" stroke-width=\"2\" d=\"M 150,75 180,75 198.7,51.5 192,22.3 165,9.3 138,22.3 131.3,51.5 150,75\" />'\n",
       "\n",
       "<g transform=\"rotate(270.0,150.0,75.0) translate(150.0, 75.0)\">\n",
       "    <circle stroke=\"#63A375\" stroke-width=\"2\" fill=\"transparent\" r=\"5.5\" cx=\"0\" cy=\"0\"/>\n",
       "    <polygon points=\"0,12 2,9 -2,9\" style=\"fill:#63A375;stroke:#63A375;stroke-width:2\"/>\n",
       "</g>\n",
       "\n",
       "</svg>"
      ],
      "text/plain": [
       "<IPython.core.display.HTML object>"
      ]
     },
     "metadata": {},
     "output_type": "display_data"
    }
   ],
   "source": [
    "def polyline(n, length, angle):\n",
    "    for i in range(n):\n",
    "        forward(length)\n",
    "        left(angle)\n",
    "\n",
    "def polygon(n, length):\n",
    "    angle = 360.0 / n\n",
    "    polyline(n, length, angle)\n",
    "\n",
    "make_turtle()\n",
    "polygon(n=7, length=30)"
   ]
  },
  {
   "cell_type": "markdown",
   "id": "ad5eff03",
   "metadata": {},
   "source": [
    "---\n",
    "## 5.5 Docstrings\n",
    "\n",
    "- A **docstring** is a string at the beginning of a function that explains the interface (**doc** is short for **documentation**).\n",
    "- By convention, docstrings are triple-quoted strings, and should:\n",
    "  - Explain concisely what the function does, without getting into the details of how it works.\n",
    "  - Explain what effect each parameter has on the behavior of the function.\n",
    "  - Indicate what type each parameter should be, if it is not obvious."
   ]
  },
  {
   "cell_type": "code",
   "execution_count": 55,
   "id": "b5217a43",
   "metadata": {},
   "outputs": [
    {
     "data": {
      "text/html": [
       "<svg width=\"300\" height=\"150\" style=\"fill:none; stroke-linecap:round;\">\n",
       "    <rect width=\"100%\" height=\"100%\" fill=\"#F3F3F7\" />\n",
       "\n",
       "\n",
       "<path stroke=\"#663399\" stroke-width=\"2\" d=\"M 150,75 180,75 198.7,51.5 192,22.3 165,9.3 138,22.3 131.3,51.5 150,75\" />'\n",
       "\n",
       "<g transform=\"rotate(270.0,150.0,75.0) translate(150.0, 75.0)\">\n",
       "    <circle stroke=\"#63A375\" stroke-width=\"2\" fill=\"transparent\" r=\"5.5\" cx=\"0\" cy=\"0\"/>\n",
       "    <polygon points=\"0,12 2,9 -2,9\" style=\"fill:#63A375;stroke:#63A375;stroke-width:2\"/>\n",
       "</g>\n",
       "\n",
       "</svg>"
      ],
      "text/plain": [
       "<IPython.core.display.HTML object>"
      ]
     },
     "metadata": {},
     "output_type": "display_data"
    }
   ],
   "source": [
    "def polyline(n, length, angle):\n",
    "    \"\"\"Draws line segments with the given length and angle between them.\n",
    "\n",
    "    n: integer number of line segments\n",
    "    length: length of the line segments\n",
    "    angle: angle between segments (in degrees)\n",
    "    \"\"\"\n",
    "    \n",
    "    for i in range(n):\n",
    "        forward(length)\n",
    "        left(angle)\n",
    "\n",
    "make_turtle()\n",
    "polyline(n=7, length=30, angle=360.0/7)"
   ]
  },
  {
   "cell_type": "markdown",
   "id": "ce85382c",
   "metadata": {},
   "source": [
    "---\n",
    "# 6. Conditionals and Recursion\n",
    "---"
   ]
  },
  {
   "cell_type": "markdown",
   "id": "22cbe118",
   "metadata": {},
   "source": [
    "## 6.1 Boolean Expressions\n",
    "\n",
    "- A boolean expression is an expression that is either `True` or `False`.\n",
    "- The two values `True` and `False` are of type `bool`.\n",
    "\n",
    "The relational operators (which yield boolean results) are:\n",
    "\n",
    "| Operator | Description              | Example  |\n",
    "|:--------:|:-------------------------|:--------:|\n",
    "|   `==`   | Equals                   | `5 == 5` |\n",
    "|   `!=`   | Not equals               | `7 != 5` |\n",
    "|   `>`    | Greater than             | `7 > 5`  |\n",
    "|   `<`    | Less than                | `5 < 7`  |\n",
    "|   `>=`   | Greater than or equal to | `6 >= 6` |\n",
    "|   `<=`   | Less than or equal to    | `6 >= 6` |"
   ]
  },
  {
   "cell_type": "code",
   "execution_count": 58,
   "id": "3a424c7c",
   "metadata": {},
   "outputs": [
    {
     "name": "stdout",
     "output_type": "stream",
     "text": [
      "<class 'bool'>\n",
      "<class 'bool'>\n",
      "\n",
      "True\n",
      "False\n",
      "\n",
      "True\n",
      "False\n",
      "\n",
      "True\n",
      "False\n",
      "\n",
      "True\n",
      "False\n",
      "\n",
      "True\n",
      "False\n",
      "\n",
      "True\n",
      "False\n"
     ]
    }
   ],
   "source": [
    "print( type(True) )\n",
    "print( type(False) )\n",
    "\n",
    "print()\n",
    "\n",
    "print( 5 == 5 )\n",
    "print( 7 == 5 )\n",
    "\n",
    "print()\n",
    "\n",
    "print( 7 != 5 )\n",
    "print( 7 != 7 )\n",
    "\n",
    "print()\n",
    "\n",
    "print( 7 > 5 )\n",
    "print( 5 > 7 )\n",
    "\n",
    "print()\n",
    "\n",
    "print( 5 < 7 )\n",
    "print( 7 < 5 )\n",
    "\n",
    "print()\n",
    "\n",
    "print( 6 >= 6 )\n",
    "print( 6 >= 7 )\n",
    "\n",
    "print()\n",
    "\n",
    "print( 6 <= 6 )\n",
    "print( 6 <= 5 )"
   ]
  },
  {
   "cell_type": "markdown",
   "id": "a18ba6c3",
   "metadata": {},
   "source": [
    "---\n",
    "## 6.2 Logical Operators\n",
    "\n",
    "- To combine boolean values into expressions, we can use logical operators.\n",
    "- Any non-zero number is interpreted as `True`, else `False`.\n",
    "\n",
    "The logical operators (which yield boolean results) are:\n",
    "\n",
    "| Operator | Description              | Example         |\n",
    "|:--------:|:-------------------------|:---------------:|\n",
    "|  `and`   | `True` if both operands are `True`, else `False`    | `True and True` |\n",
    "|  `or`    | `True` if both or either operand is `True`, else `False` | `True or False` |\n",
    "|  `not`   | Negates operand (`False` if `True`, `True` if `False`)  | `not False`     |"
   ]
  },
  {
   "cell_type": "code",
   "execution_count": 59,
   "id": "1dcd877d",
   "metadata": {},
   "outputs": [
    {
     "name": "stdout",
     "output_type": "stream",
     "text": [
      "True\n",
      "False\n",
      "True\n",
      "True\n"
     ]
    }
   ],
   "source": [
    "print( 5 > 0 and 5 < 10 )\n",
    "print( 5 % 2 == 0 or 5 % 3 == 0 )\n",
    "print( not 5 > 10 )\n",
    "print( 42 and True )"
   ]
  },
  {
   "cell_type": "markdown",
   "id": "4f277cfc",
   "metadata": {},
   "source": [
    "---\n",
    "## 6.3 The `if` Statement\n",
    "\n",
    "- An `if` statement executes a block of statements if a condition is `True`.\n",
    "- An `if` statement has:\n",
    "  - a head, consisting of the keyword `if`, followed a boolean condition, and a colon `:`\n",
    "  - a body, consisting of indented statements to execute if the condition is `True`.\n",
    "- There is no limit to the number of statements that can appear in the block, but there has to be at least one.\n",
    "- Sometimes it’s useful to have a block that does nothing. In that case, use the keyword `pass`, which does nothing."
   ]
  },
  {
   "cell_type": "code",
   "execution_count": 61,
   "id": "100f05c0",
   "metadata": {},
   "outputs": [
    {
     "name": "stdout",
     "output_type": "stream",
     "text": [
      "x is positive\n"
     ]
    }
   ],
   "source": [
    "x = 42\n",
    "\n",
    "if x > 0:\n",
    "    print('x is positive')\n",
    "\n",
    "if x < 0:\n",
    "    pass # TODO: handle negative values"
   ]
  },
  {
   "cell_type": "markdown",
   "id": "2600fca4",
   "metadata": {},
   "source": [
    "---\n",
    "## 6.4 The `if` Statement's `elif` and `else` Clauses\n",
    "\n",
    "- An `if` statement has:\n",
    "  - a head, consisting of the keyword `if`, followed a boolean condition, and a colon `:`\n",
    "  - a body, consisting of indented statements to execute if the condition is `True`.\n",
    "- An if statement can have 0 or more `elif` branches, with:\n",
    "  - a head, consisting of the keyword `elif`, followed a boolean condition2, and a colon `:`\n",
    "  - a body, consisting of indented statements to execute if the condition2 is `True`, given any previous conditions are `False`.\n",
    "- An `if` statement can have 0 or one `else` branch, with:\n",
    "  - a head, consisting of the keyword `else`, followed by a colon `:`\n",
    "  - a body, consisting of indented statements to execute if all previous conditions are `False`."
   ]
  },
  {
   "cell_type": "code",
   "execution_count": 65,
   "id": "54ca459d",
   "metadata": {},
   "outputs": [
    {
     "name": "stdout",
     "output_type": "stream",
     "text": [
      "x is odd\n"
     ]
    }
   ],
   "source": [
    "x = 41\n",
    "\n",
    "if x % 2 == 0:\n",
    "    print('x is even')\n",
    "elif x == 0:\n",
    "    print('x is zero')\n",
    "else:\n",
    "    print('x is odd')"
   ]
  },
  {
   "cell_type": "markdown",
   "id": "12880dfb",
   "metadata": {},
   "source": [
    "---\n",
    "## 6.5 Nested `if` Statements\n",
    "\n",
    "- An `if` statement can contain another (nested) `if` statement.\n",
    "\n",
    "    ```python\n",
    "    if 0 < x:\n",
    "        if x < 10:\n",
    "    ```\n",
    "\n",
    "- We can combine the two boolean expressions with a logical `and`.\n",
    "\n",
    "    ```python\n",
    "    if 0 < x and x < 10:\n",
    "    ```\n",
    "\n",
    "- For this kind of condition, Python provides a more concise option.\n",
    "\n",
    "    ```python\n",
    "    if 0 < x < 10:\n",
    "    ```"
   ]
  },
  {
   "cell_type": "code",
   "execution_count": 66,
   "id": "a0063974",
   "metadata": {},
   "outputs": [
    {
     "name": "stdout",
     "output_type": "stream",
     "text": [
      "x is a positive single-digit number.\n",
      "x is a positive single-digit number.\n",
      "x is a positive single-digit number.\n"
     ]
    }
   ],
   "source": [
    "x = 5\n",
    "\n",
    "if 0 < x:\n",
    "    if x < 10:\n",
    "        print('x is a positive single-digit number.')\n",
    "\n",
    "if 0 < x and x < 10:\n",
    "    print('x is a positive single-digit number.')\n",
    "\n",
    "if 0 < x < 10:\n",
    "    print('x is a positive single-digit number.')"
   ]
  },
  {
   "cell_type": "markdown",
   "id": "f809e9be",
   "metadata": {},
   "source": [
    "---\n",
    "## 6.6 Recursion\n",
    "\n",
    "- A recursive function is a function that calls itself (inside its body).\n",
    "- A recursive function has a:\n",
    "  - **base case**, which stops the recursion, and must eventually be called (otherwise you will get an out of stack error).\n",
    "  - **recursive case**, which contains the recursive call."
   ]
  },
  {
   "cell_type": "code",
   "execution_count": 67,
   "id": "47e40727",
   "metadata": {},
   "outputs": [
    {
     "name": "stdout",
     "output_type": "stream",
     "text": [
      "3\n",
      "2\n",
      "1\n",
      "Blastoff!\n"
     ]
    }
   ],
   "source": [
    "def countdown(n):\n",
    "    if n <= 0: # base case\n",
    "        print('Blastoff!')\n",
    "    else: # recursive case\n",
    "        print(n)\n",
    "        countdown(n-1)\n",
    "\n",
    "countdown(3)"
   ]
  },
  {
   "cell_type": "markdown",
   "id": "33265a1c",
   "metadata": {},
   "source": [
    "---\n",
    "# 7. Return Values\n",
    "---"
   ]
  },
  {
   "cell_type": "markdown",
   "id": "509f9e33",
   "metadata": {},
   "source": [
    "## 7.1 Some Functions have Return Values\n",
    "\n",
    "- The `sqrt()` function from the `math` module returns a value.\n",
    "\n",
    "    ```python\n",
    "    value = sqrt(4)\n",
    "    ```\n",
    "\n",
    "- A value is returned from a function via the `return` statement.\n",
    "\n",
    "    ```python\n",
    "    def circle_area(radius):\n",
    "        area = math.pi * radius**2\n",
    "        return area\n",
    "    ```\n",
    "\n",
    "- In this case the value of the local variable `area` is returned.\n",
    "\n",
    "    ```python\n",
    "    value = circle_area(radius)\n",
    "    ```\n",
    "\n",
    "- The local variable `area` is not defined outside of the function."
   ]
  },
  {
   "cell_type": "code",
   "execution_count": 70,
   "id": "eb725c6e",
   "metadata": {},
   "outputs": [
    {
     "name": "stdout",
     "output_type": "stream",
     "text": [
      "radius is 3.656366395715726\n",
      "circle area is 42.00000000000001\n",
      "name 'area' is not defined\n"
     ]
    }
   ],
   "source": [
    "import math\n",
    "\n",
    "def circle_area(radius):\n",
    "    area = math.pi * radius**2 # \"area\" is a local variable\n",
    "    return area\n",
    "\n",
    "radius = math.sqrt(42 / math.pi)\n",
    "print(f'radius is {radius}')\n",
    "\n",
    "value = circle_area(radius)\n",
    "print(f'circle area is {value}')\n",
    "\n",
    "try:\n",
    "    print(area) # \"area\" is not defined here\n",
    "except Exception as e:\n",
    "    print(e)"
   ]
  },
  {
   "cell_type": "markdown",
   "id": "e6d3cbbe",
   "metadata": {},
   "source": [
    "---\n",
    "## 7.2 Some Functions Return `None`\n",
    "\n",
    "- A function that doesn’t explicitly `return` a value returns `None`\n",
    "\n",
    "    ```python\n",
    "    def repeat(word, n):\n",
    "        print(word * n)\n",
    "        # implicitly returns None here\n",
    "    ```\n",
    "\n",
    "- `None` is a special value of type `NoneType`.\n",
    "\n",
    "    ```python\n",
    "    result = repeat('Finland', 3) # result is None\n",
    "    ```"
   ]
  },
  {
   "cell_type": "code",
   "execution_count": 72,
   "id": "47421ee1",
   "metadata": {},
   "outputs": [
    {
     "name": "stdout",
     "output_type": "stream",
     "text": [
      "Finland, Finland, Finland, \n",
      "Finland, Finland, Finland, \n",
      "None\n",
      "<class 'NoneType'>\n"
     ]
    }
   ],
   "source": [
    "def repeat(word, n):\n",
    "    print(word * n)\n",
    "\n",
    "repeat('Finland, ', 3)\n",
    "\n",
    "result = repeat('Finland, ', 3)\n",
    "print(result)\n",
    "print(type(result))"
   ]
  },
  {
   "cell_type": "markdown",
   "id": "7764f92c",
   "metadata": {},
   "source": [
    "---\n",
    "## 7.3 Return Values and Conditionals\n",
    "\n",
    "- When using `return` in conditional statements, make sure that every possible path through the function body hits a `return` statement.\n",
    "- If a path doesn’t return a value (explicitly), `None` is returned."
   ]
  },
  {
   "cell_type": "code",
   "execution_count": 74,
   "id": "c8e50f04",
   "metadata": {},
   "outputs": [
    {
     "name": "stdout",
     "output_type": "stream",
     "text": [
      "42\n",
      "42\n",
      "0\n",
      "\n",
      "None\n"
     ]
    }
   ],
   "source": [
    "def absolute_value(x):\n",
    "    if x < 0:\n",
    "        return -x\n",
    "    else:\n",
    "        return x\n",
    "\n",
    "print( absolute_value(42) )\n",
    "print( absolute_value(-42) )\n",
    "print( absolute_value(0) )\n",
    "\n",
    "print()\n",
    "\n",
    "def absolute_value_wrong(x):\n",
    "    if x < 0:\n",
    "        return -x\n",
    "    if x > 0:\n",
    "        return x\n",
    "\n",
    "print( absolute_value_wrong(0) )"
   ]
  },
  {
   "cell_type": "markdown",
   "id": "8ec21298",
   "metadata": {},
   "source": [
    "---\n",
    "## 7.4 Boolean Functions\n",
    "\n",
    "- Functions that return a boolean value (`True` or `False`) can be used as conditions in conditional statements."
   ]
  },
  {
   "cell_type": "code",
   "execution_count": 75,
   "id": "000d3e96",
   "metadata": {},
   "outputs": [
    {
     "name": "stdout",
     "output_type": "stream",
     "text": [
      "divisible\n",
      "\n",
      "divisible\n"
     ]
    }
   ],
   "source": [
    "def is_divisible(x, y):\n",
    "    if x % y == 0:\n",
    "        return True\n",
    "    else:\n",
    "        return False\n",
    "\n",
    "if is_divisible(6, 2):\n",
    "    print('divisible')\n",
    "\n",
    "print()\n",
    "\n",
    "def is_divisible(x, y):\n",
    "    return x % y == 0\n",
    "\n",
    "if is_divisible(6, 2):\n",
    "    print('divisible')"
   ]
  },
  {
   "cell_type": "markdown",
   "id": "d6fe92db",
   "metadata": {},
   "source": [
    "---\n",
    "## 7.5 Recursion with Return Values\n",
    "\n",
    "- The mathematical *factorial* function is defined for positive integers as:\n",
    "\n",
    "    ```python\n",
    "    0! = 1\n",
    "    n! = n(n-1)!\n",
    "    ```\n",
    "\n",
    "- A recursive `factorial` function in python is:\n",
    "\n",
    "    ```python\n",
    "    def factorial(n):\n",
    "        if n == 0: # base case\n",
    "            return 1\n",
    "        else: # recursive case\n",
    "            return n * factorial(n-1)\n",
    "    ```\n",
    "\n",
    "- But calling the function with a floating-point number or a negative number, results in an infinite recursion (base case never reached), since we haven’t handled the constraints (positive integers) in the function."
   ]
  },
  {
   "cell_type": "code",
   "execution_count": 78,
   "id": "7810a6ba",
   "metadata": {},
   "outputs": [
    {
     "name": "stdout",
     "output_type": "stream",
     "text": [
      "6\n",
      "\n",
      "maximum recursion depth exceeded\n",
      "maximum recursion depth exceeded\n"
     ]
    }
   ],
   "source": [
    "def factorial(n):\n",
    "    if n == 0:\n",
    "        return 1\n",
    "    else:\n",
    "        return n * factorial(n-1)\n",
    "\n",
    "ans = factorial(3) # works since constraints satisfied\n",
    "print(ans)\n",
    "\n",
    "print()\n",
    "\n",
    "try:\n",
    "    ans = factorial(1.5) # 1.5 not an integer\n",
    "    print(ans)\n",
    "except Exception as e:\n",
    "    print(e)\n",
    "\n",
    "try:\n",
    "    ans = factorial(-1) # -1 not a positive integer\n",
    "    print(ans)\n",
    "except Exception as e:\n",
    "    print(e)"
   ]
  },
  {
   "cell_type": "markdown",
   "id": "69615652",
   "metadata": {},
   "source": [
    "---\n",
    "## 7.6 Checking Types (Input Validation)\n",
    "\n",
    "- The built in function `isinstance()` can be used to check if an expression is of a specific type.\n",
    "- We can use the `isinstance()` function in the `factorial()` function to handle the **integers** constraint.\n",
    "\n",
    "    ```python\n",
    "    if not isinstance(n, int):\n",
    "    ```\n",
    "\n",
    "- We can use a simple boolean condition to handle the **positive** integers constraint.\n",
    "\n",
    "    ```python\n",
    "    elif n < 0:\n",
    "    ```\n",
    "\n",
    "- This input validation is important in functions to ensure all constraints are satisfied."
   ]
  },
  {
   "cell_type": "code",
   "execution_count": 80,
   "id": "45f81682",
   "metadata": {},
   "outputs": [
    {
     "name": "stdout",
     "output_type": "stream",
     "text": [
      "True\n",
      "False\n",
      "factorial is only defined for integers.\n",
      "factorial is not defined for negative numbers.\n"
     ]
    }
   ],
   "source": [
    "print( isinstance(3, int) )\n",
    "print( isinstance(1.5, int) )\n",
    "\n",
    "def factorial(n):\n",
    "    if not isinstance(n, int):\n",
    "        print('factorial is only defined for integers.')\n",
    "        return None\n",
    "    elif n < 0:\n",
    "        print('factorial is not defined for negative numbers.')\n",
    "        return None\n",
    "    elif n == 0:\n",
    "        return 1\n",
    "    else:\n",
    "        return n * factorial(n-1)\n",
    "\n",
    "factorial('crunchy frog')\n",
    "factorial(-2)"
   ]
  },
  {
   "cell_type": "markdown",
   "id": "fb3661b2",
   "metadata": {},
   "source": [
    "---\n",
    "# 8. Iteration and Search\n",
    "---"
   ]
  },
  {
   "cell_type": "markdown",
   "id": "4fa39324",
   "metadata": {},
   "source": [
    "## 8.1 The `for` Loop\n",
    "\n",
    "- A `for` statement (loop) iterates (loops) over a block of statements a number of times.\n",
    "- A `for` loop has:\n",
    "  - a head, consisting of the keyword `for`, followed by variable(s), the keyword `in`, an iterable object, and a colon `:`\n",
    "  - a body, consisting of indented statements.\n",
    "- The simplest `for` loop has one loop variable and uses the built-in `range()` function to return an iterable sequence of numbers between `start` (inclusive, default `0`) and `stop` (exclusive) using a `step` size (default `1`).\n",
    "\n",
    "    ```python\n",
    "    range(stop)\n",
    "    range(start, stop)\n",
    "    range(start, stop, step)\n",
    "    ```"
   ]
  },
  {
   "cell_type": "code",
   "execution_count": 1,
   "id": "e9df37c1",
   "metadata": {},
   "outputs": [
    {
     "name": "stdout",
     "output_type": "stream",
     "text": [
      "0\n",
      "1\n",
      "0\n",
      "1\n",
      "0\n",
      "1\n"
     ]
    }
   ],
   "source": [
    "for i in range(2):       # for loop with a \"range(stop)\"\n",
    "    print(i)\n",
    "\n",
    "for i in range(0, 2):    # for loop with a \"range(start, stop)\"\n",
    "    print(i)\n",
    "\n",
    "for i in range(0, 2, 1): # for loop with a \"range(start, stop, step)\"\n",
    "    print(i)"
   ]
  },
  {
   "cell_type": "markdown",
   "id": "f743cdb5",
   "metadata": {},
   "source": [
    "---\n",
    "## 8.2 Loops and Strings\n",
    "\n",
    "- The iterable can be sequence of integers from the `range()` function.\n",
    "- The iterable can also be a sequence of characters in a string.\n",
    "- We can process each character in a string using a `for` loop."
   ]
  },
  {
   "cell_type": "code",
   "execution_count": 3,
   "id": "575ce997",
   "metadata": {},
   "outputs": [
    {
     "name": "stdout",
     "output_type": "stream",
     "text": [
      "0 1 2 \n",
      "G a d s b y \n",
      "False\n",
      "True\n"
     ]
    }
   ],
   "source": [
    "for i in range(3):\n",
    "    print(i, end=' ')\n",
    "\n",
    "print()\n",
    "\n",
    "for letter in 'Gadsby':\n",
    "    print(letter, end=' ')\n",
    "\n",
    "print()\n",
    "\n",
    "def has_e(word):\n",
    "    for letter in word:\n",
    "        if letter == 'E' or letter == 'e':\n",
    "            return True\n",
    "        return False\n",
    "    \n",
    "print( has_e('Gadsby') )\n",
    "print( has_e('Emma') )"
   ]
  },
  {
   "cell_type": "markdown",
   "id": "cdf6d33e",
   "metadata": {},
   "source": [
    "---\n",
    "## 8.3 The `in` Operator\n",
    "\n",
    "- We have seen the `in` operator used in a `for` loop to extract the next element in a sequence.\n",
    "\n",
    "    ```python\n",
    "    word = 'Gadsby'\n",
    "    for letter in word\n",
    "    ```\n",
    "\n",
    "- The `in` operator can also be used to check if an element exists in a sequence.\n",
    "\n",
    "    ```python\n",
    "    word = 'Gadsby'\n",
    "    'e' in word # False\n",
    "    ```"
   ]
  },
  {
   "cell_type": "code",
   "execution_count": 4,
   "id": "750256a1",
   "metadata": {},
   "outputs": [
    {
     "name": "stdout",
     "output_type": "stream",
     "text": [
      "False\n",
      "True\n",
      "False\n",
      "True\n"
     ]
    }
   ],
   "source": [
    "def has_e(word):\n",
    "    if 'E' in word or 'e' in word:\n",
    "        return True\n",
    "    else:\n",
    "        return False\n",
    "\n",
    "print( has_e('Gadsby') )\n",
    "print( has_e('Emma') )\n",
    "\n",
    "def has_e(word):\n",
    "    return 'E' in word or 'e' in word\n",
    "\n",
    "print( has_e('Gadsby') )\n",
    "print( has_e('Emma') )"
   ]
  },
  {
   "cell_type": "markdown",
   "id": "0f59a44f",
   "metadata": {},
   "source": [
    "---\n",
    "# 9. Strings\n",
    "---"
   ]
  },
  {
   "cell_type": "markdown",
   "id": "42e4a073",
   "metadata": {},
   "source": [
    "## 9.1 A String is a Sequence\n",
    "\n",
    "- A string is a sequence of characters.\n",
    "\n",
    "    ```python\n",
    "    fruit = 'banana'\n",
    "    ```\n",
    "\n",
    "- You can select a character from a string with an **index** inside the bracket operator [].\n",
    "\n",
    "    ```python\n",
    "    letter = fruit[1] # letter contains the character 'a'\n",
    "    ```\n",
    "\n",
    "- Python uses zero-based indexing into sequences, i.e. the first element has **index** `0`.\n",
    "\n",
    "    ```python\n",
    "    letter = fruit[0] # letter contains the character 'b'\n",
    "    ```\n",
    "\n",
    "- We can use the built-in function `len()` to get the length of a sequence (number of elements).\n",
    "\n",
    "    ```python\n",
    "    len('banana') # the length of 'banana' is 6\n",
    "    ```\n",
    "\n",
    "- The last **index** of a sequence is `len(sequence) - 1`.\n",
    "\n",
    "    ```python\n",
    "    letter = fruit[len(fruit)-1] # letter contains the character 'a'\n",
    "    ```\n",
    "\n",
    "- Python permits negative indexing into sequences, where **index** `-1` is the last element, `-2` the next to last, etc.\n",
    "\n",
    "    ```python\n",
    "    letter = fruit[-2] # letter contains the character 'n'\n",
    "    ```"
   ]
  },
  {
   "cell_type": "code",
   "execution_count": 5,
   "id": "5716e5ac",
   "metadata": {},
   "outputs": [
    {
     "name": "stdout",
     "output_type": "stream",
     "text": [
      "b\n",
      "a\n",
      "6\n",
      "a\n",
      "a\n",
      "n\n"
     ]
    }
   ],
   "source": [
    "fruit = 'banana'\n",
    "\n",
    "letter = fruit[0]\n",
    "print(letter)\n",
    "\n",
    "letter = fruit[1]\n",
    "print(letter)\n",
    "\n",
    "print( len(fruit) )\n",
    "\n",
    "letter = fruit[ len(fruit)-1 ]\n",
    "print(letter)\n",
    "\n",
    "letter = fruit[-1]\n",
    "print(letter)\n",
    "\n",
    "letter = fruit[-2]\n",
    "print(letter)"
   ]
  },
  {
   "cell_type": "markdown",
   "id": "02e6a17d",
   "metadata": {},
   "source": [
    "---\n",
    "## 9.2 String Slices\n",
    "\n",
    "- A subset of elements in a sequence is called a slice.\n",
    "- The operator `[n:m]` returns the slice from index `n` to index `m-1`.\n",
    "\n",
    "    ```python\n",
    "    fruit = 'banana'\n",
    "    slice = fruit[0:3] # slice contains 'ban'\n",
    "    slice = fruit[3:6] # slice contains 'ana'\n",
    "    ```\n",
    "\n",
    "- If you omit the first index, the slice starts at the beginning of the sequence.\n",
    "\n",
    "    ```python\n",
    "    fruit = 'banana'\n",
    "    slice = fruit[:3] # slice contains 'ban'\n",
    "    ```\n",
    "\n",
    "- If you omit the second index, the slice goes to the end of the sequence.\n",
    "\n",
    "    ```python\n",
    "    fruit = 'banana'\n",
    "    slice = fruit[3:] # slice contains 'ana'\n",
    "    ```\n",
    "\n",
    "- We can also use negative indexes.\n",
    "\n",
    "    ```python\n",
    "    fruit = 'banana'\n",
    "    slice = fruit[2:-1] # slice contains 'nan'\n",
    "    ```"
   ]
  },
  {
   "cell_type": "code",
   "execution_count": 6,
   "id": "5fd18691",
   "metadata": {},
   "outputs": [
    {
     "name": "stdout",
     "output_type": "stream",
     "text": [
      "ban\n",
      "ana\n",
      "ban\n",
      "ana\n",
      "nan\n"
     ]
    }
   ],
   "source": [
    "fruit = 'banana'\n",
    "\n",
    "slice = fruit[0:3]\n",
    "print(slice)\n",
    "\n",
    "slice = fruit[3:6]\n",
    "print(slice)\n",
    "\n",
    "slice = fruit[:3]\n",
    "print(slice)\n",
    "\n",
    "slice = fruit[3:]\n",
    "print(slice)\n",
    "\n",
    "slice = fruit[2:-1]\n",
    "print(slice)"
   ]
  },
  {
   "cell_type": "markdown",
   "id": "df158fe7",
   "metadata": {},
   "source": [
    "---\n",
    "## 9.3 Strings are Immutable\n",
    "\n",
    "- Strings are immutable, i.e. you can’t change an existing\n",
    "string.\n",
    "- Trying to change an element, e.g. the first character,\n",
    "results in a `TypeError`.\n",
    "- Although, you can create a new string based on parts of\n",
    "an existing string."
   ]
  },
  {
   "cell_type": "code",
   "execution_count": 8,
   "id": "5579e2d2",
   "metadata": {},
   "outputs": [
    {
     "name": "stdout",
     "output_type": "stream",
     "text": [
      "'str' object does not support item assignment\n",
      "Jello, world!\n"
     ]
    }
   ],
   "source": [
    "greeting = 'Hello, world!'\n",
    "try:\n",
    "    greeting[0] = 'J'\n",
    "except Exception as e:\n",
    "    print(e)\n",
    "\n",
    "greeting = 'Hello, world!'\n",
    "new_greeting = 'J' + greeting[1:]\n",
    "print(new_greeting)"
   ]
  },
  {
   "cell_type": "markdown",
   "id": "33fe9e6a",
   "metadata": {},
   "source": [
    "---\n",
    "## 9.4 String Comparison\n",
    "\n",
    "- The relational operators work on strings, e.g. to check if two strings are equal, we can use the equality operator.\n",
    "- We can use other relational operations e.g. `>` and `<`.\n",
    "- Python compares strings (and characters) based on their integer character codes from a unicode character set.\n",
    "  - [https://en.wikipedia.org/wiki/List_of_Unicode_characters](https://en.wikipedia.org/wiki/List_of_Unicode_characters)\n",
    "\n",
    "- Therefore the character `'P'` (`80`) comes before `'b'` (`98`)."
   ]
  },
  {
   "cell_type": "code",
   "execution_count": 9,
   "id": "5913d30a",
   "metadata": {},
   "outputs": [
    {
     "name": "stdout",
     "output_type": "stream",
     "text": [
      "All right, banana.\n",
      "apple comes before banana.\n",
      "Pineapple comes before banana.\n"
     ]
    }
   ],
   "source": [
    "word = 'banana'\n",
    "if word == 'banana':\n",
    "    print('All right, banana.')\n",
    "\n",
    "def compare_word(word):\n",
    "    if word < 'banana':\n",
    "        print(word, 'comes before banana.')\n",
    "    elif word > 'banana':\n",
    "        print(word, 'comes after banana.')\n",
    "    else:\n",
    "        print('All right, banana.')\n",
    "\n",
    "word = 'banana'\n",
    "compare_word('apple')\n",
    "compare_word('Pineapple')"
   ]
  },
  {
   "cell_type": "markdown",
   "id": "d645eaff",
   "metadata": {},
   "source": [
    "---\n",
    "## 9.5 String Methods\n",
    "\n",
    "- Strings provide methods that perform a variety of useful operations.\n",
    "- A method is similar to a function, but is part of a string instance, and is therefore called from a string instance using the dot operator `.`\n",
    "- E.g. the method `upper()` returns a new string with all uppercase letters, whereas the method `lower()` returns a new string with all lowercase letters."
   ]
  },
  {
   "cell_type": "code",
   "execution_count": 10,
   "id": "739bf104",
   "metadata": {},
   "outputs": [
    {
     "name": "stdout",
     "output_type": "stream",
     "text": [
      "BANANA\n",
      "banana\n"
     ]
    }
   ],
   "source": [
    "word = 'BaNanA'\n",
    "\n",
    "new_word = word.upper()\n",
    "print(new_word)\n",
    "\n",
    "new_word = word.lower()\n",
    "print(new_word)"
   ]
  },
  {
   "cell_type": "markdown",
   "id": "700a0544",
   "metadata": {},
   "source": [
    "---\n",
    "# 10. Lists\n",
    "---"
   ]
  },
  {
   "cell_type": "markdown",
   "id": "095877c5",
   "metadata": {},
   "source": [
    "## 10.1 A List is a Sequence\n",
    "\n",
    "- Like a string, a list is a sequence of values.\n",
    "- In a string, the elements are characters, but in a list, the elements can be any type.\n",
    "- The simplest way to create a list is to enclose the elements in square brackets `[]`\n",
    "\n",
    "    ```python\n",
    "    empty_list = []\n",
    "    list_of_integers = [42, 123]\n",
    "    list_of_floats = [42.0, 123.5]\n",
    "    list_of_strings = ['Cheddar', 'Edam', 'Gouda']\n",
    "    list_of_mixed_types = ['spam', 2.0, 5]\n",
    "    ```\n",
    "\n",
    "- A list can also contain another list (a nested list).\n",
    "\n",
    "    ```python\n",
    "    list_with_nested_list = ['spam', 2.0, 5, [10, 20]]\n",
    "    ```\n",
    "\n",
    "- The `len()` function returns the length of a list (number of elements).\n",
    "\n",
    "    ```python\n",
    "    len([10, 20, 30]) # a list of length 3\n",
    "    ```"
   ]
  },
  {
   "cell_type": "code",
   "execution_count": 12,
   "id": "7ce18742",
   "metadata": {},
   "outputs": [
    {
     "name": "stdout",
     "output_type": "stream",
     "text": [
      "[]\n",
      "[42, 123]\n",
      "[42.0, 123.5]\n",
      "['Cheddar', 'Edam', 'Gouda']\n",
      "['spam', 2.0, 5]\n",
      "['spam', 2.0, 5, [10, 20]]\n",
      "4\n"
     ]
    }
   ],
   "source": [
    "lst = []\n",
    "print(lst)\n",
    "\n",
    "lst = [42, 123]\n",
    "print(lst)\n",
    "\n",
    "lst = [42.0, 123.5]\n",
    "print(lst)\n",
    "\n",
    "lst = ['Cheddar', 'Edam', 'Gouda']\n",
    "print(lst)\n",
    "\n",
    "lst = ['spam', 2.0, 5]\n",
    "print(lst)\n",
    "\n",
    "lst = ['spam', 2.0, 5, [10, 20]]\n",
    "print(lst)\n",
    "print( len(lst) )"
   ]
  },
  {
   "cell_type": "markdown",
   "id": "98d68003",
   "metadata": {},
   "source": [
    "---\n",
    "## 10.2 Lists are Mutable\n",
    "\n",
    "- To read an element of a list, we can use the bracket operator `[]` with an index, where the index of the first element is `0`.\n",
    "\n",
    "    ```python\n",
    "    cheeses = ['Cheddar', 'Edam', 'Gouda']\n",
    "    cheese = cheeses[0] # cheese contains 'Cheddar'\n",
    "    ```\n",
    "\n",
    "- Unlike strings, lists are mutable, so the bracket operator `[]` with an index can assign a new value to an element.\n",
    "\n",
    "    ```python\n",
    "    numbers = [42, 123]\n",
    "    numbers[1] = 17 # numbers contains [42, 17]\n",
    "    ```\n",
    "\n",
    "- Negative indexing works with lists.\n",
    "\n",
    "    ```python\n",
    "    numbers = [42, 123]\n",
    "    number = numbers[-1] # number contains 123\n",
    "    ```\n",
    "\n",
    "- The `in` operator works on lists, e.g. to check if a given element appears anywhere in the list.\n",
    "\n",
    "    ```python\n",
    "    cheeses = ['Cheddar', 'Edam', 'Gouda']\n",
    "    'Edam' in cheeses # True\n",
    "    ```"
   ]
  },
  {
   "cell_type": "code",
   "execution_count": 14,
   "id": "c104216f",
   "metadata": {},
   "outputs": [
    {
     "name": "stdout",
     "output_type": "stream",
     "text": [
      "Cheddar\n",
      "[42, 17]\n",
      "123\n",
      "True\n"
     ]
    }
   ],
   "source": [
    "cheeses = ['Cheddar', 'Edam', 'Gouda']\n",
    "cheese = cheeses[0]\n",
    "print(cheese)\n",
    "\n",
    "numbers = [42, 123]\n",
    "numbers[1] = 17\n",
    "print(numbers)\n",
    "\n",
    "numbers = [42, 123]\n",
    "number = numbers[-1]\n",
    "print(number)\n",
    "\n",
    "cheeses = ['Cheddar', 'Edam', 'Gouda']\n",
    "print( 'Edam' in cheeses )"
   ]
  },
  {
   "cell_type": "markdown",
   "id": "8ab5d29e",
   "metadata": {},
   "source": [
    "---\n",
    "## 10.3 List Slices\n",
    "\n",
    "- The slice operator `[n:m]` works the same way on lists and strings.\n",
    "\n",
    "    ```python\n",
    "    letters = ['a', 'b', 'c', 'd']\n",
    "    slice = letters[1:3] # slice contains ['b', 'c']\n",
    "    ```\n",
    "\n",
    "- If you omit the first index, the slice starts at the beginning.\n",
    "\n",
    "    ```python\n",
    "    slice = letters[:2] # slice contains ['a', 'b']\n",
    "    ```\n",
    "\n",
    "- If you omit the second index, the slice goes to the end.\n",
    "\n",
    "    ```python\n",
    "    slice = letters[2:] # slice contains ['c', 'd']\n",
    "    ```\n",
    "\n",
    "- If you omit both, the slice is a copy of the whole list.\n",
    "\n",
    "    ```python\n",
    "    copy = letters[:] # copy contains ['a', 'b', 'c', 'd']\n",
    "    ```\n",
    "\n",
    "- Another way to copy a list is to use the `list()` function.\n",
    "\n",
    "    ```python\n",
    "    copy = list(letters) # copy contains ['a', 'b', 'c', 'd']\n",
    "    ```\n",
    "\n",
    "- Since `list()` is a built-in function, avoid using `list` as a variable name."
   ]
  },
  {
   "cell_type": "code",
   "execution_count": 15,
   "id": "e0930257",
   "metadata": {},
   "outputs": [
    {
     "name": "stdout",
     "output_type": "stream",
     "text": [
      "['a', 'b', 'c', 'd']\n",
      "['b', 'c']\n",
      "['a', 'b']\n",
      "['c', 'd']\n",
      "['a', 'b', 'c', 'd']\n",
      "['a', 'b', 'c', 'd']\n"
     ]
    }
   ],
   "source": [
    "letters = ['a', 'b', 'c', 'd']\n",
    "print(letters)\n",
    "\n",
    "print( letters[1:3] )\n",
    "print( letters[:2] )\n",
    "print( letters[2:] )\n",
    "\n",
    "copy = letters[:]\n",
    "print(copy)\n",
    "\n",
    "copy = list(letters)\n",
    "print(copy)"
   ]
  },
  {
   "cell_type": "markdown",
   "id": "7a23f826",
   "metadata": {},
   "source": [
    "---\n",
    "## 10.4 List Operations\n",
    "\n",
    "- The `+` operator concatenates lists.\n",
    "\n",
    "    ```python\n",
    "    t1 = [1, 2]\n",
    "    t2 = [3, 4]\n",
    "    lst = t1 + t2 # lst contains [1, 2, 3, 4]\n",
    "    ```\n",
    "\n",
    "- The `*` operator repeats a list a given number of times.\n",
    "\n",
    "    ```python\n",
    "    lst = ['spam'] * 4 # lst is ['spam', 'spam', 'spam', 'spam']\n",
    "    ```\n",
    "\n",
    "- The built-in function `sum()` adds up the elements in a list.\n",
    "\n",
    "    ```python\n",
    "    total = sum([1, 2]) # total is 3\n",
    "    ```\n",
    "\n",
    "- The built-in functions `min()` and `max()` find the smallest and largest elements.\n",
    "\n",
    "    ```python\n",
    "    smallest = min([1, 2]) # smallest is 1\n",
    "    largest = max([3, 4]) # largest is 4\n",
    "    ```"
   ]
  },
  {
   "cell_type": "code",
   "execution_count": 16,
   "id": "3a22d22f",
   "metadata": {},
   "outputs": [
    {
     "name": "stdout",
     "output_type": "stream",
     "text": [
      "[1, 2, 3, 4]\n",
      "['spam', 'spam', 'spam', 'spam']\n",
      "3\n",
      "1\n",
      "4\n"
     ]
    }
   ],
   "source": [
    "t1 = [1, 2]\n",
    "t2 = [3, 4]\n",
    "print(t1 + t2)\n",
    "\n",
    "spam = ['spam'] * 4\n",
    "print(spam)\n",
    "\n",
    "total = sum(t1)\n",
    "print(total)\n",
    "\n",
    "smallest = min(t1)\n",
    "print(smallest)\n",
    "\n",
    "largest = max(t2)\n",
    "print(largest)"
   ]
  },
  {
   "cell_type": "markdown",
   "id": "0b2b249f",
   "metadata": {},
   "source": [
    "---\n",
    "## 10.5 List Methods\n",
    "\n",
    "- A method is like a function, but it is bound to an object (instance of a string, list, etc.) and is accessed via the dot operator `.` using the syntax `object.method()`\n",
    "- Python provides methods that operate on lists, such as the `append()` method that adds a new element to the end of a list.\n",
    "\n",
    "    ```python\n",
    "    letters = ['a', 'b', 'c', 'd']\n",
    "    letters.append('e') # ['a','b','c','d','e']\n",
    "    ```\n",
    "\n",
    "- The `extend()` method takes a list as an argument and appends all of the elements.\n",
    "\n",
    "    ```python\n",
    "    letters = ['a', 'b', 'c', 'd']\n",
    "    letters.extend(['f', 'g']) # ['a','b','c','d','e','f','g']\n",
    "    ```\n",
    "\n",
    "- The `pop()` method takes an index as an argument and removes the element from a list.\n",
    "\n",
    "    ```python\n",
    "    t = ['a', 'b', 'c']\n",
    "    e = t.pop(1) # e contains 'b' and t contains ['a', 'c']\n",
    "    ```\n",
    "\n",
    "- The `remove()` method takes an element as an argument and removes the element from a list (if the element is not in the list, that’s a `ValueError`).\n",
    "\n",
    "    ```python\n",
    "    t = ['a', 'b', 'c']\n",
    "    t.remove('b') # t contains ['a', 'c']\n",
    "    t.remove('d') # ValueError\n",
    "    ```"
   ]
  },
  {
   "cell_type": "code",
   "execution_count": 18,
   "id": "a512ea42",
   "metadata": {},
   "outputs": [
    {
     "name": "stdout",
     "output_type": "stream",
     "text": [
      "['a', 'b', 'c', 'd', 'e']\n",
      "['a', 'b', 'c', 'd', 'e', 'f', 'g']\n",
      "b\n",
      "['a', 'c']\n",
      "['a', 'c']\n",
      "list.remove(x): x not in list\n"
     ]
    }
   ],
   "source": [
    "letters = ['a', 'b', 'c', 'd']\n",
    "\n",
    "letters.append('e')\n",
    "print(letters)\n",
    "\n",
    "letters.extend(['f', 'g'])\n",
    "print(letters)\n",
    "\n",
    "t = ['a', 'b', 'c']\n",
    "e = t.pop(1)\n",
    "print(e)\n",
    "print(t)\n",
    "\n",
    "t = ['a', 'b', 'c']\n",
    "t.remove('b')\n",
    "print(t)\n",
    "\n",
    "try:\n",
    "    t.remove('d')\n",
    "except Exception as e:\n",
    "    print(e)"
   ]
  },
  {
   "cell_type": "markdown",
   "id": "48ca0963",
   "metadata": {},
   "source": [
    "---\n",
    "## 10.6 Lists and Strings\n",
    "\n",
    "- A string is a sequence of characters and a list is a sequence of values.\n",
    "- A list of characters is not the same as a string.\n",
    "- To convert from a string to a list of characters, you can use the `list()` function.\n",
    "\n",
    "    ```python\n",
    "    s = 'spam'\n",
    "    t = list(s) # ['s', 'p', 'a', 'm']\n",
    "    ```\n",
    "\n",
    "- The `split()` method breaks a string into a list of words (strings).\n",
    "\n",
    "    ```python\n",
    "    s = 'pining for the fjords'\n",
    "    t = s.split() # ['pining', 'for', 'the', 'fjords']\n",
    "    ```\n",
    "\n",
    "- An optional argument called a delimiter specifies which characters to use as word boundaries.\n",
    "\n",
    "    ```python\n",
    "    s = 'ex-parrot'\n",
    "    t = s.split('-') # ['ex', 'parrot']\n",
    "    ```\n",
    "\n",
    "- You can concatenate a list of strings into a single string using the `join()` method.\n",
    "\n",
    "    ```python\n",
    "    delimiter = ' '\n",
    "    t = ['pining', 'for', 'the', 'fjords']\n",
    "    delimiter.join(t) # 'pining for the fjords'\n",
    "    ```"
   ]
  },
  {
   "cell_type": "code",
   "execution_count": 19,
   "id": "cb98bfd5",
   "metadata": {},
   "outputs": [
    {
     "name": "stdout",
     "output_type": "stream",
     "text": [
      "['s', 'p', 'a', 'm']\n",
      "['pining', 'for', 'the', 'fjords']\n",
      "['ex', 'parrot']\n",
      "pining for the fjords\n"
     ]
    }
   ],
   "source": [
    "s = 'spam'\n",
    "t = list(s)\n",
    "print(t)\n",
    "\n",
    "s = 'pining for the fjords'\n",
    "t = s.split()\n",
    "print(t)\n",
    "\n",
    "s = 'ex-parrot'\n",
    "t = s.split('-')\n",
    "print(t)\n",
    "\n",
    "delimiter = ' '\n",
    "t = ['pining', 'for', 'the', 'fjords']\n",
    "s = delimiter.join(t)\n",
    "print(s)"
   ]
  },
  {
   "cell_type": "markdown",
   "id": "f6a616e7",
   "metadata": {},
   "source": [
    "---\n",
    "## 10.7 Looping Through and Sorting a List\n",
    "\n",
    "- You can use a for statement to loop through the elements of a list.\n",
    "\n",
    "    ```python\n",
    "    cheeses = ['Cheddar', 'Edam', 'Gouda']\n",
    "    for cheese in cheeses:\n",
    "    print(cheese)\n",
    "    ```\n",
    "\n",
    "- The built-in function called `sorted()` sorts the elements of a list.\n",
    "\n",
    "    ```python\n",
    "    scramble = ['c', 'a', 'b']\n",
    "    sorted(scramble) # ['a', 'b', 'c']\n",
    "    ```\n",
    "\n",
    "- `sorted()` works with any kind of sequence.\n",
    "\n",
    "    ```python\n",
    "    sorted('letters') # ['e','e','l','r','s','t','t']\n",
    "    ```"
   ]
  },
  {
   "cell_type": "code",
   "execution_count": 21,
   "id": "431f417e",
   "metadata": {},
   "outputs": [
    {
     "name": "stdout",
     "output_type": "stream",
     "text": [
      "Cheddar\n",
      "Edam\n",
      "Gouda\n",
      "['a', 'b', 'c']\n",
      "['e', 'e', 'l', 'r', 's', 't', 't']\n"
     ]
    }
   ],
   "source": [
    "cheeses = ['Cheddar', 'Edam', 'Gouda']\n",
    "for cheese in cheeses:\n",
    "    print(cheese)\n",
    "\n",
    "scramble = ['c', 'a', 'b']\n",
    "scramble = sorted(scramble)\n",
    "print(scramble)\n",
    "\n",
    "lst = sorted('letters')\n",
    "print(lst)"
   ]
  },
  {
   "cell_type": "markdown",
   "id": "bb474d82",
   "metadata": {},
   "source": [
    "---\n",
    "## 10.8 Objects, References, and Values (Strings)\n",
    "\n",
    "- Assigning a string to a variable, means we are creating an object (instance) of a string with a value, where the variable has a reference (arrow) to the object.\n",
    "- If we assign a string with the same value to another variable, there are 2 possible outcomes:\n",
    "\n",
    "    ```python\n",
    "    a = 'banana'\n",
    "    b = 'banana'\n",
    "    ```\n",
    "\n",
    "  - they are referring to two different objects\n",
    "    <img src=\"../images/separate-objects.png\"></img>\n",
    "  \n",
    "  - they are referring to the same object\n",
    "    <img src=\"../images/same-object.png\"></img>\n",
    "\n",
    "- We can check if two strings:\n",
    "  - have the same value with the equality operator `==`\n",
    "  - are referring to the same object with the `is` operator\n",
    "\n",
    "    ```python\n",
    "    a == b # True if a and b have the same value\n",
    "    a is b # True if a and b are referring to the same object\n",
    "    ```\n",
    "\n",
    "- Python only created one string object, and both variables refer to the same object.\n",
    "\n",
    "    ```python\n",
    "    a == b # True\n",
    "    a is b # True\n",
    "    ```\n",
    "    \n",
    "    <img src=\"../images/same-object.png\"></img>\n",
    "\n",
    "- The reason for this is that strings are immutable, and Python has optimized memory by creating one object."
   ]
  },
  {
   "cell_type": "code",
   "execution_count": 23,
   "id": "e60f5af6",
   "metadata": {},
   "outputs": [
    {
     "name": "stdout",
     "output_type": "stream",
     "text": [
      "True\n",
      "True\n"
     ]
    }
   ],
   "source": [
    "a = 'banana'\n",
    "b = 'banana'\n",
    "print( a == b )\n",
    "print( a is b )"
   ]
  },
  {
   "cell_type": "markdown",
   "id": "0ed3d77d",
   "metadata": {},
   "source": [
    "---\n",
    "## 10.9 Objects, References, and Values (Lists)\n",
    "\n",
    "- Assigning a list to a variable, means we are creating an object (instance) of a list with a value, where the variable has a reference (arrow) to the object.\n",
    "- If we assign a list with the same value to another variable, there are 2 possible outcomes:\n",
    "\n",
    "    ```python\n",
    "    a = [1, 2, 3]\n",
    "    b = [1, 2, 3]\n",
    "    ```\n",
    "\n",
    "  - they are referring to two different objects\n",
    "    <img src=\"../images/separate-lists.png\"></img>\n",
    "  - they are referring to the same object\n",
    "    <img src=\"../images/same-list.png\"></img>\n",
    "\n",
    "- We can check if two lists:\n",
    "  - have the same value with the equality operator `==`\n",
    "  - are referring to the same object with the `is` operator\n",
    "\n",
    "    ```python\n",
    "    a == b # True if a and b have the same value\n",
    "    a is b # True if a and b are referring to the same object\n",
    "    ```\n",
    "\n",
    "- Python created two list objects, where each variable is referring to different objects.\n",
    "\n",
    "    ```python\n",
    "    a == b # True\n",
    "    a is b # False\n",
    "    ```\n",
    "\n",
    "    <img src=\"../images/separate-lists.png\"></img>\n",
    "\n",
    "- The reason for this is that list are mutable, so Python needs to create two objects."
   ]
  },
  {
   "cell_type": "code",
   "execution_count": 25,
   "id": "384459a6",
   "metadata": {},
   "outputs": [
    {
     "name": "stdout",
     "output_type": "stream",
     "text": [
      "True\n",
      "False\n"
     ]
    }
   ],
   "source": [
    "a = [1, 2, 3]\n",
    "b = [1, 2, 3]\n",
    "print( a == b )\n",
    "print( a is b )"
   ]
  },
  {
   "cell_type": "markdown",
   "id": "d2bdb6e1",
   "metadata": {},
   "source": [
    "---\n",
    "## 10.10 Aliasing\n",
    "\n",
    "- If variable `a` refers to an object and you assign it to another variable `b = a`, then both variables refer to the same object.\n",
    "\n",
    "    ```python\n",
    "    a = [1, 2, 3]\n",
    "    b = a\n",
    "    b == a # True\n",
    "    b is a # True\n",
    "    ```\n",
    "\n",
    "    <img src=\"../images/same-list.png\"></img>\n",
    "\n",
    "- An object with more than one reference has more than one name (`a` and `b`), so we say the object is aliased.\n",
    "- If the aliased object is mutable, changes made with one name affect the other (if we change the object `b` refers to, we are also changing the object `a` refers to).\n",
    "\n",
    "    ```python\n",
    "    b[0] = 5 # now both b and a contain [5, 2, 3] (same object)\n",
    "    ```\n",
    "\n",
    "- This behavior can be useful, but it’s error-prone. **Avoid aliasing when working with mutable objects.**\n",
    "- For immutable objects like strings, aliasing is not a problem.\n",
    "\n",
    "    ```python\n",
    "    a = 'banana'\n",
    "    b = 'banana'\n",
    "    ```\n",
    "\n",
    "    <img src=\"../images/same-object.png\"></img>"
   ]
  },
  {
   "cell_type": "code",
   "execution_count": 26,
   "id": "e7e3d337",
   "metadata": {},
   "outputs": [
    {
     "name": "stdout",
     "output_type": "stream",
     "text": [
      "True\n",
      "True\n",
      "[5, 2, 3]\n",
      "[5, 2, 3]\n"
     ]
    }
   ],
   "source": [
    "a = [1, 2, 3]\n",
    "b = a\n",
    "\n",
    "print( b == a )\n",
    "print( b is a )\n",
    "\n",
    "b[0] = 5\n",
    "\n",
    "print(b)\n",
    "print(a)"
   ]
  },
  {
   "cell_type": "markdown",
   "id": "6a8d6f5e",
   "metadata": {},
   "source": [
    "---\n",
    "## 10.11 Passing Lists as Arguments to Functions\n",
    "\n",
    "- When you pass a list to a function, the function gets a reference to the list.\n",
    "\n",
    "    ```python\n",
    "    def pop_first(lst):\n",
    "        return lst.pop(0)\n",
    "    \n",
    "    letters = ['a', 'b', 'c']\n",
    "    letter = pop_first(letters)\n",
    "    ```\n",
    "\n",
    "- If the function modifies the list, its modifying the original list passed by the caller.\n",
    "\n",
    "    ```python\n",
    "    print(letter) # 'a'\n",
    "    print(letters) # ['b', 'c']\n",
    "    ```\n",
    "\n",
    "- The parameter `lst` and the variable `letters` are aliases for the same object.\n",
    "\n",
    "<img src=\"../images/aliasing.png\"></img>"
   ]
  },
  {
   "cell_type": "code",
   "execution_count": 27,
   "id": "eb5222e2",
   "metadata": {},
   "outputs": [
    {
     "name": "stdout",
     "output_type": "stream",
     "text": [
      "['a', 'b', 'c']\n",
      "a\n",
      "['b', 'c']\n"
     ]
    }
   ],
   "source": [
    "def pop_first(lst):\n",
    "    return lst.pop(0)\n",
    "\n",
    "letters = ['a', 'b', 'c']\n",
    "print(letters)\n",
    "\n",
    "letter = pop_first(letters)\n",
    "print(letter)\n",
    "print(letters)"
   ]
  },
  {
   "cell_type": "markdown",
   "id": "8837f008",
   "metadata": {},
   "source": [
    "---\n",
    "# 11. Dictionaries\n",
    "---"
   ]
  },
  {
   "cell_type": "markdown",
   "id": "e47d683a",
   "metadata": {},
   "source": [
    "## 11.1 A Dictionary is a Mapping\n",
    "\n",
    "- A dictionary is like a list, but more general. In a dictionary, the indexes (called keys) can be (almost) any type.\n",
    "- To create an empty dictionary, we use curly braces `{}`\n",
    "\n",
    "    ```python\n",
    "    numbers = {} # numbers is an empty dictionary {}\n",
    "    ```\n",
    "\n",
    "- To add item to a dictionary, we use a key within square brackets `[]` and assign a value.\n",
    "\n",
    "    ```python\n",
    "    numbers['zero'] = 0 # 'zero' is a key, 0 is a value\n",
    "    ```\n",
    "\n",
    "- The item represents an association (mapping) of a key and a value, expressed as `key: value`\n",
    "\n",
    "    ```python\n",
    "    print(numbers) # {'zero': 0} one item with key 'zero' and value 0\n",
    "    ```\n",
    "\n",
    "- We can add more items.\n",
    "\n",
    "    ```python\n",
    "    numbers['one'] = 1 # {'zero': 0, 'one': 1}\n",
    "    numbers['two'] = 2 # {'zero': 0, 'one': 1, 'two': 2}\n",
    "    ```\n",
    "\n",
    "- To look up a key and get the corresponding value, we use the key within the bracket operator `[]`. If the key isn’t in the dictionary, we get a `KeyError`.\n",
    "\n",
    "    ```python\n",
    "    number = numbers['two'] # number contains 2\n",
    "    numbers['three']        # KeyError\n",
    "    ```\n",
    "\n",
    "- The `len()` function returns the number of items in a dictionary.\n",
    "\n",
    "    ```python\n",
    "    len(numbers) # 3\n",
    "    ```"
   ]
  },
  {
   "cell_type": "code",
   "execution_count": 6,
   "id": "43b21c93",
   "metadata": {},
   "outputs": [
    {
     "name": "stdout",
     "output_type": "stream",
     "text": [
      "{}\n",
      "{'zero': 0}\n",
      "{'zero': 0, 'one': 1, 'two': 2}\n",
      "2\n",
      "3\n",
      "KeyError 'three'\n"
     ]
    }
   ],
   "source": [
    "numbers = {}\n",
    "print(numbers)\n",
    "\n",
    "numbers['zero'] = 0\n",
    "print(numbers)\n",
    "\n",
    "numbers['one'] = 1\n",
    "numbers['two'] = 2\n",
    "print(numbers)\n",
    "\n",
    "number = numbers['two']\n",
    "print(number)\n",
    "\n",
    "n_items = len(numbers)\n",
    "print(n_items)\n",
    "\n",
    "try:\n",
    "    numbers['three']\n",
    "except Exception as e:\n",
    "    print(type(e).__name__, e)"
   ]
  },
  {
   "cell_type": "markdown",
   "id": "5c91969b",
   "metadata": {},
   "source": [
    "---\n",
    "## 11.2 Creating Dictionaries\n",
    "\n",
    "- An empty dictionary can be created using curly braces `{}`.\n",
    "\n",
    "    ```python\n",
    "    numbers = {}\n",
    "    ```\n",
    "\n",
    "- Then items can be added using the square bracket operator `[]`.\n",
    "\n",
    "    ```python\n",
    "    numbers['zero'] = 0\n",
    "    numbers['one'] = 1\n",
    "    numbers['two'] = 2\n",
    "    ```\n",
    "\n",
    "- A dictionary can be initialized with items within `{}` during creation.\n",
    "\n",
    "    ```python\n",
    "    numbers = {'zero': 0, 'one': 1, 'two': 2}\n",
    "    ```\n",
    "\n",
    "- Dictionaries are mutable, but can be copied with the `dict()` function.\n",
    "\n",
    "    ```python\n",
    "    numbers_copy = dict(numbers)\n",
    "    ```\n",
    "\n",
    "- An empty dictionary can also be created using the `dict()` function.\n",
    "\n",
    "    ```python\n",
    "    numbers = dict()\n",
    "    ```"
   ]
  },
  {
   "cell_type": "code",
   "execution_count": 8,
   "id": "581bce0c",
   "metadata": {},
   "outputs": [
    {
     "name": "stdout",
     "output_type": "stream",
     "text": [
      "{}\n",
      "{'zero': 0, 'one': 1, 'two': 2}\n",
      "{'zero': 0, 'one': 1, 'two': 2}\n",
      "{'zero': 0, 'one': 1, 'two': 2}\n",
      "{}\n"
     ]
    }
   ],
   "source": [
    "numbers = {}\n",
    "print(numbers)\n",
    "\n",
    "numbers['zero'] = 0\n",
    "numbers['one'] = 1\n",
    "numbers['two'] = 2\n",
    "print(numbers)\n",
    "\n",
    "numbers = {'zero': 0, 'one': 1, 'two': 2}\n",
    "print(numbers)\n",
    "\n",
    "numbers_copy = dict(numbers)\n",
    "print(numbers_copy)\n",
    "\n",
    "numbers = dict()\n",
    "print(numbers)"
   ]
  },
  {
   "cell_type": "markdown",
   "id": "5b58af7f",
   "metadata": {},
   "source": [
    "---\n",
    "## 11.3 The `in` Operator\n",
    "\n",
    "- A dictionary’s items are stored in a hash table using the key as a hash value.\n",
    "- The `in` operator can be used to check if a key exists in a dictionary.\n",
    "\n",
    "    ```python\n",
    "    numbers = {'zero': 0, 'one': 1, 'two': 2}\n",
    "    key_exits = 'one' in numbers # True\n",
    "    key_exits = 'three' in numbers # False\n",
    "    ```\n",
    "\n",
    "- The `in` operator can be used with the `values()` method to check if a value exists in a dictionary.\n",
    "\n",
    "    ```python\n",
    "    numbers = {'zero': 0, 'one': 1, 'two': 2}\n",
    "    key_exits = 1 in numbers.values() # True\n",
    "    key_exits = 3 in numbers.values() # False\n",
    "    ```"
   ]
  },
  {
   "cell_type": "code",
   "execution_count": 10,
   "id": "69eb2a1f",
   "metadata": {},
   "outputs": [
    {
     "name": "stdout",
     "output_type": "stream",
     "text": [
      "{'zero': 0, 'one': 1, 'two': 2}\n",
      "True\n",
      "False\n",
      "True\n",
      "False\n"
     ]
    }
   ],
   "source": [
    "numbers = {'zero': 0, 'one': 1, 'two': 2}\n",
    "print(numbers)\n",
    "\n",
    "key_exists = 'one' in numbers\n",
    "print(key_exists)\n",
    "\n",
    "key_exists = 'three' in numbers\n",
    "print(key_exists)\n",
    "\n",
    "value_exists = 1 in numbers.values()\n",
    "print(value_exists)\n",
    "\n",
    "value_exists = 3 in numbers.values()\n",
    "print(value_exists)"
   ]
  },
  {
   "cell_type": "markdown",
   "id": "8484041a",
   "metadata": {},
   "source": [
    "---\n",
    "## 11.4 Looping and Dictionaries\n",
    "\n",
    "- Using a `for` loop on a dictionary traverses the keys.\n",
    "\n",
    "    ```python\n",
    "    counter = {'b': 1, 'a': 3, 'n': 2}\n",
    "    \n",
    "    for key in counter:\n",
    "        print(key)\n",
    "    ```\n",
    "\n",
    "- Using the `values()` method, we can traverse the values.\n",
    "\n",
    "    ```python\n",
    "    for value in counter.values():\n",
    "        print(value)\n",
    "    ```\n",
    "\n",
    "- We can traverse the keys and look up the corresponding values.\n",
    "\n",
    "    ```python\n",
    "    for key in counter:\n",
    "        value = counter[key]\n",
    "        print(key, value)\n",
    "    ```\n",
    "\n",
    "- We can use the `items()` method to traverse the items, where two loop variables are used; one for the key, the other for the value.\n",
    "\n",
    "    ```python\n",
    "    for key, value in counter.items():\n",
    "        print(key, value)\n",
    "    ```"
   ]
  },
  {
   "cell_type": "code",
   "execution_count": 13,
   "id": "f2af1662",
   "metadata": {},
   "outputs": [
    {
     "name": "stdout",
     "output_type": "stream",
     "text": [
      "{'b': 1, 'a': 3, 'n': 2}\n",
      "\n",
      "b\n",
      "a\n",
      "n\n",
      "\n",
      "1\n",
      "3\n",
      "2\n",
      "\n",
      "b 1\n",
      "a 3\n",
      "n 2\n",
      "\n",
      "b 1\n",
      "a 3\n",
      "n 2\n"
     ]
    }
   ],
   "source": [
    "counter = {'b':1, 'a':3, 'n':2}\n",
    "print(counter)\n",
    "\n",
    "print()\n",
    "\n",
    "for key in counter:\n",
    "    print(key)\n",
    "\n",
    "print()\n",
    "\n",
    "for value in counter.values():\n",
    "    print(value)\n",
    "\n",
    "print()\n",
    "\n",
    "for key in counter:\n",
    "    value = counter[key]\n",
    "    print(key, value)\n",
    "\n",
    "print()\n",
    "\n",
    "for key, value in counter.items():\n",
    "    print(key, value)"
   ]
  },
  {
   "cell_type": "markdown",
   "id": "a16b86d9",
   "metadata": {},
   "source": [
    "---\n",
    "## 11.5 Lists and Dictionaries\n",
    "\n",
    "- You can put a list in a dictionary as a value.\n",
    "\n",
    "    ```python\n",
    "    key = 4\n",
    "    value = ['r', 'o', 'u', 's']\n",
    "    d = {key: value}\n",
    "    ```\n",
    "\n",
    "- You can put a dictionary in a dictionary as a value.\n",
    "\n",
    "    ```python\n",
    "    key = 4\n",
    "    value = {'r':1, 'o':2, 'u':3, 's':4}\n",
    "    d = {key: value}\n",
    "    ```\n",
    "\n",
    "- You can’t put a list or a dictionary in a dictionary as a key (results in a `TypeError`).\n",
    "\n",
    "    ```python\n",
    "    key = ['r', 'o', 'u', 's'] # or {'r':1, 'o':2, 'u':3, 's':4]\n",
    "    value = 4\n",
    "    d = {key: value} # TypeError\n",
    "    ```\n",
    "\n",
    "- Since dictionaries use hash tables, the keys have to be hashable.\n",
    "  - A hash is a function that takes a value (of any kind) and returns an integer. Dictionaries use these integers, called hash values, to store and look up keys.\n",
    "  - A key has to be immutable to be hashable (its hash value is always the same).\n",
    "  - Since lists and dictionaries are mutable, they can’t be used as keys."
   ]
  },
  {
   "cell_type": "code",
   "execution_count": 17,
   "id": "26c559a8",
   "metadata": {},
   "outputs": [
    {
     "name": "stdout",
     "output_type": "stream",
     "text": [
      "{4: ['r', 'o', 'u', 's']}\n",
      "{4: {'r': 1, 'o': 2, 'u': 3, 's': 4}}\n",
      "TypeError unhashable type: 'list'\n"
     ]
    }
   ],
   "source": [
    "key = 4\n",
    "value = ['r', 'o', 'u', 's']\n",
    "d = {key: value}\n",
    "print(d)\n",
    "\n",
    "key = 4\n",
    "value = {'r':1, 'o':2, 'u':3, 's':4}\n",
    "d = {key: value}\n",
    "print(d)\n",
    "\n",
    "key = ['r', 'o', 'u', 's']\n",
    "# key = {'r':1, 'o':2, 'u':3, 's':4}\n",
    "value = 4\n",
    "try:\n",
    "    d = {key: value}\n",
    "except Exception as e:\n",
    "    print(type(e).__name__, e)"
   ]
  },
  {
   "cell_type": "markdown",
   "id": "501ff987",
   "metadata": {},
   "source": [
    "---\n",
    "# 12. Tuples\n",
    "---"
   ]
  },
  {
   "cell_type": "markdown",
   "id": "e2404339",
   "metadata": {},
   "source": [
    "## 12.1 Tuples are Like Lists\n",
    "\n",
    "- Just like a list, a tuple is a sequence of values of any type, indexed by integers.\n",
    "- Whereas lists are mutable, tuples are immutable.\n",
    "- To create a tuple, you can use a comma-separated list of values, optionally within parentheses `()`.\n",
    "\n",
    "    ```python\n",
    "    t = ('l', 'u', 'p', 'i', 'n') # t is a tuple\n",
    "    ```\n",
    "\n",
    "- To create a tuple with a single element, you have to include a final comma.\n",
    "\n",
    "    ```python\n",
    "    t = ('p',) # t is a tuple\n",
    "    ```\n",
    "\n",
    "- A single value in parentheses is not a tuple.\n",
    "\n",
    "    ```python\n",
    "    t = ('p') # t is a string\n",
    "    ```\n",
    "\n",
    "- You can create a tuple with the built-in function `tuple()`.\n",
    "\n",
    "    ```python\n",
    "    t = tuple() # t is an empty tuple\n",
    "    t = tuple('l', 'u', 'p', 'i', 'n')\n",
    "    ```"
   ]
  },
  {
   "cell_type": "code",
   "execution_count": 20,
   "id": "88482163",
   "metadata": {},
   "outputs": [
    {
     "name": "stdout",
     "output_type": "stream",
     "text": [
      "('l', 'u', 'p', 'i', 'n')\n",
      "<class 'tuple'>\n",
      "\n",
      "('l', 'u', 'p', 'i', 'n')\n",
      "<class 'tuple'>\n",
      "\n",
      "('p',)\n",
      "<class 'tuple'>\n",
      "\n",
      "('p',)\n",
      "<class 'tuple'>\n",
      "\n",
      "p\n",
      "<class 'str'>\n",
      "\n",
      "()\n",
      "<class 'tuple'>\n",
      "\n",
      "('l', 'u', 'p', 'i', 'n')\n",
      "<class 'tuple'>\n"
     ]
    }
   ],
   "source": [
    "t = 'l', 'u', 'p', 'i', 'n'\n",
    "print(t)\n",
    "print( type(t) )\n",
    "\n",
    "print()\n",
    "\n",
    "t = ('l', 'u', 'p', 'i', 'n')\n",
    "print(t)\n",
    "print( type(t) )\n",
    "\n",
    "print()\n",
    "\n",
    "t = 'p',\n",
    "print(t)\n",
    "print( type(t) )\n",
    "\n",
    "print()\n",
    "\n",
    "t = ('p',)\n",
    "print(t)\n",
    "print( type(t) )\n",
    "\n",
    "print()\n",
    "\n",
    "t = ('p')\n",
    "print(t)\n",
    "print( type(t) )\n",
    "\n",
    "print()\n",
    "\n",
    "t = tuple()\n",
    "print(t)\n",
    "print( type(t) )\n",
    "\n",
    "print()\n",
    "\n",
    "t = tuple('lupin')\n",
    "print(t)\n",
    "print( type(t) )"
   ]
  },
  {
   "cell_type": "markdown",
   "id": "bfcf37c9",
   "metadata": {},
   "source": [
    "---\n",
    "## 12.2 Most List Operators Work with Tuples\n",
    "\n",
    "- The bracket operator `[]` indexes an element.\n",
    "\n",
    "    ```python\n",
    "    t = ('l', 'u', 'p', 'i', 'n')\n",
    "    element = t[0] # element contains 'l'\n",
    "    ```\n",
    "\n",
    "- The slice operator `[n:m]` selects a range of elements.\n",
    "\n",
    "    ```python\n",
    "    slice = t[1:3] # slice contains ('u', 'p')\n",
    "    ```\n",
    "\n",
    "- The `+` operator concatenates tuples.\n",
    "\n",
    "    ```python\n",
    "    t = tuple('lup') + ('i', 'n') # ('l','u','p','i','n')\n",
    "    ```\n",
    "\n",
    "- The `*` operator duplicates a tuple a given number of times.\n",
    "\n",
    "    ```python\n",
    "    t = tuple('spam') * 2 # ('s','p','a','m','s','p','a','m')\n",
    "    ```\n",
    "\n",
    "- Using the `sorted()` function on a tuple, returns a sorted list.\n",
    "\n",
    "    ```python\n",
    "    t = sorted(tuple('lupin')) # ['i','l','n','p','u']\n",
    "    ```"
   ]
  },
  {
   "cell_type": "code",
   "execution_count": 22,
   "id": "558f61f0",
   "metadata": {},
   "outputs": [
    {
     "name": "stdout",
     "output_type": "stream",
     "text": [
      "('l', 'u', 'p', 'i', 'n')\n",
      "l\n",
      "('u', 'p')\n",
      "('l', 'u', 'p', 'i', 'n')\n",
      "('s', 'p', 'a', 'm', 's', 'p', 'a', 'm')\n",
      "['i', 'l', 'n', 'p', 'u']\n"
     ]
    }
   ],
   "source": [
    "t = ('l', 'u', 'p', 'i', 'n')\n",
    "print(t)\n",
    "\n",
    "element = t[0]\n",
    "print(element)\n",
    "\n",
    "slice = t[1:3]\n",
    "print(slice)\n",
    "\n",
    "t = tuple('lup') + ('i', 'n')\n",
    "print(t)\n",
    "\n",
    "t = tuple('spam') * 2\n",
    "print(t)\n",
    "\n",
    "t = sorted(tuple('lupin'))\n",
    "print(t)"
   ]
  },
  {
   "cell_type": "markdown",
   "id": "c16ef58e",
   "metadata": {},
   "source": [
    "---\n",
    "## 12.3 But Tuples are Immutable\n",
    "\n",
    "- Tuples are immutable, so if you try to modify a tuple, you get a `TypeError`.\n",
    "\n",
    "    ```python\n",
    "    t = ('l', 'u', 'p', 'i', 'n')\n",
    "    t[0] = 'L' # TypeError\n",
    "    ```\n",
    "\n",
    "- Since tuples are immutable, they are hashable, and can be used as keys in a dictionary.\n",
    "\n",
    "    ```python\n",
    "    d = {}        # {}\n",
    "    d[(1, 2)] = 3 # {(1, 2): 3}\n",
    "    d[(3, 4)] = 7 # {(1, 2): 3, (3, 4): 7}\n",
    "    ```\n",
    "\n",
    "- We can look up a value in a dictionary using tuples as keys.\n",
    "\n",
    "    ```python\n",
    "    value = d[(1, 2)] # value contains 3\n",
    "    key = (3, 4)\n",
    "    value = d[key]    # value contains 7\n",
    "    ```\n",
    "\n",
    "- Tuples can also appear as values in a dictionary.\n",
    "\n",
    "    ```python\n",
    "    value = tuple('abc')\n",
    "    d = {'key': value} # {'key': ('a', 'b', 'c')}\n",
    "    ```"
   ]
  },
  {
   "cell_type": "code",
   "execution_count": 25,
   "id": "d06877c9",
   "metadata": {},
   "outputs": [
    {
     "name": "stdout",
     "output_type": "stream",
     "text": [
      "TypeError 'tuple' object does not support item assignment\n",
      "lupin\n",
      "{(1, 2): 3, (3, 4): 7}\n",
      "3\n",
      "7\n",
      "{'key': ('a', 'b', 'c')}\n"
     ]
    }
   ],
   "source": [
    "t = ('l', 'u', 'p', 'i', 'n')\n",
    "try:\n",
    "    t[0] = 'L'\n",
    "except Exception as e:\n",
    "    print(type(e).__name__, e)\n",
    "\n",
    "t = ('lupin')\n",
    "print(t)\n",
    "\n",
    "d = {}\n",
    "d[(1, 2)] = 3\n",
    "d[(3, 4)] = 7\n",
    "print(d)\n",
    "\n",
    "value = d[(1, 2)]\n",
    "print(value)\n",
    "\n",
    "key = (3, 4)\n",
    "value = d[key]\n",
    "print(value)\n",
    "\n",
    "value = tuple('abc')\n",
    "d = {'key': value}\n",
    "print(d)"
   ]
  },
  {
   "cell_type": "markdown",
   "id": "94250ca7",
   "metadata": {},
   "source": [
    "---\n",
    "## 12.4 Tuple Assignment\n",
    "\n",
    "- You can assign a tuple of values to a tuple of variables.\n",
    "\n",
    "    ```python\n",
    "    a, b = 1, 2 # same as (a, b) = (1, 2)\n",
    "    ```\n",
    "\n",
    "- If the left side of an assignment is a tuple, the right side can be any sequence.\n",
    "\n",
    "    ```python\n",
    "    username, domain = ['monty', 'python.org']\n",
    "    ```\n",
    "\n",
    "- The number of variables and number of values must match otherwise you get a `ValueError`.\n",
    "\n",
    "    ```python\n",
    "    a, b = 1, 2, 3 # ValueError\n",
    "    ```\n",
    "\n",
    "- Since all expressions on the right side are evaluated before any assignments, we can swap variable values using tuple assignment.\n",
    "\n",
    "    ```python\n",
    "    a, b = 1, 2\n",
    "    a, b = b, a # now a contains 2, b contains 1\n",
    "    ```\n",
    "\n",
    "- To loop through the items in a dictionary, we can use the `items()` method, where a key and its corresponding value are assigned to the loop variables using tuple assignment.\n",
    "\n",
    "    ```python\n",
    "    d = {'one': 1, 'two': 2}\n",
    "    \n",
    "    for key, value in d.items(): # key, value = item\n",
    "        print(key, value)\n",
    "    ```"
   ]
  },
  {
   "cell_type": "code",
   "execution_count": 29,
   "id": "db2c2903",
   "metadata": {},
   "outputs": [
    {
     "name": "stdout",
     "output_type": "stream",
     "text": [
      "1 2\n",
      "1 2\n",
      "monty python.org\n",
      "ValueError too many values to unpack (expected 2)\n",
      "2 1\n",
      "one 1\n",
      "two 2\n",
      "one 1\n",
      "two 2\n"
     ]
    }
   ],
   "source": [
    "a, b = 1, 2\n",
    "print(a, b)\n",
    "\n",
    "(a, b) = (1, 2)\n",
    "print(a, b)\n",
    "\n",
    "username, domain = ['monty', 'python.org']\n",
    "print(username, domain)\n",
    "\n",
    "try:\n",
    "    a, b = 1, 2, 3\n",
    "except Exception as e:\n",
    "    print(type(e).__name__, e)\n",
    "\n",
    "a, b = 1, 2\n",
    "a, b = b, a\n",
    "print(a, b)\n",
    "\n",
    "d = {'one': 1, 'two': 2}\n",
    "\n",
    "for item in d.items():\n",
    "    key, value = item\n",
    "    print(key, value)\n",
    "\n",
    "for key, value in d.items():\n",
    "    print(key, value)"
   ]
  },
  {
   "cell_type": "markdown",
   "id": "240db82e",
   "metadata": {},
   "source": [
    "---\n",
    "## 12.5 Tuples as Return Values and Argument Packing\n",
    "\n",
    "- A function can only return one value, but if the value is a tuple, the effect is the same as returning multiple values.\n",
    "\n",
    "    ```python\n",
    "    def min_max(lst):\n",
    "        return min(lst), max(lst)\n",
    "    \n",
    "    lst = [2, 4, 1, 3]\n",
    "    low, high = min_max(lst) # low contains 1, high contains 4\n",
    "    ```\n",
    "\n",
    "- A function parameter that begins with the `*` operator packs multiple arguments into a tuple.\n",
    "\n",
    "    ```python\n",
    "    def mean(*args): # values 1, 2, 3 packed into tuple (1,2,3)\n",
    "        return sum(args) / len(args)\n",
    "    \n",
    "    average = mean(1, 2, 3) # average contains 2.0\n",
    "    ```\n",
    "\n",
    "- To pass a sequence of values to a function as multiple arguments, you can use the `*` operator to unpack the tuple.\n",
    "\n",
    "    ```python\n",
    "    def add(a, b):\n",
    "        return a + b\n",
    "    \n",
    "    lst = [1, 2]\n",
    "    sum = add(*lst) # lst [1,2] unpacked to two values 1 and 2\n",
    "    ```"
   ]
  },
  {
   "cell_type": "code",
   "execution_count": 37,
   "id": "209301d4",
   "metadata": {},
   "outputs": [
    {
     "name": "stdout",
     "output_type": "stream",
     "text": [
      "[2, 4, 1, 3]\n",
      "1 4\n",
      "2.0\n",
      "3\n"
     ]
    }
   ],
   "source": [
    "def min_max(lst):\n",
    "    return min(lst), max(lst)\n",
    "\n",
    "lst = [2, 4, 1, 3]\n",
    "print(lst)\n",
    "\n",
    "low, high = min_max(lst)\n",
    "print(low, high)\n",
    "\n",
    "def mean(*args):\n",
    "    return sum(args) / len(args)\n",
    "\n",
    "del sum\n",
    "average = mean(1, 2, 3)\n",
    "print(average)\n",
    "\n",
    "def add(a, b):\n",
    "    return a + b\n",
    "\n",
    "lst = [1, 2]\n",
    "sum = add(*lst)\n",
    "print(sum)"
   ]
  },
  {
   "cell_type": "markdown",
   "id": "b3b12c03",
   "metadata": {},
   "source": [
    "---\n",
    "## 12.6 The `zip` and `enumerate` Functions\n",
    "\n",
    "- The `zip()` function takes two or more sequences and returns a **zip object**, that groups the elements with matching indexes in the sequences.\n",
    "\n",
    "    ```python\n",
    "    scores1 = [1, 2, 4, 5]\n",
    "    scores2 = [5, 5, 2, 2]\n",
    "    z = zip(scores1, scores2) # z is a zip object <zip at ...>\n",
    "    ```\n",
    "\n",
    "- We can use the **zip object** to loop through the values in the two sequences pairwise.\n",
    "\n",
    "    ```python\n",
    "    for score1, score2 in zip(scores1, scores2):\n",
    "        print(score1, score2)\n",
    "    # 1 5\n",
    "    # 2 5\n",
    "    # 4 2\n",
    "    # 5 2\n",
    "    ```\n",
    "\n",
    "- The function `enumerate()` includes indexes when looping over a sequence.\n",
    "\n",
    "    ```python\n",
    "    for index, score1 in enumerate(scores1):\n",
    "        print(index, score1)\n",
    "    # 0 1\n",
    "    # 1 2\n",
    "    # 2 4\n",
    "    # 3 5\n",
    "    ```"
   ]
  },
  {
   "cell_type": "code",
   "execution_count": 40,
   "id": "f013b584",
   "metadata": {},
   "outputs": [
    {
     "name": "stdout",
     "output_type": "stream",
     "text": [
      "<zip object at 0x7222437b9c80>\n",
      "\n",
      "1 5\n",
      "2 5\n",
      "4 2\n",
      "5 2\n",
      "\n",
      "0 1\n",
      "1 2\n",
      "2 4\n",
      "3 5\n"
     ]
    }
   ],
   "source": [
    "scores1 = [1, 2, 4, 5]\n",
    "scores2 = [5, 5, 2, 2]\n",
    "\n",
    "z = zip(scores1, scores2)\n",
    "print(z)\n",
    "\n",
    "print()\n",
    "\n",
    "for score1, score2 in zip(scores1, scores2):\n",
    "    print(score1, score2)\n",
    "\n",
    "print()\n",
    "\n",
    "for index, score1 in enumerate(scores1):\n",
    "    print(index, score1)"
   ]
  },
  {
   "cell_type": "markdown",
   "id": "08a3aea6",
   "metadata": {},
   "source": [
    "---\n",
    "# 13. Sets\n",
    "---"
   ]
  },
  {
   "cell_type": "markdown",
   "id": "01e8f976",
   "metadata": {},
   "source": [
    "## 13.1 Sets are Unordered Collections\n",
    "\n",
    "- Sets are unordered collections of unique values.\n",
    "- To create a set, you can use a comma-separated list of values within curly braces `{}`.\n",
    "\n",
    "    ```python\n",
    "    s = {1, 2, 2, 3} # s is a set\n",
    "    ```\n",
    "\n",
    "- Sets are unordered collections of unique values (notice there's only one `2`).\n",
    "\n",
    "    ```python\n",
    "    print(s) # {2, 3, 1}\n",
    "    ```\n",
    "\n",
    "- You can create an empty set with the built-in function `set()`.\n",
    "\n",
    "    ```python\n",
    "    s = set() # s is an empty set\n",
    "    d = {} # you can’t use {} which creates an empty dict\n",
    "    ```"
   ]
  },
  {
   "cell_type": "code",
   "execution_count": 43,
   "id": "e03c2a88",
   "metadata": {},
   "outputs": [
    {
     "name": "stdout",
     "output_type": "stream",
     "text": [
      "{1, 2, 3}\n",
      "<class 'set'>\n",
      "\n",
      "set()\n",
      "<class 'set'>\n",
      "\n",
      "{}\n",
      "<class 'dict'>\n"
     ]
    }
   ],
   "source": [
    "s = {1, 2, 2, 3}\n",
    "print(s)\n",
    "print( type(s) )\n",
    "\n",
    "print()\n",
    "\n",
    "s = set()\n",
    "print(s)\n",
    "print( type(s) )\n",
    "\n",
    "print()\n",
    "\n",
    "d = {}\n",
    "print(d)\n",
    "print( type(d) )"
   ]
  },
  {
   "cell_type": "markdown",
   "id": "e9859153",
   "metadata": {},
   "source": [
    "---\n",
    "## 13.2 Sets are Mutable\n",
    "\n",
    "- Sets are mutable.\n",
    "\n",
    "    ```python\n",
    "    s = {1, 2} # {1, 2}\n",
    "    ```\n",
    "\n",
    "- To add a single element.\n",
    "\n",
    "    ```python\n",
    "    s.add(3) # {1, 2, 3}\n",
    "    ```\n",
    "\n",
    "- To add multiple elements.\n",
    "\n",
    "    ```python\n",
    "    s.update([4, 5]) # {1, 2, 3, 4, 5}\n",
    "    ```\n",
    "\n",
    "- To remove an element (raises `KeyError` if not found).\n",
    "\n",
    "    ```python\n",
    "    s.remove(2) # {1, 3, 4, 5}\n",
    "    ```\n",
    "\n",
    "- To remove an element (does nothing if not found).\n",
    "\n",
    "    ```python\n",
    "    s.discard(10) # {1, 3, 4, 5}\n",
    "    ```\n",
    "\n",
    "- To empty a set.\n",
    "\n",
    "    ```python\n",
    "    s.clear() # set()\n",
    "    ```"
   ]
  },
  {
   "cell_type": "code",
   "execution_count": 45,
   "id": "f1943bff",
   "metadata": {},
   "outputs": [
    {
     "name": "stdout",
     "output_type": "stream",
     "text": [
      "{1, 2}\n",
      "{1, 2, 3}\n",
      "{1, 2, 3, 4, 5}\n",
      "{1, 3, 4, 5}\n",
      "{1, 3, 4, 5}\n",
      "set()\n"
     ]
    }
   ],
   "source": [
    "s = {1, 2}\n",
    "print(s)\n",
    "\n",
    "s.add(3) # Add single element\n",
    "print(s)\n",
    "\n",
    "s.update([4, 5]) # Add multiple elements\n",
    "print(s)\n",
    "\n",
    "s.remove(2) # Removes 2, raises KeyError if not found\n",
    "print(s)\n",
    "\n",
    "s.discard(10) # Safe remove — does nothing if not found\n",
    "print(s)\n",
    "\n",
    "s.clear() # Empties the set\n",
    "print(s)"
   ]
  },
  {
   "cell_type": "markdown",
   "id": "7c5721bc",
   "metadata": {},
   "source": [
    "---\n",
    "## 13.3 Sets Support Set Operations\n",
    "\n",
    "- We can perform set operations on sets.\n",
    "\n",
    "    ```python\n",
    "    a = {1, 2, 3} # {1, 2, 3}\n",
    "    b = {3, 4, 5} # {3, 4, 5}\n",
    "    ```\n",
    "\n",
    "- Union.\n",
    "\n",
    "    ```python\n",
    "    a | b # {1, 2, 3, 4, 5}\n",
    "    ```\n",
    "\n",
    "- Intersection.\n",
    "\n",
    "    ```python\n",
    "    a & b # {3}\n",
    "    ```\n",
    "\n",
    "- Difference.\n",
    "\n",
    "    ```python\n",
    "    a - b # {1, 2}\n",
    "    ```\n",
    "\n",
    "- Symmetric Difference.\n",
    "\n",
    "    ```python\n",
    "    a ^ b # {1, 2, 4, 5}\n",
    "    ```\n",
    "\n",
    "- Membership testing.\n",
    "\n",
    "    ```python\n",
    "    3 in a # True\n",
    "    ```"
   ]
  },
  {
   "cell_type": "code",
   "execution_count": 47,
   "id": "dd14ae0e",
   "metadata": {},
   "outputs": [
    {
     "name": "stdout",
     "output_type": "stream",
     "text": [
      "{1, 2, 3}\n",
      "{3, 4, 5}\n",
      "{1, 2, 3, 4, 5}\n",
      "{3}\n",
      "{1, 2}\n",
      "{1, 2, 4, 5}\n"
     ]
    },
    {
     "data": {
      "text/plain": [
       "True"
      ]
     },
     "execution_count": 47,
     "metadata": {},
     "output_type": "execute_result"
    }
   ],
   "source": [
    "a = {1, 2, 3}\n",
    "b = {3, 4, 5}\n",
    "print(a)\n",
    "print(b)\n",
    "\n",
    "print(a | b) # union\n",
    "\n",
    "print(a & b) # intersection\n",
    "\n",
    "print(a - b) # difference\n",
    "\n",
    "print(a ^ b) # symmetric difference\n",
    "\n",
    "3 in a # membership testing"
   ]
  },
  {
   "cell_type": "markdown",
   "id": "50f5b737",
   "metadata": {},
   "source": [
    "---\n",
    "## 13.4 Frozensets are Immutable Sets\n",
    "\n",
    "- Frozensets are immutable versions of sets.\n",
    "- To create a frozenset, you use the built-in function `frozenset()`.\n",
    "\n",
    "    ```python\n",
    "    fs = frozenset({1, 2, 3}) # fs is a frozenset\n",
    "    ```\n",
    "\n",
    "- Frozensets are immutable.\n",
    "\n",
    "    ```python\n",
    "    fs.add(4) # Error\n",
    "    ```"
   ]
  },
  {
   "cell_type": "code",
   "execution_count": 51,
   "id": "9fcf0ee9",
   "metadata": {},
   "outputs": [
    {
     "name": "stdout",
     "output_type": "stream",
     "text": [
      "frozenset({1, 2, 3})\n",
      "<class 'frozenset'>\n",
      "AttributeError 'frozenset' object has no attribute 'add'\n"
     ]
    }
   ],
   "source": [
    "fs = frozenset({1, 2, 3})\n",
    "print(fs)\n",
    "print(type(fs))\n",
    "\n",
    "try:\n",
    "    fs.add(4) # AttributeError: frozensets are immutable\n",
    "except Exception as e:\n",
    "    print(type(e).__name__, e)"
   ]
  },
  {
   "cell_type": "markdown",
   "id": "b03b8a9b",
   "metadata": {},
   "source": [
    "---\n",
    "# 14. List and Dictionary Comprehensions\n",
    "---"
   ]
  },
  {
   "cell_type": "markdown",
   "id": "517d0c30",
   "metadata": {},
   "source": [
    "## 14.1 List Comprehensions\n",
    "\n",
    "- A list comprehension creates a list using a `for` loop inside the square brackets `[]` to generate the list’s elements.\n",
    "\n",
    "    ```python\n",
    "    words = ['level\\n', 'car\\n', 'madam\\n', 'dog\\n']\n",
    "    word_list = [word.strip() for word in words]\n",
    "    ```\n",
    "\n",
    "- A list comprehension can also have an `if` clause that determines which elements are included in the list.\n",
    "\n",
    "    ```python\n",
    "    numbers = [5, -5, 7, -7]\n",
    "    positive_numbers = [n for n in numbers if n > 0]\n",
    "    ```"
   ]
  },
  {
   "cell_type": "code",
   "execution_count": 53,
   "id": "409bef65",
   "metadata": {},
   "outputs": [
    {
     "name": "stdout",
     "output_type": "stream",
     "text": [
      "['level\\n', 'car\\n', 'madam\\n', 'dog\\n']\n",
      "['level', 'car', 'madam', 'dog']\n",
      "[5, -5, 7, -7]\n",
      "[5, 7]\n"
     ]
    }
   ],
   "source": [
    "words = ['level\\n', 'car\\n', 'madam\\n' ,'dog\\n']\n",
    "print(words)\n",
    "\n",
    "word_list = [word.strip() for word in words]\n",
    "print(word_list)\n",
    "\n",
    "numbers = [5, -5, 7, -7]\n",
    "print(numbers)\n",
    "\n",
    "positive_numbers = [n for n in numbers if n > 0]\n",
    "print(positive_numbers)"
   ]
  },
  {
   "cell_type": "markdown",
   "id": "d87e4fa9",
   "metadata": {},
   "source": [
    "---\n",
    "## 14.2 Dictionary Comprehensions\n",
    "\n",
    "- A dictionary comprehension creates a dictionary using a `for` loop inside the curly braces `{}` to generate the dictionary’s items.\n",
    "\n",
    "    ```python\n",
    "    words = ['level', 'car', 'madam', 'dog']\n",
    "    word_dict = {key:value\n",
    "                 for key, value in enumerate(words)}\n",
    "    ```\n",
    "\n",
    "- A dictionary comprehension can also have an `if` clause that determines which items are included in the dictionary.\n",
    "\n",
    "    ```python\n",
    "    words = ['level', 'car', 'madam', 'dog']\n",
    "    word_dict = {key:value\n",
    "                 for key, value in enumerate(words)\n",
    "                 if 'a' in value}\n",
    "    ```"
   ]
  },
  {
   "cell_type": "code",
   "execution_count": 56,
   "id": "5ecd1e46",
   "metadata": {},
   "outputs": [
    {
     "name": "stdout",
     "output_type": "stream",
     "text": [
      "['level', 'car', 'madam', 'dog']\n",
      "{0: 'level', 1: 'car', 2: 'madam', 3: 'dog'}\n",
      "{1: 'car', 2: 'madam'}\n"
     ]
    }
   ],
   "source": [
    "words = ['level', 'car', 'madam' ,'dog']\n",
    "print(words)\n",
    "\n",
    "word_dict = {key:value for key, value in enumerate(words)}\n",
    "print(word_dict)\n",
    "\n",
    "word_dict = {key:value for key, value in enumerate(words) if 'a' in value}\n",
    "print(word_dict)"
   ]
  },
  {
   "cell_type": "markdown",
   "id": "3f7432c4",
   "metadata": {},
   "source": [
    "---\n",
    "# 15. Files\n",
    "---"
   ]
  },
  {
   "cell_type": "markdown",
   "id": "723076ec",
   "metadata": {},
   "source": [
    "## 15.1 Filenames and Paths\n",
    "\n",
    "- The `os` module provides functions for working with files and directories.\n",
    "\n",
    "    ```python\n",
    "    import os\n",
    "    ```\n",
    "\n",
    "- The `os.getcwd()` function returns the path to the current working directory.\n",
    "\n",
    "    ```python\n",
    "    cwd = os.getcwd()\n",
    "    ```\n",
    "\n",
    "- The `os.path.abspath()` function takes a path to a file or directory and returns its absolute path.\n",
    "\n",
    "    ```python\n",
    "    os.path.abspath('python.ipynb')\n",
    "    ```\n",
    "\n",
    "- The `listdir()` function takes a path to a directory and returns a listing of files and subdirectories.\n",
    "\n",
    "    ```python\n",
    "    os.listdir(cwd)\n",
    "    ```\n",
    "\n",
    "- The `os.path.exists()` function checks if a file or directory exists.\n",
    "\n",
    "    ```python\n",
    "    os.path.exists('../.conda')\n",
    "    ```\n",
    "\n",
    "- The `os.path.isfile()` and `os.path.isdir()` functions check if a path is to a file or directory.\n",
    "\n",
    "    ```python\n",
    "    os.path.isfile('python.ipynb')\n",
    "    os.path.isdir('../.conda')\n",
    "    ```\n",
    "\n",
    "- The `os.path.join()` function joins directory and filenames into a path.\n",
    "\n",
    "    ```python\n",
    "    os.path.join(cwd, 'files', 'data.csv')\n",
    "    ```"
   ]
  },
  {
   "cell_type": "code",
   "execution_count": 59,
   "id": "68ba05ff",
   "metadata": {},
   "outputs": [
    {
     "name": "stdout",
     "output_type": "stream",
     "text": [
      "/home/patrick/projects/dataviz/workshop1\n",
      "/home/patrick/projects/dataviz/workshop1/python.ipynb\n",
      "['vscode.ipynb', 'python.ipynb']\n",
      "True\n",
      "True\n",
      "True\n",
      "/home/patrick/projects/dataviz/workshop1/files/data.csv\n"
     ]
    }
   ],
   "source": [
    "import os\n",
    "\n",
    "cwd = os.getcwd()\n",
    "print(cwd)\n",
    "\n",
    "path = os.path.abspath('python.ipynb')\n",
    "print(path)\n",
    "\n",
    "lst = os.listdir(cwd)\n",
    "print(lst)\n",
    "\n",
    "folder_exists = os.path.exists('../.conda')\n",
    "print(folder_exists)\n",
    "\n",
    "is_file = os.path.isfile('python.ipynb')\n",
    "is_dir = os.path.isdir('../.conda')\n",
    "print(is_file)\n",
    "print(is_dir)\n",
    "\n",
    "datafile_path = os.path.join(cwd,'files','data.csv')\n",
    "print(datafile_path)"
   ]
  },
  {
   "cell_type": "markdown",
   "id": "c0c663cc",
   "metadata": {},
   "source": [
    "---\n",
    "## 15.2 Reading and Writing Files\n",
    "\n",
    "- The `open()` function takes a filepath and a mode, opens a file, returning a file handle.\n",
    "\n",
    "    ```python\n",
    "    f = open('example.txt', 'w')\n",
    "    ```\n",
    "\n",
    "- The file modes are `'r'` for reading, `'w'` for writing, and `'a'` for appending from/to a text file.\n",
    "  - Adding a `'b'`, ie. `'rb'`, `'wb'`, `'ab'`, processes the file as a binary file.\n",
    "  - Adding a `'+'`, ie. `'r+'`, `'w+'`, `'a+’`, `'rb+’`, `'wb+'`, `'ab+'`, enables reading and writing/appending.\n",
    "\n",
    "    ```python\n",
    "    f = open('image.jpg', 'rb')\n",
    "    ```\n",
    "\n",
    "- To close a file, the `close()` method is called on the file handle variable.\n",
    "\n",
    "    ```python\n",
    "    f = open('example.txt', 'r')\n",
    "    f.close()\n",
    "    ```\n",
    "\n",
    "- The `with` construct automatically closes the file when done by calling `close()` on the file handle.\n",
    "\n",
    "    ```python\n",
    "    with open('example.txt', 'r') as f:\n",
    "        # process file here\n",
    "    # file automatically closed here\n",
    "    ```\n",
    "\n",
    "- The file handle contains numerous methods:\n",
    "\n",
    "    ```python\n",
    "    f.write('Hello\\n') # writes/appends to the file\n",
    "    f.read()           # reads the file’s contents\n",
    "    f.readlines()      # returns a list with the file’s lines\n",
    "    for line in f:     # processes the file line by line\n",
    "    ```"
   ]
  },
  {
   "cell_type": "code",
   "execution_count": 64,
   "id": "09c8525c",
   "metadata": {},
   "outputs": [
    {
     "name": "stdout",
     "output_type": "stream",
     "text": [
      "Hello\n",
      "World\n",
      "!\n",
      "\n",
      "Hello\n",
      "World\n",
      "!\n",
      "\n",
      "['Hello\\n', 'World\\n', '!\\n']\n"
     ]
    }
   ],
   "source": [
    "# write file\n",
    "\n",
    "with open('example.txt', 'w') as f:\n",
    "    f.write(\"Hello\\n\")\n",
    "    f.write(\"World\\n\")\n",
    "\n",
    "with open('example.txt', 'a') as f:\n",
    "    f.write(\"!\\n\")\n",
    "\n",
    "# read file\n",
    "\n",
    "with open('example.txt', 'r') as f:\n",
    "    contents = f.read()\n",
    "print(contents)\n",
    "\n",
    "with open('example.txt', 'r') as f:\n",
    "    for line in f:\n",
    "        print(line.strip())\n",
    "\n",
    "print()\n",
    "\n",
    "with open('example.txt', 'r') as f:\n",
    "    lines = f.readlines()\n",
    "print(lines)\n",
    "\n",
    "# read image\n",
    "\n",
    "with open('../images/search-view-icon.png', 'rb') as f:\n",
    "    image = f.read()\n",
    "\n",
    "# write image\n",
    "\n",
    "with open('copy.png', 'wb') as f:\n",
    "    f.write(image)"
   ]
  },
  {
   "cell_type": "markdown",
   "id": "b7658e7a",
   "metadata": {},
   "source": [
    "---\n",
    "# 16. Object-Oriented Programming\n",
    "---"
   ]
  },
  {
   "cell_type": "markdown",
   "id": "cbef03c8",
   "metadata": {},
   "source": [
    "## 16.1 Programmer-Defined Types (Classes)\n",
    "\n",
    "- Object-oriented programming uses programmer-defined types to organize code and data. A programmer-defined type is also called a class.\n",
    "- A class definition has:\n",
    "  - A **head**, consisting of the keyword `class`, followed by its **name** and a colon `:`\n",
    "  - A **body**, consisting of the definition of the class indented under the **head**.\n",
    "- Usually, the first part of the body contains a **docstring**, describing the class.\n",
    "\n",
    "    ```python\n",
    "    class Card:\n",
    "        \"\"\"Represents a standard playing card.\"\"\"\n",
    "    ```\n",
    "\n",
    "- To create a new instance (object) of a class, the class **name** is followed by parentheses `()`. The new instance (object) is usually assigned to a variable.\n",
    "\n",
    "    ```python\n",
    "    card = Card()\n",
    "    ```\n",
    "\n",
    "- The new object is of type `__main__.Card`, where `__main__` is the name of the module in which `Card` is defined.\n",
    "\n",
    "    ```python\n",
    "    print(type(card)) # <class '__main__.Card'>\n",
    "    ```\n",
    "\n",
    "- When you print an object, Python tells you what type it is and where (memory address) it is stored in memory (the `0x` prefix means its a hexadecimal number).\n",
    "\n",
    "    ```python\n",
    "    print(card) # <__main__.Card object at 0x709cfc23c2f0>\n",
    "    ```"
   ]
  },
  {
   "cell_type": "code",
   "execution_count": 66,
   "id": "4885c867",
   "metadata": {},
   "outputs": [
    {
     "name": "stdout",
     "output_type": "stream",
     "text": [
      "<class '__main__.Card'>\n",
      "<__main__.Card object at 0x72225c66ec00>\n"
     ]
    }
   ],
   "source": [
    "class Card:\n",
    "    \"\"\"Represents a standard playing card.\"\"\"\n",
    "    pass\n",
    "\n",
    "card = Card()\n",
    "\n",
    "print( type(card) )\n",
    "print(card)"
   ]
  },
  {
   "cell_type": "markdown",
   "id": "5c4298c9",
   "metadata": {},
   "source": [
    "---\n",
    "## 16.2 Attributes and Methods\n",
    "\n",
    "- A class can contain functions called methods. A class contains a special method `__init__()` called a constructor.\n",
    "\n",
    "    ```python\n",
    "    class Card:\n",
    "        \"\"\"Represents a standard plying card.\"\"\"\n",
    "        def __init__(self):\n",
    "            # initialization code goes here\n",
    "    ```\n",
    "\n",
    "- When a new instance (object) of a class is created, the constructor is called, where the first parameter called `self` is implicitly set to the new instance (object) of the class that is being created.\n",
    "\n",
    "    ```python\n",
    "    card = Card() # create an object of type Card, assign it to variable card\n",
    "    ```\n",
    "\n",
    "- A class can contain variables, called attributes, which are defined and initialized in the constructor.\n",
    "\n",
    "    ```python\n",
    "    def __init__(self, suit, rank): # constructor now has parameters\n",
    "        self.suit = suit # initialize attribute self.suit with value suit\n",
    "        self.rank = rank # initialize attribute self.rank with value rank\n",
    "    ```\n",
    "\n",
    "- Since the constructor now takes 2 arguments (in addition to `self`), we need to supply them when creating an object.\n",
    "\n",
    "    ```python\n",
    "    card = Card('Spades', 'Ace') # create an object passing in arguments\n",
    "    ```\n",
    "\n",
    "- A class can contain additional (normal) methods besides the special constructor method (first parameter is `self`).\n",
    "\n",
    "    ```python\n",
    "    def to_tuple(self): # first parameter is self, which makes this an instance method\n",
    "        return (self.suit, self.rank) # returns a tuple ('Spades', 'Ace')\n",
    "    ```\n",
    "\n",
    "- Once we have an instance (object) of a class, we can access the attributes and methods using dot notation `.`\n",
    "\n",
    "    ```python\n",
    "    card = Card('Spades', 'Ace')\n",
    "    print(card.suit, card.rank) # prints out Spades Ace\n",
    "    print(card.to_tuple())\n",
    "    # prints out ['Spades', 'Ace']\n",
    "    ```"
   ]
  },
  {
   "cell_type": "code",
   "execution_count": 1,
   "id": "3f64c5d9",
   "metadata": {},
   "outputs": [
    {
     "name": "stdout",
     "output_type": "stream",
     "text": [
      "<class '__main__.Card'>\n",
      "<__main__.Card object at 0x7060f430ca40>\n",
      "Spades Ace\n",
      "('Spades', 'Ace')\n"
     ]
    }
   ],
   "source": [
    "class Card:\n",
    "    \"\"\"Represents a standard playing card.\"\"\"\n",
    "\n",
    "    def __init__(self, suit, rank):\n",
    "        self.suit = suit\n",
    "        self.rank = rank\n",
    "\n",
    "    def to_tuple(self):\n",
    "        return (self.suit, self.rank)\n",
    "\n",
    "card = Card('Spades', 'Ace')\n",
    "print(type(card))\n",
    "print(card)\n",
    "print(card.suit, card.rank)\n",
    "print(card.to_tuple())"
   ]
  },
  {
   "cell_type": "markdown",
   "id": "ac0f5b34",
   "metadata": {},
   "source": [
    "- Notice that we have direct access to the attributes from the instance (object).\n",
    "\n",
    "    ```python\n",
    "    card = Card('Spades', 'Ace')\n",
    "    card.suit = 'Hearts'\n",
    "    card.rank = '9'\n",
    "    print(card.suit, card.rank) # prints out Hearts 9\n",
    "    ```\n",
    "\n",
    "- This means the attributes have public visibility, i.e. can be accessed directly (read from, and written to) from an instance (object) via the dot operator. This isn’t ideal, since any client code could change the attribute’s values directly, with any values. Instead we want to access an attribute via a **getter method** (returns its value) and a **setter method** (sets its value). The client code is unchanged, but access is then via the getter and setter.\n",
    "- First we make sure the attributes have **private visibility**, i.e. are only accessible from code within the class definition, by preceding an attribute name with 2 underscores `__`\n",
    "\n",
    "    ```python\n",
    "    def __init__(self, suit, rank):\n",
    "        self.__suit = suit # self.__suit\n",
    "        self.__rank = rank # self.__rank\n",
    "    ```\n",
    "\n",
    "- Then we define a **getter** and **setter** method with the syntax below. Notice the decorators `@property` and\n",
    "`@attributename.setter`, where `attributename` is the name of the property. Also notice the getter\n",
    "and setter methods have the same name as the attribute. The getter takes no arguments and returns the\n",
    "attribute’s value. The setter takes one argument (value) and sets the attribute’s value.\n",
    "\n",
    "    ```python\n",
    "    @property\n",
    "    def suit(self):\n",
    "        return self.__suit  # self.__suit\n",
    "\n",
    "    @suit.setter\n",
    "    def suit(self, value):\n",
    "        self.__suit = value # self.__suit = value\n",
    "    ```"
   ]
  },
  {
   "cell_type": "code",
   "execution_count": 3,
   "id": "56fca830",
   "metadata": {},
   "outputs": [
    {
     "name": "stdout",
     "output_type": "stream",
     "text": [
      "Spades Ace\n",
      "AttributeError property 'suit' of 'Card' object has no setter\n"
     ]
    }
   ],
   "source": [
    "class Card:\n",
    "    \"\"\"Represents a standard playing card.\"\"\"\n",
    "\n",
    "    def __init__(self, suit, rank):\n",
    "        self.__suit = suit\n",
    "        self.__rank = rank\n",
    "\n",
    "    @property\n",
    "    def suit(self):\n",
    "        return self.__suit\n",
    "    \n",
    "    # @suit.setter\n",
    "    # def suit(self, value):\n",
    "    #     self.__suit = value\n",
    "\n",
    "    @property\n",
    "    def rank(self):\n",
    "        return self.__rank\n",
    "    \n",
    "    # @rank.setter\n",
    "    # def rank(self, value):\n",
    "    #     self.__rank = value\n",
    "\n",
    "    def to_tuple(self):\n",
    "        return (self.suit, self.rank)\n",
    "    \n",
    "card = Card('Spades', 'Ace')\n",
    "print(card.suit, card.rank)\n",
    "try:\n",
    "    card.suit = 'Hearts'\n",
    "except Exception as e:\n",
    "    print(type(e).__name__, e)"
   ]
  },
  {
   "cell_type": "markdown",
   "id": "9a908d8b",
   "metadata": {},
   "source": [
    "---\n",
    "## 16.3 Class Attributes\n",
    "\n",
    "- The attributes we have just defined are called **instance attributes**, since they are only accessible from an instance (object) via dot notation `card.suit`\n",
    "- A **class attribute** is accessible via the **class** using dot notation. Class attributes are defined outside any method and without the preceding `self`, such as the attributes `suit_names` and `rank_names` below.\n",
    "\n",
    "    ```python\n",
    "    class Card:\n",
    "        suit_names = ['Clubs', 'Diamonds', 'Hearts', 'Spades']\n",
    "        rank_names = [None,'Ace','2','3','4','5','6','7','8',\n",
    "        '9', '10','Jack','Queen','King','Ace']\n",
    "\n",
    "        def __init__(self, suit, rank):\n",
    "            self.__suit = suit\n",
    "            self.__rank = rank\n",
    "    ```\n",
    "\n",
    "- Class attributes belong to the class itself, and not to any instance (object), so changing the value of a class attribute via the class name, changes the value for all objects.\n",
    "\n",
    "    ```python\n",
    "    card1 = Card('Spades', 'Ace')\n",
    "    card2 = Card('Hearts', '9')\n",
    "    print(Card.suit_names) # ['Clubs','Diamonds','Hearts','Spades']\n",
    "\n",
    "    Card.suit_names = ['One', 'Two', 'Three', 'Four']\n",
    "    print(card1.suit_names) # ['One', 'Two', 'Three', 'Four']\n",
    "    print(card2.suit_names) # ['One', 'Two', 'Three', 'Four']\n",
    "    print(Card.suit_names) # ['One', 'Two', 'Three', 'Four']\n",
    "    ```\n",
    "\n",
    "- In Python you can actually access and change a class attribute via an instance (object), but that just creates an instance attribute that overrides the class attribute for that instance (object).\n",
    "\n",
    "    ```python\n",
    "    card1.suit_names = ['Five', 'Six', 'Seven', 'Eight']\n",
    "    print(card1.suit_names) # ['Five', 'Six', 'Seven', 'Eight']\n",
    "    print(card2.suit_names) # ['One', 'Two', 'Three', 'Four']\n",
    "    print(Card.suit_names) # ['One', 'Two', 'Three', 'Four']\n",
    "    ```"
   ]
  },
  {
   "cell_type": "code",
   "execution_count": 4,
   "id": "63edcbb0",
   "metadata": {},
   "outputs": [
    {
     "name": "stdout",
     "output_type": "stream",
     "text": [
      "['Clubs', 'Diamonds', 'Hearts', 'Spades']\n",
      "['Clubs', 'Diamonds', 'Hearts', 'Spades']\n",
      "['Clubs', 'Diamonds', 'Hearts', 'Spades']\n",
      "['One', 'Two', 'Three', 'Four']\n",
      "['One', 'Two', 'Three', 'Four']\n",
      "['One', 'Two', 'Three', 'Four']\n"
     ]
    }
   ],
   "source": [
    "class Card:\n",
    "\n",
    "    suit_names = ['Clubs', 'Diamonds', 'Hearts', 'Spades']\n",
    "    \n",
    "    rank_names = [None, 'Ace', '2', '3',\n",
    "                  '4', '5', '6', '7',\n",
    "                  '8', '9', '10', 'Jack',\n",
    "                  'Queen', 'King', 'Ace']\n",
    "    \n",
    "    def __init__(self, suit, rank):\n",
    "        self.__suit = suit\n",
    "        self.__rank = rank\n",
    "\n",
    "    @property\n",
    "    def suit(self):\n",
    "        return self.__suit\n",
    "    \n",
    "    @property\n",
    "    def rank(self):\n",
    "        return self.__rank\n",
    "\n",
    "    def to_tuple(self):\n",
    "        return (self.suit, self.rank)\n",
    "    \n",
    "card1 = Card('Spades', 'Ace')\n",
    "card2 = Card('Hearts', '9')\n",
    "\n",
    "print(card1.suit_names)\n",
    "print(card2.suit_names)\n",
    "print(Card.suit_names)\n",
    "\n",
    "Card.suit_names = ['One', 'Two', 'Three', 'Four']\n",
    "print(card1.suit_names)\n",
    "print(card2.suit_names)\n",
    "print(Card.suit_names)"
   ]
  },
  {
   "cell_type": "markdown",
   "id": "90581c88",
   "metadata": {},
   "source": [
    "---\n",
    "## 16.4 Special Methods\n",
    "\n",
    "- Special methods’ names start and end with two underscores `__`\n",
    "- A constructor `__init__` is a special method.\n",
    "- Other special methods are:\n",
    "  - `__str__` which returns a string representation of an instance (object), used by e.g. the `print()` function\n",
    "\n",
    "    ```python\n",
    "    card1 = Card(0, 2) # 'Clubs', '2'\n",
    "    print(card1)       # 'Clubs', '2'\n",
    "    ```\n",
    "\n",
    "  - `__eq__` which overloads the `==` operator, taking\n",
    "  another object `o`, returning `True` if `self == o`\n",
    "  - `__lt__` which overrides the `<` operator, taking\n",
    "  another object `o`, returning `True` if `self < o`\n",
    "  - `__le__` which overrides the `<=` operator, taking\n",
    "  another object `o`, returning `True` if `self <= o`\n",
    "- `self` refers to the current object, where the last 3 methods override (redefine) operators for the class, such that 2 objects of a class can be compared using the operators.\n",
    "\n",
    "    ```python\n",
    "    card1 = Card(0, 2) # 'Clubs', '2'\n",
    "    card2 = Card(0, 3) # 'Clubs', '3'\n",
    "    card1 < card2 # True using __lt__\n",
    "    ```\n",
    "\n",
    "- There are more special methods, e.g. `__gt__` for `>` and `__ge__` for `>=`, but it suffices to override `__lt__` and `__le__`"
   ]
  },
  {
   "cell_type": "code",
   "execution_count": 5,
   "id": "ab9668e2",
   "metadata": {},
   "outputs": [
    {
     "name": "stdout",
     "output_type": "stream",
     "text": [
      "True\n",
      "2 of Clubs\n"
     ]
    }
   ],
   "source": [
    "class Card:\n",
    "    suit_names = ['Clubs','Diamonds','Hearts','Spades']\n",
    "    rank_names = [None,'Ace','2','3','4','5','6','7','8','9','10','Jack','Queen','King','Ace']\n",
    "\n",
    "    def __init__(self, suit, rank):\n",
    "        self.__suit = suit\n",
    "        self.__rank = rank\n",
    "\n",
    "    @property\n",
    "    def suit(self):\n",
    "        return self.__suit\n",
    "    \n",
    "    @property\n",
    "    def rank(self):\n",
    "        return self.__rank\n",
    "    \n",
    "    def to_tuple(self):\n",
    "        return (self.suit, self.rank)\n",
    "    \n",
    "    def __str__(self):\n",
    "        rank_name = Card.rank_names[self.__rank]\n",
    "        suit_name = Card.suit_names[self.__suit]\n",
    "        return f'{rank_name} of {suit_name}'\n",
    "    \n",
    "    def __eq__(self, other):\n",
    "        return isinstance(other, Card) and self.__suit == other.suit and self.__rank == other.rank\n",
    "    \n",
    "    def __lt__(self, other):\n",
    "        return isinstance(other, Card) and self.to_tuple() < other.to_tuple()\n",
    "    \n",
    "    def __le__(self, other):\n",
    "        return isinstance(other, Card) and self.to_tuple() <= other.to_tuple()\n",
    "    \n",
    "card1, card2 = Card(0, 2), Card(0, 3)\n",
    "print(card1 < card2)\n",
    "print(card1)"
   ]
  },
  {
   "cell_type": "markdown",
   "id": "c6b3696a",
   "metadata": {},
   "source": [
    "---\n",
    "## 16.5 Modules and Packages\n",
    "\n",
    "- Currently, when we print out the type of a Card object we get.\n",
    "\n",
    "    ```python\n",
    "    card = Card(0, 2)\n",
    "    print(type(card)) # <class '__main__.Card'>\n",
    "    ```\n",
    "\n",
    "- The new object is of type `__main__.Card`, where `__main__` is the name of the module in which `Card` class is defined.\n",
    "- A module is simply a `.py` file, e.g. `main.py`, which can contain class definitions, functions, variables, etc.\n",
    "- The `__main__` module is actually a special module. The Python file that we supply as an argument to the Python interpreter, e.g. `python main.py` is designated as the `__main__` module, irrespective of the name of the Python file, and is where we usually have our main program code.\n",
    "- We can group modules (`.py` files) into packages, where a package contains a collection of related modules. For example, a math package might contain various modules (`.py` files) for performing mathematical calculations such\n",
    "as `sqrt()`, `sin()`, `cos()`, etc.\n",
    "- A package is just a folder that contains a set of modules (`.py` files), including a special file called `__init__.py`. This file can be empty, but is actually what makes a folder a package, where the name of the package is the folder name.\n",
    "- Let’s move our class definition code to a module called `card.py`, and place it in a folder called `poker`. Finally, let’s add an empty file `__init__.py` in the `poker` folder, hence creating a package called `poker`, with one module in it, i.e. the file `card.py`.\n",
    "- In `main.py`, let’s use the code below, which imports the `Card` class from the card module in the poker package, creates an instance (object) of the `Card` class, and prints out its type.\n",
    "\n",
    "    ```python\n",
    "    from poker.card import Card\n",
    "    card = Card(0, 2)\n",
    "    print(type(card)) # <class 'poker.card.Card'>\n",
    "    ```\n",
    "\n",
    "- The print out of the instance (object) now tells us the `Card` class is in the card module in the poker package.\n",
    "\n",
    "Run the five cells below to create this structure.\n",
    "\n",
    "```python\n",
    "├── main.py\n",
    "└── poker\n",
    "  ├── card.py\n",
    "  └── __init__.py\n",
    "```"
   ]
  },
  {
   "cell_type": "code",
   "execution_count": 10,
   "id": "dd046f70",
   "metadata": {},
   "outputs": [],
   "source": [
    "import os\n",
    "os.makedirs(\"poker\", exist_ok=True)"
   ]
  },
  {
   "cell_type": "code",
   "execution_count": 11,
   "id": "9d691631",
   "metadata": {},
   "outputs": [
    {
     "name": "stdout",
     "output_type": "stream",
     "text": [
      "Overwriting poker/__init__.py\n"
     ]
    }
   ],
   "source": [
    "%%writefile poker/__init__.py\n",
    "\n"
   ]
  },
  {
   "cell_type": "code",
   "execution_count": 21,
   "id": "20d47bf9",
   "metadata": {},
   "outputs": [
    {
     "name": "stdout",
     "output_type": "stream",
     "text": [
      "Overwriting poker/card.py\n"
     ]
    }
   ],
   "source": [
    "%%writefile poker/card.py\n",
    "class Card:\n",
    "    suit_names = ['Clubs','Diamonds','Hearts','Spades']\n",
    "    rank_names = [None,'Ace','2','3','4','5','6','7','8','9','10','Jack','Queen','King','Ace']\n",
    "\n",
    "    def __init__(self, suit, rank):\n",
    "        self.__suit = suit\n",
    "        self.__rank = rank\n",
    "\n",
    "    @property\n",
    "    def suit(self):\n",
    "        return self.__suit\n",
    "    \n",
    "    @property\n",
    "    def rank(self):\n",
    "        return self.__rank\n",
    "    \n",
    "    def to_tuple(self):\n",
    "        return (self.suit, self.rank)\n",
    "    \n",
    "    def __str__(self):\n",
    "        rank_name = Card.rank_names[self.__rank]\n",
    "        suit_name = Card.suit_names[self.__suit]\n",
    "        return f'{rank_name} of {suit_name}'\n",
    "    \n",
    "    def __eq__(self, other):\n",
    "        return isinstance(other, Card) and self.__suit == other.suit and self.__rank == other.rank\n",
    "    \n",
    "    def __lt__(self, other):\n",
    "        return isinstance(other, Card) and self.to_tuple() < other.to_tuple()\n",
    "    \n",
    "    def __le__(self, other):\n",
    "        return isinstance(other, Card) and self.to_tuple() <= other.to_tuple()"
   ]
  },
  {
   "cell_type": "code",
   "execution_count": 22,
   "id": "803581e8",
   "metadata": {},
   "outputs": [
    {
     "name": "stdout",
     "output_type": "stream",
     "text": [
      "Overwriting main.py\n"
     ]
    }
   ],
   "source": [
    "%%writefile main.py\n",
    "from poker.card import Card\n",
    "\n",
    "card = Card(0, 2)\n",
    "print(type(card))"
   ]
  },
  {
   "cell_type": "code",
   "execution_count": 23,
   "id": "2e66ba3f",
   "metadata": {},
   "outputs": [
    {
     "name": "stdout",
     "output_type": "stream",
     "text": [
      "<class 'poker.card.Card'>\n"
     ]
    }
   ],
   "source": [
    "!python main.py"
   ]
  },
  {
   "cell_type": "markdown",
   "id": "a5babce1",
   "metadata": {},
   "source": [
    "- There are multiple ways to import packages, modules, classes, functions and variables.\n",
    "\n",
    "    ```python\n",
    "    # import the whole poker package\n",
    "    # to access the Card class, we need to use card1 = poker.card.Card(0, 2)\n",
    "    import poker\n",
    "\n",
    "    # import the whole poker package, under the alias p\n",
    "    # to access the Card class, we need to use card1 = p.card.Card(0, 2)\n",
    "    import poker as p\n",
    "\n",
    "    # import the whole card module, under the alias card, from the poker package\n",
    "    # to access the Card class, we need to use card1 = card.Card(0, 2)\n",
    "    import poker.card as card\n",
    "\n",
    "    # import the Card class, from the card module, in the poker package\n",
    "    # to access the Card class, we need to use card1 = Card(0, 2)\n",
    "    from poker.card import Card\n",
    "\n",
    "    # import the Card class, under the alias C, from the card module, in the poker package\n",
    "    # to access the Card class, we need to use card1 = C(0, 2)\n",
    "    from poker.card import Card as C\n",
    "    ```\n",
    "\n",
    "- In this case, it makes sense to use the second last alternative, so we can use the `Card` class directly.\n",
    "\n",
    "    ```python\n",
    "    from poker.card import Card\n",
    "\n",
    "    card1 = Card(0, 2)\n",
    "    print(type(card))\n",
    "    ```\n",
    "\n",
    "    ```python\n",
    "    ├── main.py\n",
    "    └── poker\n",
    "      ├── card.py\n",
    "      └── __init__.py\n",
    "    ```"
   ]
  },
  {
   "cell_type": "code",
   "execution_count": 24,
   "id": "6bc74b0d",
   "metadata": {},
   "outputs": [
    {
     "name": "stdout",
     "output_type": "stream",
     "text": [
      "<class '__main__.Card'>\n"
     ]
    }
   ],
   "source": [
    "from poker.card import Card\n",
    "\n",
    "card1 = Card(0, 2)\n",
    "print(type(card))"
   ]
  },
  {
   "cell_type": "markdown",
   "id": "111aa21e",
   "metadata": {},
   "source": [
    "---\n",
    "## 16.6 The Card Class in Action\n",
    "\n",
    "- Here's some sample usage of the `Card` class."
   ]
  },
  {
   "cell_type": "code",
   "execution_count": 26,
   "id": "a43e5017",
   "metadata": {},
   "outputs": [
    {
     "name": "stdout",
     "output_type": "stream",
     "text": [
      "['Clubs', 'Diamonds', 'Hearts', 'Spades']\n",
      "[None, 'Ace', '2', '3', '4', '5', '6', '7', '8', '9', '10', 'Jack', 'Queen', 'King', 'Ace']\n",
      "Clubs\n",
      "Jack\n",
      "Queen of Diamonds\n",
      "Queen of Diamonds\n",
      "6 of Diamonds\n",
      "False\n",
      "False\n",
      "True\n",
      "False\n",
      "True\n",
      "False\n",
      "True\n",
      "False\n",
      "False\n",
      "False\n",
      "True\n",
      "False\n",
      "True\n"
     ]
    }
   ],
   "source": [
    "from poker.card import Card\n",
    "\n",
    "print(Card.suit_names)\n",
    "print(Card.rank_names)\n",
    "\n",
    "print(Card.suit_names[0])\n",
    "print(Card.rank_names[11])\n",
    "\n",
    "queen = Card(1, 12)\n",
    "queen2 = Card(1, 12)\n",
    "six = Card(1, 6)\n",
    "print(queen)\n",
    "print(queen2)\n",
    "print(six)\n",
    "\n",
    "print(queen is queen2)\n",
    "print(queen is six)\n",
    "\n",
    "print(queen == queen2)\n",
    "print(queen == six)\n",
    "print(queen != six)\n",
    "print(queen != queen2)\n",
    "\n",
    "print(six < queen)\n",
    "print(six > queen)\n",
    "print(queen < queen2)\n",
    "print(queen > queen2)\n",
    "\n",
    "print(queen <= queen2)\n",
    "print(queen <= six)\n",
    "print(queen >= six)"
   ]
  },
  {
   "cell_type": "markdown",
   "id": "9b8bd547",
   "metadata": {},
   "source": [
    "---\n",
    "## 16.7 The Deck Class\n",
    "\n",
    "- Let’s add another module `deck.py` to the `poker` package.\n",
    "  - Create a `deck.py` file (module) in the `poker` folder (package)\n",
    "  - `import` the package `random` (for random numbers, etc.)\n",
    "  - `import` the `Card` class from the `card.py` module\n",
    "    - Notice the relative path `.card`, i.e. `poker/card.py`\n",
    "    - It’s common practice to use relative paths within the same package.\n",
    "  - Define a `Deck` class in `deck.py`\n",
    "    - The constructor calls the protected method `self._make_cards()`, which returns a list of 52\n",
    "    cards, and assigns the list to the protected attribute `self._cards`\n",
    "    - A protected attribute is like a private attribute with respect to client programs, but like a public attribute for inheriting subclasses (we’ll see this shortly).\n",
    "    - Likewise, a protected method is not visible for client programs, but visible for inheriting subclasses.\n",
    "    - The `take_card()` method removes and returns a card from the deck, and the `put_card()`method takes a card as an argument and adds it to the deck.\n",
    "    - The `move_cards()` method takes another `Deck` and a **number** as arguments, and moves the first **number** of cards from the current `Deck` to the other `Deck`. It calls the `take_card()` and `put_card()` methods to move a card.\n",
    "    - The `shuffle()` method calls the `shuffle()` method from the `random` package to shuffle the deck of cards, and the `sort()` method sorts the deck of cards.\n",
    "    - The special method `__str__` returns a string representation of a `Deck` object.\n",
    "\n",
    "    ```python\n",
    "    ├── main.py\n",
    "    └── poker\n",
    "      ├── card.py\n",
    "      ├── deck.py\n",
    "      └── __init__.py\n",
    "    ```"
   ]
  },
  {
   "cell_type": "code",
   "execution_count": 27,
   "id": "4d8347a0",
   "metadata": {},
   "outputs": [
    {
     "name": "stdout",
     "output_type": "stream",
     "text": [
      "Writing poker/deck.py\n"
     ]
    }
   ],
   "source": [
    "%%writefile poker/deck.py\n",
    "import random\n",
    "from .card import Card\n",
    "\n",
    "class Deck:\n",
    "    def __init__(self, label=''):\n",
    "        self._cards = self._make_cards()\n",
    "\n",
    "    @property\n",
    "    def cards(self):\n",
    "        return self._cards\n",
    "    \n",
    "    def _make_cards(self):\n",
    "        cards = []\n",
    "        for suit in range(4):\n",
    "            for rank in range(2, 15):\n",
    "                card = Card(suit, rank)\n",
    "                cards.append(card)\n",
    "        return cards\n",
    "    \n",
    "    def move_cards(self, other, num):\n",
    "        for i in range(num):\n",
    "            card = self.take_card()\n",
    "            other.put_card(card)\n",
    "    \n",
    "    def take_card(self):\n",
    "        return self._cards.pop()\n",
    "    \n",
    "    def put_card(self, card):\n",
    "        self._cards.append(card)\n",
    "    \n",
    "    def shuffle(self):\n",
    "        random.shuffle(self._cards)\n",
    "    \n",
    "    def sort(self):\n",
    "        self._cards.sort()\n",
    "    \n",
    "    def __str__(self):\n",
    "        res = []\n",
    "        for card in self._cards:\n",
    "            res.append(str(card))\n",
    "        return '\\n'.join(res)"
   ]
  },
  {
   "cell_type": "markdown",
   "id": "69a8b580",
   "metadata": {},
   "source": [
    "---\n",
    "## 16.8 The Deck Class in Action\n",
    "\n",
    "- Here's some sample usage of the `Deck` class."
   ]
  },
  {
   "cell_type": "code",
   "execution_count": 28,
   "id": "5f3086e1",
   "metadata": {},
   "outputs": [
    {
     "name": "stdout",
     "output_type": "stream",
     "text": [
      "52\n",
      "Ace of Spades\n",
      "51\n",
      "52\n",
      "\n",
      "2 of Clubs\n",
      "3 of Clubs\n",
      "4 of Clubs\n",
      "5 of Clubs\n",
      "\n",
      "8 of Spades\n",
      "10 of Hearts\n",
      "King of Clubs\n",
      "9 of Clubs\n",
      "\n",
      "2 of Clubs\n",
      "3 of Clubs\n",
      "4 of Clubs\n",
      "5 of Clubs\n"
     ]
    }
   ],
   "source": [
    "from poker.card import Card\n",
    "from poker.deck import Deck\n",
    "\n",
    "deck = Deck()\n",
    "print(len(deck.cards))\n",
    "\n",
    "card = deck.take_card()\n",
    "print(card)\n",
    "print(len(deck.cards))\n",
    "\n",
    "deck.put_card(card)\n",
    "print(len(deck.cards))\n",
    "\n",
    "print()\n",
    "for card in deck.cards[:4]:\n",
    "    print(card)\n",
    "print()\n",
    "\n",
    "deck.shuffle()\n",
    "for card in deck.cards[:4]:\n",
    "    print(card)\n",
    "print()\n",
    "\n",
    "deck.sort()\n",
    "for card in deck.cards[:4]:\n",
    "    print(card)"
   ]
  },
  {
   "cell_type": "markdown",
   "id": "14ff5f66",
   "metadata": {},
   "source": [
    "---\n",
    "## 16.9 The Hand Class\n",
    "\n",
    "- Let’s add another module `hand.py` to the `poker` package.\n",
    "  - Create a `hand.py` file (module) in the `poker` folder (package).\n",
    "  - `import` the `Deck` class from the `deck.py` module.\n",
    "    - Notice the relative path `.deck`, i.e. `poker/deck.py`\n",
    "  - Define a `Hand` class in `hand.py`\n",
    "    - Notice the class header is defined as `class Hand(Deck)`\n",
    "      - This is how inheritance works in Python, where `Hand` inherits from `Deck`\n",
    "      - `Deck` is called the superclass and `Hand` is called the subclass.\n",
    "      - This means that `Hand` inherits all attributes and methods from `Deck`\n",
    "      - Public and protected attributes and methods in `Deck` are available in `Hand`\n",
    "    - The constructor takes an optional parameter `label` of type `str`\n",
    "      - We know it’s optional since it is assigned an initial value `label=''`\n",
    "    - The constructor calls the superclass’ constructor `super().__init__(label)`\n",
    "      - This will initialize the attributes in `Deck`, which are also available in `Hand`\n",
    "    - The special method `__str__` returns a string representation of a `Hand` object.\n",
    "\n",
    "    ```python\n",
    "    ├── main.py\n",
    "    └── poker\n",
    "      ├── card.py\n",
    "      ├── deck.py\n",
    "      ├── hand.py\n",
    "      └── __init__.py\n",
    "    ```"
   ]
  },
  {
   "cell_type": "code",
   "execution_count": 29,
   "id": "7bb0d689",
   "metadata": {},
   "outputs": [
    {
     "name": "stdout",
     "output_type": "stream",
     "text": [
      "Writing poker/hand.py\n"
     ]
    }
   ],
   "source": [
    "%%writefile poker/hand.py\n",
    "from .deck import Deck\n",
    "\n",
    "class Hand(Deck):\n",
    "    \"\"\"Represents a hand of playing cards.\"\"\"\n",
    "    \n",
    "    def __init__(self, label=''):\n",
    "        super().__init__(label)\n",
    "        self._label = label\n",
    "        self._cards = []\n",
    "    \n",
    "    @property\n",
    "    def label(self):\n",
    "        \"\"\"Getter for label\"\"\"\n",
    "        return self._label\n",
    "    \n",
    "    def __str__(self):\n",
    "        res = [self.label]\n",
    "        for card in self._cards:\n",
    "            res.append(str(card))\n",
    "        return '\\n'.join(res)"
   ]
  },
  {
   "cell_type": "markdown",
   "id": "dee100a0",
   "metadata": {},
   "source": [
    "---\n",
    "## 16.10 The Hand Class in Action\n",
    "\n",
    "- Here's some sample usage of the `Hand` class."
   ]
  },
  {
   "cell_type": "code",
   "execution_count": 30,
   "id": "40d9301a",
   "metadata": {},
   "outputs": [
    {
     "name": "stdout",
     "output_type": "stream",
     "text": [
      "player 1\n",
      "\n",
      "player 1\n",
      "Ace of Spades\n"
     ]
    }
   ],
   "source": [
    "from poker.card import Card\n",
    "from poker.deck import Deck\n",
    "from poker.hand import Hand\n",
    "\n",
    "hand = Hand('player 1')\n",
    "print(hand)\n",
    "print()\n",
    "\n",
    "deck = Deck()\n",
    "deck.move_cards(hand, 1)\n",
    "print(hand)"
   ]
  },
  {
   "cell_type": "markdown",
   "id": "12d15fc3",
   "metadata": {},
   "source": [
    "---\n",
    "## 16.11 The BridgeHand Class\n",
    "\n",
    "- Let’s add another module `bridgehand.py` to the `poker` package.\n",
    "  - Create a `bridgehand.py` file (module) in the `poker` folder (package)\n",
    "  - `import` the `Card` class from the `card.py` module\n",
    "    - Notice the relative path `.card`, i.e. `poker/card.py`\n",
    "  - `import` the `Hand` class from the `hand.py` module\n",
    "    - Notice the relative path `.hand`, i.e. `poker/hand.py`\n",
    "  - Define a `BridgeHand` class in `bridgehand.py`\n",
    "    - Notice the class header is defined as `class BridgeHand(Hand)`\n",
    "      - `BridgeHand` inherits from `Hand`\n",
    "    - The constructor takes an optional parameter `label` of type `str`\n",
    "    - The constructor calls the superclass’ constructor\n",
    "    `super().__init__(label)`\n",
    "    - The attribute `hcp_dict` is a class attribute of type `dict` with bridge points for the high rank cards\n",
    "    - The method `high_card_point_count()` returns the bridge points awarded for the current `BridgeHand` object\n",
    "\n",
    "    ```python\n",
    "    ├── main.py\n",
    "    └── poker\n",
    "      ├── card.py\n",
    "      ├── deck.py\n",
    "      ├── hand.py\n",
    "      ├── bridgehand.py\n",
    "      └── __init__.py\n",
    "    ```"
   ]
  },
  {
   "cell_type": "code",
   "execution_count": 33,
   "id": "d503984d",
   "metadata": {},
   "outputs": [
    {
     "name": "stdout",
     "output_type": "stream",
     "text": [
      "Overwriting poker/bridgehand.py\n"
     ]
    }
   ],
   "source": [
    "%%writefile poker/bridgehand.py\n",
    "from .card import Card\n",
    "from .hand import Hand\n",
    "\n",
    "class BridgeHand(Hand):\n",
    "    \"\"\"Represents a bridge hand.\"\"\"\n",
    "    \n",
    "    hcp_dict = {'Ace': 4,'King': 3,'Queen': 2, 'Jack': 1}\n",
    "    \n",
    "    def __init__(self, label=''):\n",
    "        super().__init__(label)\n",
    "    \n",
    "    def high_card_point_count(self):\n",
    "        count = 0\n",
    "        for card in self._cards:\n",
    "            rank_name = Card.rank_names[card.rank]\n",
    "            count += BridgeHand.hcp_dict.get(rank_name, 0)\n",
    "        return count"
   ]
  },
  {
   "cell_type": "markdown",
   "id": "76f1b9ab",
   "metadata": {},
   "source": [
    "---\n",
    "## 16.12 The BridgeHand Class in Action\n",
    "\n",
    "- Here's some sample usage of the `BridgeHand` class."
   ]
  },
  {
   "cell_type": "code",
   "execution_count": 34,
   "id": "69853fa0",
   "metadata": {},
   "outputs": [
    {
     "name": "stdout",
     "output_type": "stream",
     "text": [
      "player 2\n",
      "\n",
      "player 2\n",
      "Queen of Hearts\n",
      "Jack of Diamonds\n",
      "4 of Diamonds\n",
      "Ace of Diamonds\n",
      "2 of Diamonds\n",
      "\n",
      "7\n"
     ]
    }
   ],
   "source": [
    "from poker.card import Card\n",
    "from poker.deck import Deck\n",
    "from poker.hand import Hand\n",
    "from poker.bridgehand import BridgeHand\n",
    "\n",
    "hand = BridgeHand('player 2')\n",
    "print(hand)\n",
    "print()\n",
    "\n",
    "deck = Deck()\n",
    "deck.shuffle()\n",
    "deck.move_cards(hand, 5)\n",
    "print(hand)\n",
    "print()\n",
    "\n",
    "print(hand.high_card_point_count())"
   ]
  },
  {
   "cell_type": "markdown",
   "id": "4f79f513",
   "metadata": {},
   "source": [
    "---\n",
    "# 17. Cleanup\n",
    "---\n",
    "\n",
    "- Let's remove all files that have been created by this notebook."
   ]
  },
  {
   "cell_type": "code",
   "execution_count": 36,
   "id": "826d62ea",
   "metadata": {},
   "outputs": [],
   "source": [
    "import os, shutil\n",
    "\n",
    "dirs = ['poker']\n",
    "files = ['example.txt', 'copy.png', 'main.py']\n",
    "\n",
    "for d in dirs:\n",
    "    if os.path.exists(d):\n",
    "        shutil.rmtree(d)\n",
    "\n",
    "for f in files:\n",
    "    if os.path.exists(f):\n",
    "        os.remove(f)"
   ]
  },
  {
   "cell_type": "markdown",
   "id": "e103dcea",
   "metadata": {},
   "source": []
  }
 ],
 "metadata": {
  "kernelspec": {
   "display_name": "Python 3",
   "language": "python",
   "name": "python3"
  },
  "language_info": {
   "codemirror_mode": {
    "name": "ipython",
    "version": 3
   },
   "file_extension": ".py",
   "mimetype": "text/x-python",
   "name": "python",
   "nbconvert_exporter": "python",
   "pygments_lexer": "ipython3",
   "version": "3.12.11"
  },
  "polyglot_notebook": {
   "kernelInfo": {
    "defaultKernelName": "fsharp",
    "items": [
     {
      "aliases": [],
      "name": "fsharp"
     }
    ]
   }
  }
 },
 "nbformat": 4,
 "nbformat_minor": 5
}
