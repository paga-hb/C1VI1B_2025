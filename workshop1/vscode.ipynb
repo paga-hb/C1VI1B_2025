{
 "cells": [
  {
   "cell_type": "markdown",
   "metadata": {},
   "source": [
    "---\n",
    "# Visual Studio Code (VSCode)\n",
    "---\n",
    "\n",
    "How to use this notebook:\n",
    "\n",
    "- First, work through the prerequisites in the whole of [1. Prerequisites](#1-prerequisites).\n",
    "- Then, work though [2. VSCode Basics](#2-vscode-basics).\n",
    "- Next, work through [3. Jupyter Notebook Basics](#3-jupyter-notebook-basics).\n",
    "- Finally, work though [4. Google CoLab Basics](#4-google-colab-basics).\n",
    "- If you want to clean up any files created by this notebook, you can also work through [5. Cleanup](#5-cleanup).\n",
    "\n",
    "This notebook covers:\n",
    "\n",
    "- [1. Prerequisites](#1-prerequisites) \n",
    "  - [1.1 Software](#11-software)\n",
    "  - [1.2 VSCode Extensions](#12-vscode-extensions)\n",
    "  - [1.3 Accounts](#13-accounts)\n",
    "  - [1.4 Course Repository](#14-course-repository)\n",
    "  - [1.5 Python (Conda) Environment](#15-python-conda-environment)\n",
    "  - [1.6 Using Built-in Cell Magic `%%writefile`](#16-using-built-in-cell-magic-writefile)\n",
    "- [2. VSCode Basics](#2-vscode-basics)  \n",
    "  - [2.1 User Interface](#21-user-interface)\n",
    "  - [2.2 VSCode Debug Configuration](#22-vscode-debug-configuration)\n",
    "  - [2.3 Running a Python Program in a Notebook Code Cell](#23-running-a-python-program-in-a-notebook-code-cell)\n",
    "  - [2.4 Debugging a Single-file Python Program](#24-debugging-a-single-file-python-program)\n",
    "  - [2.5 Debugging a Multi-file Python Program](#25-debugging-a-multi-file-python-program)\n",
    "- [3. Jupyter Notebook Basics](#3-jupyter-notebook-basics)\n",
    "  - [3.1 Creating a Jupyter Notebook](#31-creating-a-jupyter-notebook)\n",
    "  - [3.2 Choosing the Python Interpreter (Environment)](#32-choosing-the-python-interpreter-environment)\n",
    "  - [3.3 Creating a Markdown Cell](#33-creating-a-markdown-cell)\n",
    "  - [3.4 Creating a Code Cell](#34-creating-a-code-cell)\n",
    "- [4. Google CoLab Basics](#4-google-colab-basics)\n",
    "  - [4.1 Opening a Jupyter Notebook in Google CoLab](#41-opening-a-jupyter-notebook-in-google-coLab)\n",
    "- [5. Cleanup](#5-cleanup)"
   ]
  },
  {
   "cell_type": "markdown",
   "metadata": {},
   "source": [
    "---\n",
    "# 1. Prerequisites\n",
    "---"
   ]
  },
  {
   "cell_type": "markdown",
   "metadata": {},
   "source": [
    "## 1.1 Software\n",
    "\n",
    "In this course, the following software needs to be installed on your computer:\n",
    "\n",
    "- [Visual Studio Code](https://code.visualstudio.com)\n",
    "- [Git](https://git-scm.com/downloads)\n",
    "- [Miniconda](https://docs.anaconda.com/miniconda/install/#quick-command-line-install)\n",
    "- [Python](https://www.python.org) (optional) - comes pre-installed on Linux and Mac\n",
    "\n",
    "To verify all necessary software has been installed, run the cell below by placing the cursor in the cell and pressing `Shift + Enter`.\n",
    "- You should see the name of each tool, together with a version number.\n",
    "- Note that Python isn't required, since we will be using Conda environments with Python installed inside the environment."
   ]
  },
  {
   "cell_type": "code",
   "execution_count": 19,
   "metadata": {},
   "outputs": [
    {
     "name": "stdout",
     "output_type": "stream",
     "text": [
      "vscode 1.103.0\n",
      "git version 2.43.0\n",
      "conda 25.3.1\n",
      "Python 3.12.11\n"
     ]
    }
   ],
   "source": [
    "version = !code --version\n",
    "print(f\"vscode {version[0]}\")\n",
    "!git --version\n",
    "!conda --version\n",
    "!python --version"
   ]
  },
  {
   "cell_type": "markdown",
   "metadata": {},
   "source": [
    "If you don't see the print-out of a version for a specific tool, make sure the path to your tool's folder has been added to your [`PATH` environment variable](https://gist.github.com/nex3/c395b2f8fd4b02068be37c961301caa7)."
   ]
  },
  {
   "cell_type": "markdown",
   "metadata": {},
   "source": [
    "---\n",
    "## 1.2 VSCode Extensions\n",
    "\n",
    "You also need to install the necessary VSCode extensions (plugins).\n",
    "- VSCode extensions add additional functionality to VSCode.\n",
    "- The two extensions we need in this course are:\n",
    "  - [Python](https://marketplace.visualstudio.com/items?itemName=ms-python.python) for working with Python in VSCode.\n",
    "  - [Jupyter](https://marketplace.visualstudio.com/items?itemName=ms-toolsai.jupyter) for working with Jupyter Notebooks in VSCode.\n",
    "\n",
    "Run the cell below to install the extensions (make sure the cell is selected, then press `Shift + Enter`)."
   ]
  },
  {
   "cell_type": "code",
   "execution_count": 20,
   "metadata": {},
   "outputs": [
    {
     "name": "stdout",
     "output_type": "stream",
     "text": [
      "Installing extensions...\n",
      "Extension 'ms-toolsai.jupyter' is already installed.\n",
      "Installing extensions...\n",
      "Extension 'ms-python.python' is already installed.\n"
     ]
    }
   ],
   "source": [
    "!code --install-extension ms-toolsai.jupyter --force\n",
    "!code --install-extension ms-python.python --force"
   ]
  },
  {
   "cell_type": "markdown",
   "metadata": {},
   "source": [
    "---\n",
    "## 1.3 Accounts\n",
    "\n",
    "You will also need a GitHub account to download content for this course and to share code with your group members.\n",
    "\n",
    "- If you don't already have an account, visit the [GitHub](https://github.com) web site and [Sign up](https://github.com/signup) for an account.\n",
    "\n",
    "Also make sure your have initialized Git with your email address, your name, and have set the default branch to main.\n",
    "- Run the cell below.\n",
    "- If any of the settings described above are missing:\n",
    "  - Comment out the lines below.\n",
    "  - Enter your own email address and name.\n",
    "  - Run the cell again."
   ]
  },
  {
   "cell_type": "code",
   "execution_count": 25,
   "metadata": {},
   "outputs": [
    {
     "name": "stdout",
     "output_type": "stream",
     "text": [
      "user.email=patrick.gabrielsson@hb.se\n",
      "user.name=Patrick Gabrielsson\n",
      "credential.helper=store\n",
      "init.defaultbranch=main\n"
     ]
    }
   ],
   "source": [
    "!git config --global --list\n",
    "# !git config --global user.email \"your.email@example.com\"\n",
    "# !git config --global user.name \"Your Name\"\n",
    "# !git config --global init.defaultBranch main"
   ]
  },
  {
   "cell_type": "markdown",
   "metadata": {},
   "source": [
    "---\n",
    "## 1.4 Course Repository\n",
    "\n",
    "The GitHub repository [C1VI1B_2025](https://github.com/paga-hb/C1VI1B_2025) for this course can be cloned to your computer by running the cell below:\n",
    "- It will clone the repository to the subfolder `dataviz` in the current folder.\n",
    "- The repository contains all the workshops, the assignment, and the project description for this course."
   ]
  },
  {
   "cell_type": "code",
   "execution_count": null,
   "metadata": {},
   "outputs": [
    {
     "name": "stdout",
     "output_type": "stream",
     "text": [
      "Cloning into 'dataviz2'...\n",
      "remote: Enumerating objects: 63, done.\u001b[K\n",
      "remote: Counting objects: 100% (63/63), done.\u001b[K\n",
      "remote: Compressing objects: 100% (57/57), done.\u001b[K\n",
      "remote: Total 63 (delta 31), reused 13 (delta 1), pack-reused 0 (from 0)\u001b[K\n",
      "Receiving objects: 100% (63/63), 20.72 KiB | 964.00 KiB/s, done.\n",
      "Resolving deltas: 100% (31/31), done.\n"
     ]
    }
   ],
   "source": [
    "!git clone https://github.com/paga-hb/C1VI1B_2025.git dataviz\n",
    "!cd dataviz"
   ]
  },
  {
   "cell_type": "markdown",
   "metadata": {},
   "source": [
    "---\n",
    "## 1.5 Python (Conda) Environment\n",
    "\n",
    "When we create a new Python project, we also want to create a new Python environment for it. In this course, we will use Miniconda to create our Python environments.\n",
    "- The command `conda create -y -p ./.conda python=3.12`\n",
    "  - Creates a folder called `.conda` in the current folder.\n",
    "  - Then it installs Python version 3.12 in it (including the `pip` package manager).\n",
    "- Once the Python environment has been created, the command `conda activate ./.conda`\n",
    "  - Activates the Python environment in the terminal.\n",
    "    - Your terminal should give you a hint that you are using the Python interpreter inside that environment.\n",
    "  - This means all Python commands are mapped to the Python interpreter inside the environment.\n",
    "- In a new Python environment, we want to run the command `python -m pip install --upgrade pip`\n",
    "  - To update the `pip` package manager (inside the Python environment) to the latest version.\n",
    "- Now we can install any Python packages needed for our Python project with the command `pip install <package>`\n",
    "  - Where `<package>` is the name of the Python package.\n",
    "  - You can also install multiple packages by separating them with a space, e.g. `pip install <package1> <package2>`\n",
    "\n",
    "For the workshops, the assignment, and the project in this course, we need to install the following packages in our Python environment.\n",
    "- `ipykernel`, `jupyter`, and `pylance` for running Jupter Notebooks, and for Python Intellisense.\n",
    "- `numpy`, and `pandas` for working with data in Python.\n",
    "- `matplotlib`, `seaborn`, `bokeh`, and `plotly` for data visualization.\n",
    "- `dash`, `dash-bootstrap-components`, `openpyxl`, `lxml`, and `pycountry` for interactive data visualization apps.\n",
    "\n",
    "In summary, for Python projects in this course, we want to use the Python environment below:\n",
    "\n",
    "```bash\n",
    "conda create -y -p ./.conda python=3.12\n",
    "conda activate ./.conda\n",
    "python -m pip install --upgrade pip\n",
    "pip install ipykernel jupyter pylance numpy pandas matplotlib seaborn bokeh plotly\n",
    "pip install dash dash-bootstrap-components openpyxl lxml pycountry\n",
    "```\n",
    "\n",
    "Lastly, when running Jupyter Notebooks in this course, we also want to select this Python environment inside the Notebook.\n",
    "- This is done by clicking the `Select Interpreter` button in the top right of a Jupyter Notebook."
   ]
  },
  {
   "cell_type": "markdown",
   "metadata": {},
   "source": [
    "---\n",
    "## 1.6 Using Built-in Cell Magic `%%writefile`\n",
    "\n",
    "- The cell magic `%%writefile filename`, writes the contents of a notebook cell to the specified `filename` (or file path).\n",
    "  - This functionality is built-in to Jupyter Notebooks (it's not an extension).\n",
    "  - We can use it to write any code cell contents to a file in the file system.\n",
    "  - Let's write some Python code to the file `main.py`.\n",
    "- Run the cell below.\n",
    "- Then inspect the resulting file `main.py`, which contains the code cell's contents (except for the cell magic command `%%writefile filename`)."
   ]
  },
  {
   "cell_type": "code",
   "execution_count": 4,
   "metadata": {},
   "outputs": [
    {
     "name": "stdout",
     "output_type": "stream",
     "text": [
      "Overwriting main.py\n"
     ]
    }
   ],
   "source": [
    "%%writefile main.py\n",
    "def main():\n",
    "    print(\"Hello world!\\n\")\n",
    "    return 0\n",
    "\n",
    "if __name__ == \"__main__\":\n",
    "    main()"
   ]
  },
  {
   "cell_type": "markdown",
   "metadata": {},
   "source": [
    "We can run the Python program from a Notebook cell by invoking the Python Interpreter and passing in the filename as an argument.\n",
    "- When an exclamation mark `!` is used in a code cell, anything that follows it is run in the underlying operating system's shell (terminal), where any output is show in the cell's output.\n",
    "\n",
    "Run the cell below to execute the Python program in main.py, and observe the program output."
   ]
  },
  {
   "cell_type": "code",
   "execution_count": 6,
   "metadata": {},
   "outputs": [
    {
     "name": "stdout",
     "output_type": "stream",
     "text": [
      "Hello world!\n",
      "\n"
     ]
    }
   ],
   "source": [
    "!python main.py"
   ]
  },
  {
   "cell_type": "markdown",
   "metadata": {},
   "source": [
    "---\n",
    "# 2. VSCode Basics\n",
    "---"
   ]
  },
  {
   "cell_type": "markdown",
   "metadata": {},
   "source": [
    "## 2.1 User Interface\n",
    "\n",
    "Microsoft's [Getting Started Tutorial](https://code.visualstudio.com/docs/getstarted/getting-started) is great if you haven't used Visual Studio Code before, but we will explore Visual Studio Code together in this notebook.\n",
    "\n",
    "Visual Studio Code's [user interface](https://code.visualstudio.com/docs/getstarted/userinterface) is quite elaborate, but let's explore its most important parts below."
   ]
  },
  {
   "cell_type": "markdown",
   "metadata": {},
   "source": [
    "<style>\n",
    "    .container {\n",
    "        width: 98%;\n",
    "        margin-left: 0; /* Push the container to the left */\n",
    "        margin-right: auto; \n",
    "    }\n",
    "    .text-image {\n",
    "        margin-bottom: 35px; /* Space between sections */\n",
    "        overflow: hidden; /* Ensure image stays within the container */\n",
    "    }\n",
    "    .text {\n",
    "        text-align: justify; /* Justify the text for better readability */\n",
    "    }\n",
    "    .image {\n",
    "        float: right; /* Float the image to the right */\n",
    "        margin-left: 25px; /* Space between image and text */\n",
    "        margin-bottom: 10px; /* Space between image and text */\n",
    "        max-width: 50%; /* Limit image size */\n",
    "        height: auto; /* Maintain aspect ratio */\n",
    "    }\n",
    "</style>\n",
    "\n",
    "<div class=\"container\">\n",
    "    <div class=\"text-image\"> <!-- Explorer View -->\n",
    "        <img class=\"image\" src=\"../images/explorer-view.png\">\n",
    "        <div class=\"text\">\n",
    "            <h4>General Layout and the (File) <a href=\"https://code.visualstudio.com/docs/getstarted/userinterface\">Explorer View</a></h4>\n",
    "            <p>\n",
    "                The <em>Main Menu</em> is located along the top of VSCode's UI, where a <a href=\"https://code.visualstudio.com/docs/editor/workspaces\">Workspace</a> folder can be opened with <b>File -> Open Folder</b>. The currently open workspace folder's name is displayed in the <em>Explorer</em>. When you start working on a development project, you should <b>always open the folder that contains your project via the main menu, or by moving to the folder in your terminal and entering the command <code>code .</code></b> (the word <em>code</em>, followed by a space, and then a <em>dot</em>).\n",
    "            </p>\n",
    "            <p>\n",
    "                The first menu choice <img src=\"../images/explorer-view-icon.png\"/> in VSCode's <em>Activity Bar</em> is the <em>Explorer</em>, which displays all files in your current workspace in the <em>Primary Side Bar</em>.\n",
    "            </p>\n",
    "            <p>\n",
    "                When you double-click a file in the <em>Primary Side Bar</em>, it's contents are displayed in a tab under the <em>Editor Groups</em>. The <em>Editor Groups</em> can display one <em>Editor Group</em> or multiple <em>Editor Groups</em> side-by-side. Each <em>Editor Group</em> can have one or more files open, each in a separate tab. A new <em>Editor Group</em> can be created by using the icons in the top right of VSCode's UI (which is useful for e.g. viewing two files side-by-side at the same time).\n",
    "            </p>\n",
    "            <p>\n",
    "                Below the <em>Editor Groups</em>, the <em>Panel</em> is displayed. The <em>Panel</em> has multiple tabs, e.g. the tabs <em>Problems</em>, <em>Output</em>, <em>Terminal</em> and <em>Ports</em>. Currently, the <em>Terminal</em> tab is selected, which displays VSCode's built-in terminal. Additional terminals can be created by clicking the <b>+</b> icon in the top-right of the <em>Panel</em>. The <em>Output</em> tab displays output genereated by an executing program, or the compiler. The <em>Panel</em> can be toggled between hidden and displayed by using <b>Ctrl + J</b> (or <b>Cmd + J</b> on a Mac).\n",
    "            </p>\n",
    "            <p>\n",
    "                The <em>Status Bar</em> is located along the bottom of VSCode's UI, and displays various status information, e.g. the carret's current line and column position in the currently active opened file.\n",
    "            </p>\n",
    "        </div>\n",
    "    </div>\n",
    "</div>\n",
    "<div class=\"container\">\n",
    "    <div class=\"text-image\"> <!-- Source Control View -->\n",
    "        <img class=\"image\" src=\"../images/source-control-view.png\" />\n",
    "        <div class=\"text\">\n",
    "            <h4>The Search View and the <a href=\"https://code.visualstudio.com/docs/sourcecontrol/overview\">Source Control View</a></h4>\n",
    "            <p>\n",
    "                The second menu choice <img src=\"../images/search-view-icon.png\"/> in VSCode's <em>Activity Bar</em> displays the <em>Search</em> view, which can be used to search for strings among the workspace's files.\n",
    "            </p>\n",
    "            <p>\n",
    "                The third menu choice <img src=\"../images/source-control-icon.png\"/> in VSCode's <em>Activity Bar</em> displays the <em>Source Control</em> view, which can be used to stage and commit changed files to GitHub. A modified file will have an <b>M</b> to the right of it's file name. In general, you would add modified files to the <b>Staged Changes</b>, fill in a comment at the top of the view, and then click the <b>Commit</b> button. The <em>Source Control</em> view can also be used to compare files, and to resolve merge conflicts.\n",
    "            </p>\n",
    "        </div>\n",
    "    </div>\n",
    "</div>\n",
    "<div class=\"container\">\n",
    "    <div class=\"text-image\"> <!-- Run and Debug View -->\n",
    "        <img class=\"image\" src=\"../images/run-and-debug-view.png\" />\n",
    "        <div class=\"text\">\n",
    "            <h4>The <a href=\"https://code.visualstudio.com/docs/editor/debugging\">Run and Debug View</a></h4>\n",
    "            <p>\n",
    "                The <em>Run and Debug Icon</em> <img src=\"../images/run-and-debug-view-icon.png\"/> opens the <em>Run and Debug</em> view, which can be used to run and debug code in VSCode. Various debug profiles can be defined, but in genereal you would press <b>F5</b> to start a debug session, choose <b>Run -> Start Debugging</b> from VSCode's main menu, or click the green arrow in the top-left of the <em>Run and Debug</em> view. \n",
    "            </p>\n",
    "            <p>\n",
    "                You can toggle <em>break points</em> on and off in your code by pressing <b>F9</b> on the currently selected row, or by clicking in the editor's left margin, which will toggle a red circle on or off.\n",
    "            </p>\n",
    "            <p>\n",
    "                When you start a debug session and hit a <em>break point</em>, the <em>Debug Side Bar</em> will display the <b>VARIABLES</b> in scope and their associated values. There is also a <b>WATCH</b> section where you can define watches for various variables. You can also view the <b>CALL STACK</b> and the <b>BREAKPOINTS</b> set in your code.\n",
    "            </p>\n",
    "            <p>\n",
    "                At the top of the editor, you will find a number of buttons you can use to debug your code, which are (from left to right), <b>Continue</b> (to continue execution until the next breakpoint is hit), <b>Pause</b> (to pause execution), <b>Step Over</b> (to step over a function/method call without entering its body), <b>Step In</b> (to step into a function's/method's body), <b>Step Out</b> (to step out of a function's/method's body), <b>Restart</b> (to restart the debug session), and <b>Stop</b> (to stop the debug session).\n",
    "            </p>\n",
    "            <p>\n",
    "                At the bottom of the editor, you will find the <em>Debug Console Panel</em> that will display various messages from the compiler.\n",
    "            </p>\n",
    "        </div>\n",
    "    </div>\n",
    "</div>\n",
    "<div class=\"container\">\n",
    "    <div class=\"text-image\"> <!-- Extensions Marketplace View -->\n",
    "        <img class=\"image\" src=\"../images/extensions-view.png\" />\n",
    "        <div class=\"text\">\n",
    "            <h4>The <a href=\"https://code.visualstudio.com/docs/editor/extension-marketplace\">Extensions Marketplace View</a></h4>\n",
    "            <p>\n",
    "                The <em>Extensions Icon</em> <img src=\"../images/extensions-view-icon.png\"/> opens the <em>Extensions Marketplace</em> view, which shows the currently installed <em>Visual Studio Code Extensions</em>. It can also be used to search for extensions from the <em>Extension Marketplace</em>, by entering a serch term into the search bar at the very top of the <em>Extensions Side Bar</em>. \n",
    "            </p>\n",
    "            <p>\n",
    "                When you select an extension in the <em>Extensions Side Bar</em>, information about the extension is displayed to the right in VSCode's UI. In the right margin, under <em>More Info</em>, you will find the <b>Identifier</b> for the extension. If you want to install the extension using the terminal, you can use the command <code>code --install-extension [identifier]</code>, where <code> [identifier]</code> is the <b>Identifier</b> displayed under <em>More Info</em>. To install the selected extension via the UI, click the <b>Install</b> button next to the extension (to uninstall it, click the <b>Uninstall</b> button). \n",
    "            </p>\n",
    "            <p>\n",
    "                To develop Python applications in this course, you need the following extensions (as a bare minimum):\n",
    "                <p>\n",
    "                    <code>code --install-extension ms-python.python</code><br/>\n",
    "                    <code>code --install-extension ms-toolsai.jupyter</code><br/>\n",
    "                </p>\n",
    "            </p>\n",
    "        </div>\n",
    "    </div>\n",
    "</div>\n",
    "<div class=\"container\">\n",
    "    <div class=\"text-image\"> <!-- Test Explorer View -->\n",
    "        <img class=\"image\" src=\"../images/test-explorer-view.png\" />\n",
    "        <div class=\"text\">\n",
    "            <h4>The <a href=\"https://code.visualstudio.com/docs/editor/testing\">Test Explorer View</a></h4>\n",
    "            <p>\n",
    "                The <em>Test Explorer Icon</em> <img src=\"../images/test-explorer-view-icon.png\"/> opens the <em>Test Explorer</em> view, which can can be used run and debug tests, if you have any test projects in your current workspace. \n",
    "            </p>\n",
    "            <p>\n",
    "                The <b>TEST EXPLORER</b> <em>Side Bar</em> displays the tests from all test projects in your current workspace, where you can choose to run or debug individual tests, or all tests in your current workspace. A red icon next to a test indicates the test has failed, and a green icon indicates that a test has passed. The <b>TEST COVERAGE</b> section displays how much of your code is covered by your tests.\n",
    "            </p>\n",
    "            <p>\n",
    "                The test results are also displayed in the <b>TEST RESULTS</b> panel below the editor.\n",
    "            </p>\n",
    "            <p>\n",
    "                When debugging a test, the test execution will pause execution when a <em>break point</em> is hit, which gives you the opportunity to display the <em>expected value</em> and the <em>actual value</em> of your test code, side-by-side.\n",
    "            </p>\n",
    "            <p>\n",
    "                You can also start a test from your code in the editor, by clicking the arrow displayed in the left margin next to your test code.\n",
    "            </p>\n",
    "        </div>\n",
    "    </div>\n",
    "</div>"
   ]
  },
  {
   "cell_type": "code",
   "execution_count": 2,
   "metadata": {},
   "outputs": [],
   "source": [
    "import os\n",
    "os.makedirs(\".vscode\", exist_ok=True)"
   ]
  },
  {
   "cell_type": "markdown",
   "metadata": {},
   "source": [
    "---\n",
    "## 2.2 VSCode Debug Configuration\n",
    "\n",
    "- To develop Python programs in VSCode, we need to configure one VSCode workspace configuration file.\n",
    "  - In the file `launch.json` we can configure various debug options, such as debugging single-file or multi-file Python programs.\n",
    "- VSCode workspace configuration files (`.json`) are stored in the subfolder `.vscode`.\n",
    "\n",
    "The easiest way to create a `launch.json` file for a new Python project, is to:\n",
    "\n",
    "- Switch to the **Run and Debug** view (Windows/Linux: `Ctrl + Shift + D`, MacOS: `Cmd + Shift + D`).\n",
    "- In the Activity Bar for the **Run and Debug** view, click the link `create a launch.json file`.\n",
    "- Choose **Select Debugger** to `Python Debugger`.\n",
    "- Choose **Select a debug configuration** to `Python File Debug the currectly active Python file`.\n",
    "- The file `launch.json` will be created in subfolder `.vscode`.\n",
    "- Save the file `launch.json`.\n",
    "\n",
    "The file contains the following settings:\n",
    "- `\"name\": \"Python Debugger: Current File\"` which is the name of this debug configuration.\n",
    "- `\"type\": \"debugpy\"` which configures this configuration to run the Python debugger.\n",
    "- `\"request\": \"launch\"` which launches the Python debugger when this debug configuration is run.\n",
    "- `\"program\": \"${file}\"` which is the currently open file in the editor (`${file}` is replaced with the actual filename).\n",
    "- `\"console\": \"integratedTerminal\"` which redirects program input/output to VSCode's integrated terminal.\n",
    "\n",
    "```json\n",
    "{\n",
    "    // Use IntelliSense to learn about possible attributes.\n",
    "    // Hover to view descriptions of existing attributes.\n",
    "    // For more information, visit: https://go.microsoft.com/fwlink/?linkid=830387\n",
    "    \"version\": \"0.2.0\",\n",
    "    \"configurations\": [\n",
    "        \n",
    "        {\n",
    "            \"name\": \"Python Debugger: Current File\",\n",
    "            \"type\": \"debugpy\",\n",
    "            \"request\": \"launch\",\n",
    "            \"program\": \"${file}\",\n",
    "            \"console\": \"integratedTerminal\"\n",
    "        }\n",
    "    ]\n",
    "}\n",
    "```\n",
    "\n",
    "This debug configuration can be used to debug a single-file Python program (the `.py` file currently open in the editor). Let's also add a configuration that let's us debug a multi-file Python program.\n",
    "\n",
    "- Open the file `launch.json` in subfolder `.vscode`, and make the following changes (then save the file).\n",
    "\n",
    "```json\n",
    "{\n",
    "    // Use IntelliSense to learn about possible attributes.\n",
    "    // Hover to view descriptions of existing attributes.\n",
    "    // For more information, visit: https://go.microsoft.com/fwlink/?linkid=830387\n",
    "    \"version\": \"0.2.0\",\n",
    "    \"configurations\": [\n",
    "        \n",
    "        {\n",
    "            \"name\": \"Python Debugger: Current File\",\n",
    "            \"type\": \"debugpy\",\n",
    "            \"request\": \"launch\",\n",
    "            \"program\": \"${file}\",\n",
    "            \"console\": \"integratedTerminal\"\n",
    "        },\n",
    "        {\n",
    "            \"name\": \"Python Debugger: main.py\",\n",
    "            \"type\": \"debugpy\",\n",
    "            \"request\": \"launch\",\n",
    "            \"program\": \"${workspaceFolder}/main.py\",\n",
    "            \"console\": \"integratedTerminal\"\n",
    "        }\n",
    "    ]\n",
    "}\n",
    "```\n",
    "\n",
    "Notice the new debug configuration has the following settings:\n",
    "- `\"name\": \"Python Debugger: main.py\"` which is the name of this debug configuration.\n",
    "- `\"type\": \"debugpy\"` which configures this configuration to run the Python debugger.\n",
    "- `\"request\": \"launch\"` which launches the Python debugger when this debug configuration is run.\n",
    "- `\"program\": \"${workspaceFolder}/main.py\"` which is the file `main.py` in the root workspace folder.\n",
    "- `\"console\": \"integratedTerminal\"` which redirects program input/output to VSCode's integrated terminal.\n",
    "\n",
    "This debug configuration can be used to debug a multi-file Python program with the programs entry point in the file `main.py` in the root workspace folder.\n",
    "\n",
    "The current debug configuration (single-file or multi-file) can be chosen in the **Run and Debug** view (choose the debug configuration's name in the dropdown listbox, the press the green *Run* button or press `F5`)."
   ]
  },
  {
   "cell_type": "markdown",
   "metadata": {},
   "source": [
    "---\n",
    "## 2.3 Running a Python Program in a Notebook Code Cell\n",
    "\n",
    "Jupyter Notebooks natively support Python, so we can write any Python program spanning the code cells in a Jupyter Notebook.\n",
    "\n",
    "Run the cell below to execute the Python program that it contains."
   ]
  },
  {
   "cell_type": "code",
   "execution_count": 1,
   "metadata": {},
   "outputs": [
    {
     "name": "stdout",
     "output_type": "stream",
     "text": [
      "Hello World!\n",
      "\n"
     ]
    }
   ],
   "source": [
    "def main():\n",
    "    print(\"Hello World!\\n\")\n",
    "\n",
    "if __name__ == \"__main__\":\n",
    "    main()"
   ]
  },
  {
   "cell_type": "markdown",
   "metadata": {},
   "source": [
    "---\n",
    "## 2.4 Debugging a Single-file Python Program\n",
    "\n",
    "Let's see `launch.json` in action for a single-file (`.py`) Python program.\n",
    "\n",
    "- First, let's create the file `main.py` in the cell below."
   ]
  },
  {
   "cell_type": "code",
   "execution_count": 2,
   "metadata": {},
   "outputs": [
    {
     "name": "stdout",
     "output_type": "stream",
     "text": [
      "Overwriting main.py\n"
     ]
    }
   ],
   "source": [
    "%%writefile main.py\n",
    "import math\n",
    "\n",
    "def main():\n",
    "    radius = 1.0;\n",
    "    print(f\"circleArea = {math.pi} * {radius} * {radius} = {circleArea(radius)}\\n\")\n",
    "    return 0\n",
    "\n",
    "def circleArea(radius):\n",
    "    return math.pi * radius * radius;\n",
    "\n",
    "if __name__ == \"__main__\":\n",
    "    main()"
   ]
  },
  {
   "cell_type": "markdown",
   "metadata": {},
   "source": [
    "- Now, let's debug the file `main.py`.\n",
    "  - Open the file `main.py` in VSCode's editor.\n",
    "  - Set a breakpoint on the two `return` statements (`F9`).\n",
    "  - Switch to the `Run and Debug` view (Linux/Windows: `Ctrl + Shift + D`, Mac: `Cmd + Shift + D`).\n",
    "  - In the drop-down combobox, select the launch configuration `Python Debugger: Current File`.\n",
    "  - Click the green `Play` icon.\n",
    "  - Use the debug toolbar in the top-middle of VSCode to debug the code.\n",
    "    - Notice the debugger stops at the breakpoints.\n",
    "    - Notice you can view local variables, watch variables, view the call stack, and toggle breakpoints in the `Run and Debug` view.\n",
    "  - Stop debugging (red `Square` icon in the debug toolbar).\n",
    "- Next, look at the status bar (at the bottom of VSCode) where you will see the name of the launch configuration `Python Debugger: Current File`.\n",
    "  - Click on it, and select `Python Debugger: Current File` again (make sure `main.py` is the active file in the editor, not the notebook).\n",
    "    - This is an alternative method to start a debug session.\n",
    "  - Stop debugging.\n",
    "- Press `F5` (make sure `main.py` is active in VSCode's editor), which is a third alternative to launch the debugger.\n",
    "  - Stop debugging.\n",
    "\n",
    "- Remeber, you can always run a `.py` file in your filesystem from a Notebook cell using the command below."
   ]
  },
  {
   "cell_type": "code",
   "execution_count": 4,
   "metadata": {},
   "outputs": [
    {
     "name": "stdout",
     "output_type": "stream",
     "text": [
      "circleArea = 3.141592653589793 * 1.0 * 1.0 = 3.141592653589793\n",
      "\n"
     ]
    }
   ],
   "source": [
    "!python main.py"
   ]
  },
  {
   "cell_type": "markdown",
   "metadata": {},
   "source": [
    "**Note**\n",
    "\n",
    "- You can select the Python interpreter (i.e. Python Environment) to use for running a `.py` file, by opening any `.py` file and clicking the *Interpreter Picker* in the bottom right of VSCode (in the Status Bar).\n",
    "- You can create files and folders in the **Explorer** view (Windows/Linux: `Ctrl + Shift + E`, MacOS: `Cmd + Shift + E`) by hovering the mouse over the Activity Bar and clicking the buttons at the top of the Activity Bar."
   ]
  },
  {
   "cell_type": "markdown",
   "metadata": {},
   "source": [
    "---\n",
    "## 2.5 Debugging a Multi-file Python Program\n",
    "\n",
    "- Let's see `launch.json` in action for a multi-file (`*.py`) Python program.\n",
    "  - First we will create a module `trigonometry.py` in an `arithmetic` folder, which will be our package.\n",
    "    - We will place the code for `circleArea` in this module.\n",
    "  - Then we will import `circleArea` into `main.py` and produce the same output as before.\n",
    "\n",
    "- Run the four cells below to create:\n",
    "  - The folder `arithmetic` in the root workspace folder (this is our Python package).\n",
    "  - The empty file `__init__.py` in the folder `arithmetic` (this is what makes `arithmetic` a Python package).\n",
    "  - The file `trigonometry.py` in the folder `arithmetic` (this is our module within our package).\n",
    "  - The file `main.py` in the root workspace folder (this file contains our main Python program)."
   ]
  },
  {
   "cell_type": "code",
   "execution_count": 5,
   "metadata": {},
   "outputs": [],
   "source": [
    "import os\n",
    "os.makedirs(\"../arithmetic\", exist_ok=True)"
   ]
  },
  {
   "cell_type": "code",
   "execution_count": 8,
   "metadata": {},
   "outputs": [
    {
     "name": "stdout",
     "output_type": "stream",
     "text": [
      "Writing ../arithmetic/__init__.py\n"
     ]
    }
   ],
   "source": [
    "%%writefile ../arithmetic/__init__.py\n",
    "pass"
   ]
  },
  {
   "cell_type": "code",
   "execution_count": 12,
   "metadata": {},
   "outputs": [
    {
     "name": "stdout",
     "output_type": "stream",
     "text": [
      "Overwriting ../arithmetic/trigonometry.py\n"
     ]
    }
   ],
   "source": [
    "%%writefile ../arithmetic/trigonometry.py\n",
    "import math\n",
    "\n",
    "def circleArea(radius):\n",
    "    return math.pi * radius * radius"
   ]
  },
  {
   "cell_type": "code",
   "execution_count": 13,
   "metadata": {},
   "outputs": [
    {
     "name": "stdout",
     "output_type": "stream",
     "text": [
      "Overwriting ../main.py\n"
     ]
    }
   ],
   "source": [
    "%%writefile ../main.py\n",
    "import math\n",
    "from arithmetic.trigonometry import circleArea\n",
    "\n",
    "def main():\n",
    "    radius = 1.0;\n",
    "    print(f\"circleArea = {math.pi} * {radius} * {radius} = {circleArea(radius)}\\n\")\n",
    "    return 0\n",
    "\n",
    "if __name__ == \"__main__\":\n",
    "    main()"
   ]
  },
  {
   "cell_type": "markdown",
   "metadata": {},
   "source": [
    "- Debug the multi-file Python program.\n",
    "  - Open `main.py` and `trigonometry.py` in the `arithmetic` folder and set breakpoints on the two `return` statements.\n",
    "  - Switch the the `Run and Debug` view, select `Python Debugger: main.py` from the drop-down list:\n",
    "    - Then click the green `Play` icon.\n",
    "    - Or, press `F5`.\n",
    "  - You can also select `Python Debugger: main.py` from the status bar (at the bottom of VSCode).\n",
    "  - Stop debugging.\n",
    "\n",
    "- Remeber, you can always run a multi-file Python program from a Notebook cell with the command below."
   ]
  },
  {
   "cell_type": "code",
   "execution_count": 14,
   "metadata": {},
   "outputs": [
    {
     "name": "stdout",
     "output_type": "stream",
     "text": [
      "circleArea = 3.141592653589793 * 1.0 * 1.0 = 3.141592653589793\n",
      "\n"
     ]
    }
   ],
   "source": [
    "!python ../main.py"
   ]
  },
  {
   "cell_type": "markdown",
   "metadata": {},
   "source": [
    "**Note**\n",
    "\n",
    "- You can select the Python interpreter (i.e. Python Environment) to use for running a `.py` file, by opening any `.py` file and clicking the *Interpreter Picker* in the bottom right of VSCode (in the Status Bar)."
   ]
  },
  {
   "cell_type": "markdown",
   "metadata": {},
   "source": [
    "---\n",
    "# 3. Jupyter Notebook Basics\n",
    "---"
   ]
  },
  {
   "cell_type": "markdown",
   "metadata": {},
   "source": [
    "## 3.1 Creating a Jupyter Notebook\n",
    "\n",
    "A Jupyter Notebook is any file with the file extension `.ipynb`.\n",
    "\n",
    "Let's create the Jupyter Notebook `main.ipynb` by running the cell below."
   ]
  },
  {
   "cell_type": "code",
   "execution_count": 1,
   "metadata": {},
   "outputs": [],
   "source": [
    "open(\"main.ipynb\", \"w\").close()"
   ]
  },
  {
   "cell_type": "markdown",
   "metadata": {},
   "source": [
    "Now, right-click the file in VSCode's Explorer (Windows/Linux: `Ctrl + Shift + E`, MacOS: `Cmd + Shift + E`) and choose `Open to the Side`."
   ]
  },
  {
   "cell_type": "markdown",
   "metadata": {},
   "source": [
    "---\n",
    "## 3.2 Choosing the Python Interpreter (Environment)\n",
    "\n",
    "The first thing you do when opening a Jupyter Notebook, is to choose a Python Interpreter (Environment).\n",
    "- Right-click `Select Kernel` in the top right of the Notebook.\n",
    "- Choose the Python Interpreter in the `.conda` folder.\n",
    "- Now the text `Select Kernel` should have changed to something like `.conda (Python 3.12)`."
   ]
  },
  {
   "cell_type": "markdown",
   "metadata": {},
   "source": [
    "---\n",
    "## 3.3 Creating a Markdown Cell\n",
    "\n",
    "To learn about Markdown, visit [https://www.markdownguide.org](https://www.markdownguide.org), but let's cover some basics below.\n",
    "\n",
    "In the Jupyter Notebook `main.ipynb`:\n",
    "\n",
    "- Click the menu option `+ Markdown` to add a new Markdown Cell to the Notebook.\n",
    "\n",
    "- In the Markdown Cell, add the text below, then press `shift + enter` to execute the cell:\n",
    "\n",
    "```markdown\n",
    "# Heading One\n",
    "## Heading Two\n",
    "### Heading Three\n",
    "\n",
    "This is normal text.\n",
    "\n",
    "**This text is in bold.**\n",
    "\n",
    "*This text is in italic.*\n",
    "\n",
    "~~This text is in strikethrough~~\n",
    "\n",
    "`This is inline code`\n",
    "\n",
    "```This is a block of code that can span multiple lines```\n",
    "\n",
    "Here's an unordered list:\n",
    "\n",
    "- First listitem.\n",
    "- Second listitem.\n",
    "  - Nested listitem.\n",
    "- Third listitem.\n",
    "\n",
    "Here's an ordered list:\n",
    "\n",
    "1. First listitem.\n",
    "2. Second listitem.\n",
    "   a) Nested listitem.\n",
    "3. Third listitem.\n",
    "\n",
    "[This is a link to https://www.google.com](https://www.google.com)\n",
    "\n",
    "This is a link to a picture:\n",
    "\n",
    "![Cute kitten](../images/explorer-view-icon.png)\n",
    "\n",
    "This is a table:\n",
    "\n",
    "| Name     | Age | City       |\n",
    "|----------|-----|------------|\n",
    "| Alice    | 25  | New York   |\n",
    "| Bob      | 30  | London     |\n",
    "| Charlie  | 22  | San Diego  |\n",
    "\n",
    "This is a horizontal line:\n",
    "\n",
    "---\n",
    "\n",
    "> This is a blockquote.  \n",
    "> It can span multiple lines.  \n",
    ">> You can even nest blockquotes with double `>>`.\n",
    "\n",
    "This is a task list:\n",
    "\n",
    "- [x] Write the draft\n",
    "- [ ] Review notes\n",
    "- [ ] Submit final version\n",
    "```"
   ]
  },
  {
   "cell_type": "markdown",
   "metadata": {},
   "source": [
    "---\n",
    "## 3.4 Creating a Code Cell\n",
    "\n",
    "A Code Cell contains Python code.\n",
    "\n",
    "In the Jupyter Notebook `main.ipynb`:\n",
    "\n",
    "- Click the menu option `+ Code` to add a new Code Cell to the Notebook.\n",
    "\n",
    "- In the Code Cell, add the text below, then press `shift + enter` to execute the cell:\n",
    "\n",
    "  ```python\n",
    "  print(\"Hello World!\")\n",
    "  ```\n",
    "- The cell output should show the text `Hello World!`"
   ]
  },
  {
   "cell_type": "markdown",
   "metadata": {},
   "source": [
    "To learn more about Jupyter Notebooks, visit [https://docs.jupyter.org](https://docs.jupyter.org)"
   ]
  },
  {
   "cell_type": "markdown",
   "metadata": {},
   "source": [
    "---\n",
    "# 4. Google CoLab Basics\n",
    "---"
   ]
  },
  {
   "cell_type": "markdown",
   "metadata": {},
   "source": [
    "## 4.1 Opening a Jupyter Notebook in Google CoLab\n",
    "\n",
    "[![Open In Colab](https://colab.research.google.com/assets/colab-badge.svg)](https://colab.research.google.com/github/paga-hb/C1VI1B_2025/blob/main/workshop1/vscode.ipynb)\n",
    "\n",
    "To open a Jupyter Notebook in Google CoLab:\n",
    "\n",
    "- Visit [https://colab.research.google.com/](https://colab.research.google.com).\n",
    "- Choose to `Upload` a Notebook (`File -> Upload notebook`).\n",
    "- Select the Notebook to upload.\n",
    "- Then choose `File -> Save a Copy in Drive`.\n",
    "- You will recognize the menu choices for Markdown Cells and Code Cells.\n",
    "  - Most Python packages are pre-installed in Google CoLab.\n",
    "  - You can always istall more Python Packages in a code cell with `!pip install <package>`\n",
    "- When you are done with your Notebook, you can `File -> Download -> Download .ipynb`\n",
    "\n",
    "**Note**\n",
    "\n",
    "You can also open this Notebook in Google CoLab by:\n",
    "- Clicking the `Open in Colab` badge above.\n",
    "- Then choose `File -> Save a Copy in Drive`.\n",
    "\n",
    "To learn more about Google CoLab, visit the [Getting Started](https://colab.research.google.com/#scrollTo=GJBs_flRovLc) guide."
   ]
  },
  {
   "cell_type": "markdown",
   "metadata": {},
   "source": [
    "---\n",
    "# 5. Cleanup\n",
    "---"
   ]
  },
  {
   "cell_type": "markdown",
   "metadata": {},
   "source": [
    "Run the cell below to remove any files or folders created by this notebook. "
   ]
  },
  {
   "cell_type": "code",
   "execution_count": 1,
   "metadata": {},
   "outputs": [],
   "source": [
    "import os, shutil\n",
    "\n",
    "dirs = [\"../arithmetic\", \"../.vscode\"]\n",
    "files = [\"../main.py\", \"main.py\", \"main.ipynb\"]\n",
    "\n",
    "for d in dirs:\n",
    "    if os.path.exists(d):\n",
    "        shutil.rmtree(d)\n",
    "\n",
    "for f in files:\n",
    "    if os.path.exists(f):\n",
    "        os.remove(f)"
   ]
  },
  {
   "cell_type": "code",
   "execution_count": null,
   "metadata": {},
   "outputs": [],
   "source": []
  }
 ],
 "metadata": {
  "kernelspec": {
   "display_name": "Python 3",
   "language": "python",
   "name": "python3"
  },
  "language_info": {
   "codemirror_mode": {
    "name": "ipython",
    "version": 3
   },
   "file_extension": ".py",
   "mimetype": "text/x-python",
   "name": "python",
   "nbconvert_exporter": "python",
   "pygments_lexer": "ipython3",
   "version": "3.12.11"
  }
 },
 "nbformat": 4,
 "nbformat_minor": 2
}
