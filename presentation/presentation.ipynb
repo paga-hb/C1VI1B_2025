{
 "cells": [
  {
   "cell_type": "markdown",
   "id": "62575712",
   "metadata": {},
   "source": [
    "---\n",
    "# Project Presentation\n",
    "---\n",
    "\n",
    "#### During the final course week, you will present your project at a seminar.\n",
    "\n",
    "How to use this Notebook:\n",
    "- [1. Presentation](#1-presentation) contains instructions for creating your presentation, including the format of the seminar.\n",
    "- [2: Submission](#2-submission) contains instructions for submitting your presentation.\n",
    "\n",
    "This Notebook contains:\n",
    "\n",
    "- [1. Presentation](#1-presentation)\n",
    "  - [1.1 Tool](#11-tool)\n",
    "  - [1.2 Content](#12-content)\n",
    "  - [1.3 Seminar](#13-seminar)\n",
    "- [2: Submission](#2-submission)\n",
    "  - [2.1 Checklist](#21-checklist)\n",
    "  - [2.2 Submit the Presentation](#22-submit-the-presentation)"
   ]
  },
  {
   "cell_type": "markdown",
   "id": "360e23f3",
   "metadata": {},
   "source": [
    "---\n",
    "# 1. Presentation\n",
    "---"
   ]
  },
  {
   "cell_type": "markdown",
   "id": "7f02e166",
   "metadata": {},
   "source": [
    "## 1.1 Tool"
   ]
  },
  {
   "cell_type": "markdown",
   "id": "29db7f41",
   "metadata": {},
   "source": [
    "You can use any tool for creating your presentation, as long as it can export your presentation to one of the file formats `.ppt`, `.pptx`, `.odp`, or `.pdf`, for example:\n",
    "\n",
    "- **Windows, MacOS, Linux**\n",
    "  - [Microsoft PowerPoint](https://www.microsoft.com/en-us/microsoft-365/powerpoint)\n",
    "  - [LibreOffice Impress](https://www.libreoffice.org/discover/impress)\n",
    "  - [WPS Office](https://www.wps.com)\n",
    "  - [OnlyOffice](https://www.onlyoffice.com)\n",
    "  - [Google Slides](https://workspace.google.com/products/slides)\n",
    "- **MacOS**\n",
    "  - [Keynote](https://www.apple.com/in/keynote)\n",
    "- **Linux**\n",
    "  - [Calligra Stage](https://calligra.org/components/stage)"
   ]
  },
  {
   "cell_type": "markdown",
   "id": "08c7785c",
   "metadata": {},
   "source": [
    "---\n",
    "## 1.2 Content"
   ]
  },
  {
   "cell_type": "markdown",
   "id": "61f2294d",
   "metadata": {},
   "source": [
    "Your presentation should be roughly **15 minutes**, and include the following.\n",
    "\n",
    "### Introduction (1–2 min)\n",
    "- **Datasets**: Briefly introduce the datasets (Video Game industry focus: e.g., sales, genres, publishers, platforms).\n",
    "- **Business Questions**: State the business questions you aimed to answer in the project (e.g., *“What genres perform best across regions?”*, etc.).\n",
    "\n",
    "### CRISP-DM Process Walkthrough (6–7 min)\n",
    "- **Business Understanding**: What was the real-world motivation or value behind your questions?\n",
    "- **Data Understanding**: What CSV files did you use? What were key variables? Any surprises or issues with the raw data?\n",
    "- **Data Preparation**: How did you clean, merge, and transform the datasets with pandas/numpy. (Show a couple of examples: e.g., handling missing values, converting datatypes, filtering outliers, etc.).\n",
    "- **Visualization and App Development**: Discuss choices behind visualization types (why bar chart vs. scatter, why interactive filters matter, etc.).\n",
    "- **Evaluation**: How did your visualizations help answer the business questions. What are the main takeaways?\n",
    "- **<span style=\"color:red;\"><s>Deployment</s></span>** (not included)\n",
    "\n",
    "### Live Demo of Dash Application (5–6 min)\n",
    "- **Walk through the interface**:\n",
    "  - Show filters/dropdowns/interactivity.\n",
    "  - Highlight a couple of key visualizations that directly answer the business questions.\n",
    "  - Show how different user choices affect insights (e.g. how the number of bins in a Histogram affects insights drawn from the visualization, etc.).\n",
    "- **Keep it focused**: demonstrate 2–3 strong features rather than clicking through everything.\n",
    "\n",
    "### Conclusion and Reflection (1–2 min)\n",
    "- **Summarize the key insights** (e.g., *“Sports games dominated in North America, but RPGs performed better in Japan.”*).\n",
    "- **Reflect briefly over the CRISP-DM process**: What worked well? What were the limitations of the data, or you approach?\n",
    "- **Mention possible extensions** (e.g., incorporating temporal trends, more refined dashboards, etc.)."
   ]
  },
  {
   "cell_type": "markdown",
   "id": "725ccb11",
   "metadata": {},
   "source": [
    "---\n",
    "## 1.3 Seminar"
   ]
  },
  {
   "cell_type": "markdown",
   "id": "8907cbea",
   "metadata": {},
   "source": [
    "The format of the seminar will be the following.\n",
    "- Each group will be given roughly **15 minutes** to present their project (including the live demo of the Dash App).\n",
    "  - **Each group member has to participate in the presentation.**\n",
    "- There will be a **5 minute** transition period between each presentation.\n",
    "- Each group will present their project following the [Presentation Schedule on Canvas](https://hb.instructure.com/courses/10009/assignments/40724).\n",
    "- Each group has to, at least, attend their own presentation.\n",
    "\n",
    "**Presentation Tips**\n",
    "- **Balance process and product**: Your presentation should show both how you have worked (CRISP-DM) and what you have built (Dash App).\n",
    "- **Keep code in the background**: Don’t walk through Jupyter notebooks or Python files line-by-line — only highlight transformations or tricky steps if they’re central.\n",
    "- **Use storytelling**: Frame the business questions as a narrative (*“A publisher wants to know where to launch their next title…”*, etc.).\n",
    "- **Presenter transitions**: Plan who talks about what among your group members, so the presentation flows smoothly.\n",
    "- **Time management**: Aim for a ~1-2 minute introduction, ~6-7 minutes of CRISP-DM explanation, ~5-6 minutes of demo, and a ~1-2 minute wrap-up."
   ]
  },
  {
   "cell_type": "markdown",
   "id": "e4e94d96",
   "metadata": {},
   "source": [
    "---\n",
    "# 2. Submission\n",
    "---"
   ]
  },
  {
   "cell_type": "markdown",
   "id": "ef36cbf8",
   "metadata": {},
   "source": [
    "## 2.1 Checklist"
   ]
  },
  {
   "cell_type": "markdown",
   "id": "2bc8b6c9",
   "metadata": {},
   "source": [
    "When you are done with your presentation, use this checklist before submitting the presentation via Canvas.\n",
    "\n",
    "- Does you presentation contain (at least) the content described in [1.2 Content](#12-content)?\n",
    "- Have you timed your presentation such that it is roughly 15 minutes?\n",
    "- Have you exported your presentation to one of the file formats `.ppt`, `.pptx`, `.odp`, or `.pdf`?"
   ]
  },
  {
   "cell_type": "markdown",
   "id": "0f1ffd6b",
   "metadata": {},
   "source": [
    "---\n",
    "## 2.2 Submit the Presentation"
   ]
  },
  {
   "cell_type": "markdown",
   "id": "1c2621cd",
   "metadata": {},
   "source": [
    "- Submit your presentation via [Canvas](https://hb.instructure.com/courses/10009/assignments/40724) before the deadline (only submit one file).\n",
    "  - Once again, accepted file formats are `.ppt`, `.pptx`, `.odp`, or `.pdf`."
   ]
  }
 ],
 "metadata": {
  "language_info": {
   "name": "python"
  }
 },
 "nbformat": 4,
 "nbformat_minor": 5
}
