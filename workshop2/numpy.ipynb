{
 "cells": [
  {
   "cell_type": "markdown",
   "id": "62e27f3f",
   "metadata": {},
   "source": [
    "---\n",
    "# Numpy\n",
    "---\n",
    "\n",
    "How to use this notebook:\n",
    "\n",
    "- First, work through the prerequisites in [1. Prerequisites](#1-prerequisites).\n",
    "- Then, work though [2. Nympy Basics](#2-numpy-basics) to [7. Fancy Indexing](#7-fancy-indexing).\n",
    "\n",
    "This notebook covers:\n",
    "\n",
    "- [1. Prerequisites](#1-prerequisites) \n",
    "- [2. Nympy Basics](#2-numpy-basics)\n",
    "  - [2.1 Creating Numpy Arrays from Python Lists](#21-creating-numpy-arrays-from-python-lists)\n",
    "  - [2.2 Creating Numpy Arrays from Scratch](#22-creating-numpy-arrays-from-scratch)\n",
    "  - [2.3 Numpy Standard Data Types](#23-numpy-standard-data-types)\n",
    "- [3. The Basics of Numpy Arrays](#3-the-basics-of-numpy-arrays)\n",
    "  - [3.1 Numpy Array Attributes](#31-numpy-array-attributes)\n",
    "  - [3.2 Array Indexing](#32-array-indexing)\n",
    "  - [3.3 Array Slicing](#33-array-slicing)\n",
    "  - [3.4 Array Slicing and Copies](#34-array-slicing-and-copies)\n",
    "  - [3.5 Reshaping of Arrays](#35-reshaping-of-arrays)\n",
    "  - [3.6 Array Concatenation](#36-array-concatenation)\n",
    "  - [3.7 Array Splitting](#37-array-splitting)\n",
    "- [4. Computation on Numpy Arrays (ufuncs)](#4-computation-on-numpy-arrays-ufuncs)\n",
    "  - [4.1 Array Arithmetic](#41-array-arithmetic)\n",
    "  - [4.2 Absolute Value](#42-absolute-value)\n",
    "  - [4.3 Trigonometric Functions](#43-trigonometric-functions)\n",
    "  - [4.4 Exponents and Logarithms](#44-exponents-and-logarithms)\n",
    "  - [4.5 Aggregates](#45-aggregates)\n",
    "  - [4.6 Aggregations](#46-aggregations)\n",
    "- [5. Computations on Arrays: Broadcasting](#5-computations-on-arrays-broadcasting)\n",
    "  - [5.1 Rules of Broadcasting](#51-rules-of-broadcasting)\n",
    "  - [5.2 Broadcasting Example 1](#52-broadcasting-example-1)\n",
    "  - [5.3 Broadcasting Example 2](#53-broadcasting-example-2)\n",
    "  - [5.4 Broadcasting Example 3](#54-broadcasting-example-3)\n",
    "- [6. Comparisons, Masks, and Boolean Logic](#6-comparisons-masks-and-boolean-logic)\n",
    "- [7. Fancy Indexing](#7-fancy-indexing)"
   ]
  },
  {
   "cell_type": "markdown",
   "id": "f27aa3e9",
   "metadata": {},
   "source": [
    "---\n",
    "# 1. Prerequisites\n",
    "---"
   ]
  },
  {
   "cell_type": "markdown",
   "id": "d0bc1de0",
   "metadata": {},
   "source": [
    "Let's make sure you have a working Python virtual environment.\n",
    "\n",
    "- If you don't already have a working environment, run the code below in a terminal (Windows/Linux: `Ctrl + J`, MacOS: `Cmd + J`).\n",
    "\n",
    "  ```bash\n",
    "  conda create -y -p ./.conda python=3.12\n",
    "  conda activate ./.conda\n",
    "  python -m pip install --upgrade pip\n",
    "  pip install ipykernel jupyter pylance numpy pandas matplotlib seaborn bokeh plotly\n",
    "  pip install dash dash-bootstrap-components openpyxl lxml pycountry\n",
    "  ```\n",
    "\n",
    "- Then, make sure you have chosen that environment by clicking `Select Kernel` in the top right of this Notebook.\n",
    "\n",
    "Alternatively, you can run this Notebook in Google CoLab.\n",
    "- Click [![Open In Colab](https://colab.research.google.com/assets/colab-badge.svg)](https://colab.research.google.com/github/paga-hb/C1VI1B_2025/blob/main/workshop2/numpy.ipynb)\n",
    "\n",
    "- In Google CoLab, choose `File -> Save a Copy in Drive`.\n",
    "- Now you can work through the Notebook cells in Google CoLab."
   ]
  },
  {
   "cell_type": "markdown",
   "id": "f3aa3231",
   "metadata": {},
   "source": [
    "---\n",
    "# 2. Numpy Basics\n",
    "---\n",
    "\n",
    "- We will run all Python code examples within this Notebook, but remember you can always place the code in a `.py` file, e.g. `main.py`, open a terminal (Windows/Linux: `Ctrl + J`, MacOS: `Cmd + J`) and execute the command `python main.py`, making sure you are running the command within the Python virtual environment (`conda activate ./.conda`).\n",
    "\n",
    "- To use numpy, we must:\n",
    "  - `pip install numpy`\n",
    "  - `import numpy as np`"
   ]
  },
  {
   "cell_type": "markdown",
   "id": "379cd8e0",
   "metadata": {},
   "source": [
    "---\n",
    "## 2.1 Creating Numpy Arrays from Python Lists\n",
    "\n",
    "- We can use `np.array()` to create a numpy array from a Python list.\n",
    "- Unlike Python lists, a numpy array can only contain elements of the same type.\n",
    "- To explicitly set the array’s type, we can use the `dtype` keyword.\n",
    "- Numpy arrays can also be multidimensional (e.g. 3 rows, 2 columns)."
   ]
  },
  {
   "cell_type": "code",
   "execution_count": 10,
   "id": "8d0042a2",
   "metadata": {},
   "outputs": [
    {
     "name": "stdout",
     "output_type": "stream",
     "text": [
      "[1 4 2 5 3]\n",
      "int64\n",
      "<class 'numpy.ndarray'>\n",
      "\n",
      "[3.14 4.   2.   3.  ]\n",
      "float64\n",
      "\n",
      "[1. 2. 3. 4.]\n",
      "float32\n",
      "\n",
      "[[1 2]\n",
      " [3 4]\n",
      " [5 6]]\n",
      "int64\n"
     ]
    }
   ],
   "source": [
    "import numpy as np\n",
    "\n",
    "a = np.array([1, 4, 2, 5, 3])\n",
    "print(a)\n",
    "print(a.dtype)\n",
    "print(type(a))\n",
    "\n",
    "print()\n",
    "\n",
    "a = np.array([3.14, 4, 2, 3])\n",
    "print(a)\n",
    "print(a.dtype)\n",
    "\n",
    "print()\n",
    "\n",
    "a = np.array([1, 2, 3, 4], dtype='float32')\n",
    "print(a)\n",
    "print(a.dtype)\n",
    "\n",
    "print()\n",
    "\n",
    "a = np.array([[1, 2], [3, 4], [5, 6]])\n",
    "print(a)\n",
    "print(a.dtype)"
   ]
  },
  {
   "cell_type": "markdown",
   "id": "1c599938",
   "metadata": {},
   "source": [
    "---\n",
    "## 2.2 Creating Numpy Arrays from Scratch\n",
    "\n",
    "- `np.zeros()` is used to create an array of zeros (e.g. a 1x10 int array).\n",
    "- `np.ones()`is used to create an array of ones (e.g. a 2x5 float array).\n",
    "- `np.arange()` is similar to the Python `range()` function (start, stop, step).\n",
    "- `np.linspace()` creates an array with linearly spaced values (start, stop, step).\n",
    "- `np.random.random()` creates an array with uniformly distributed random values between `0` and `1`.\n",
    "- `np.random.randint()` creates an array with random integers (e.g. between `0` and `9`)."
   ]
  },
  {
   "cell_type": "code",
   "execution_count": 14,
   "id": "ef12e82b",
   "metadata": {},
   "outputs": [
    {
     "name": "stdout",
     "output_type": "stream",
     "text": [
      "[0 0 0 0 0 0 0 0 0 0]\n",
      "\n",
      "[[1. 1. 1. 1. 1.]\n",
      " [1. 1. 1. 1. 1.]]\n",
      "\n",
      "[ 0  2  4  6  8 10 12 14 16 18]\n",
      "\n",
      "[0.   0.25 0.5  0.75 1.  ]\n",
      "\n",
      "[[0.39405219 0.98475612 0.60325152]\n",
      " [0.71259358 0.19144495 0.94332491]]\n",
      "\n",
      "[[1 5 7]\n",
      " [5 3 7]]\n"
     ]
    }
   ],
   "source": [
    "a = np.zeros(10, dtype=int)\n",
    "print(a)\n",
    "\n",
    "print()\n",
    "\n",
    "a = np.ones((2, 5), dtype=float)\n",
    "print(a)\n",
    "\n",
    "print()\n",
    "\n",
    "a = np.arange(0, 20, 2)\n",
    "print(a)\n",
    "\n",
    "print()\n",
    "\n",
    "a = np.linspace(0, 1, 5)\n",
    "print(a)\n",
    "\n",
    "print()\n",
    "\n",
    "a = np.random.random((2, 3))\n",
    "print(a)\n",
    "\n",
    "print()\n",
    "\n",
    "a = np.random.randint(0, 10, (2, 3))\n",
    "print(a)"
   ]
  },
  {
   "cell_type": "markdown",
   "id": "50fa71ab",
   "metadata": {},
   "source": [
    "---\n",
    "## 2.3 Numpy Standard Data Types\n",
    "\n",
    "- Numpy arrays contain values of a single type.\n",
    "- When constructing an array, you can specify the type using:\n",
    "  - a string\n",
    "\n",
    "    ```python\n",
    "    np.zeros(10, dtype='int16')\n",
    "    ```\n",
    "\n",
    "  - the associated numpy object (enumeration)\n",
    "\n",
    "    ```python\n",
    "    np.zeros(10, dtype=np.int16)\n",
    "    ```\n",
    "\n",
    "\n",
    "<img src=\"../images/np-dtypes.png\"></>"
   ]
  },
  {
   "cell_type": "code",
   "execution_count": 15,
   "id": "8a6c48f2",
   "metadata": {},
   "outputs": [
    {
     "name": "stdout",
     "output_type": "stream",
     "text": [
      "[0 0 0 0 0 0 0 0 0 0]\n",
      "int16\n",
      "\n",
      "[0 0 0 0 0 0 0 0 0 0]\n",
      "int16\n"
     ]
    }
   ],
   "source": [
    "a = np.zeros(10, dtype='int16')\n",
    "print(a)\n",
    "print(a.dtype)\n",
    "\n",
    "print()\n",
    "\n",
    "a = np.zeros(10, dtype=np.int16)\n",
    "print(a)\n",
    "print(a.dtype)"
   ]
  },
  {
   "cell_type": "markdown",
   "id": "92d842d2",
   "metadata": {},
   "source": [
    "---\n",
    "# 3. The Basics of Numpy Arrays\n",
    "---\n",
    "\n",
    "Basic numpy array manipulations include:\n",
    "- Attributes of arrays.\n",
    "  - Determining the size, shape, memory consumption, and data types of arrays.\n",
    "- Indexing of arrays.\n",
    "  - Getting and setting the value of individual array elements.\n",
    "- Slicing of arrays.\n",
    "  - Getting and setting smaller subarrays within a larger array.\n",
    "- Reshaping of arrays.\n",
    "  - Changing the shape of a given array.\n",
    "- Joining and splitting of arrays.\n",
    "  - Combining multiple arrays into one, and splitting one array into many."
   ]
  },
  {
   "cell_type": "markdown",
   "id": "dbd88cd2",
   "metadata": {},
   "source": [
    "---\n",
    "## 3.1 Numpy Array Attributes\n",
    "\n",
    "- Each numpy array instance has some basic properties (attributes):\n",
    "  - Number of dimensions (`ndim`)\n",
    "  - Size of each dimension (`shape`)\n",
    "  - Total number of elements (`size`)\n",
    "  - Datatype (`dtype`)"
   ]
  },
  {
   "cell_type": "code",
   "execution_count": 20,
   "id": "bf00b673",
   "metadata": {},
   "outputs": [
    {
     "name": "stdout",
     "output_type": "stream",
     "text": [
      "[[[1 8 4 0 4]\n",
      "  [7 3 1 4 3]\n",
      "  [3 5 4 8 5]\n",
      "  [2 6 8 5 2]]\n",
      "\n",
      " [[0 1 7 8 7]\n",
      "  [3 3 2 6 7]\n",
      "  [2 5 6 0 2]\n",
      "  [8 1 2 0 9]]\n",
      "\n",
      " [[9 3 3 9 0]\n",
      "  [2 2 3 9 7]\n",
      "  [0 7 5 1 1]\n",
      "  [3 2 6 9 7]]]\n",
      "\n",
      "ndim:  3\n",
      "shape: (3, 4, 5)\n",
      "size:  60\n",
      "dtype: int64\n"
     ]
    }
   ],
   "source": [
    "a = np.random.randint(10, size=(3, 4, 5))\n",
    "print(a)\n",
    "\n",
    "print()\n",
    "\n",
    "print(\"ndim: \", a.ndim)\n",
    "print(\"shape:\", a.shape)\n",
    "print(\"size: \", a.size)\n",
    "print(\"dtype:\", a.dtype)"
   ]
  },
  {
   "cell_type": "markdown",
   "id": "d883ffab",
   "metadata": {},
   "source": [
    "---\n",
    "## 3.2 Array Indexing\n",
    "\n",
    "- Indexing works the same way as with Python lists.\n",
    "  - Indexes are zero-based.\n",
    "  - For a one-dimensional array, use the array variable’s name with an index within square brackets `[]` to read an element or to assign a value to an element.\n",
    "\n",
    "    ```python\n",
    "    value = x1[0]\n",
    "    x1[0] = 12\n",
    "    ```\n",
    "\n",
    "  - For a multi-dimensional arrays, use the array variable’s name with a tuple of indexes (one for each dimension) within square brackets `[]`.\n",
    "\n",
    "    ```python\n",
    "    value = x2[0, 0]\n",
    "    x2[0, 0] = 0\n",
    "    ```"
   ]
  },
  {
   "cell_type": "code",
   "execution_count": 26,
   "id": "2deabc73",
   "metadata": {},
   "outputs": [
    {
     "name": "stdout",
     "output_type": "stream",
     "text": [
      "x1 = [5 0 3 3 7 9]\n",
      "\n",
      "x1[0] = 5\n",
      "x1[-1] = 9\n",
      "\n",
      "x1 = [12  0  3  3  7  9]\n",
      "\n",
      "x2 =\n",
      "[[3 5]\n",
      " [7 6]\n",
      " [1 9]]\n",
      "\n",
      "x2[0, 0] = 3\n",
      "x2[2, -1] = 9\n",
      "\n",
      "x2 =\n",
      "[[0 5]\n",
      " [7 6]\n",
      " [1 9]]\n"
     ]
    }
   ],
   "source": [
    "x1 = np.array([5,0,3,3,7,9])\n",
    "print(f\"x1 = {x1}\")\n",
    "print()\n",
    "print(f\"x1[0] = {x1[0]}\")\n",
    "print(f\"x1[-1] = {x1[-1]}\")\n",
    "print()\n",
    "x1[0] = 12\n",
    "print(f\"x1 = {x1}\")\n",
    "\n",
    "print()\n",
    "\n",
    "x2 = np.array([[3, 5], [7, 6], [1, 9]])\n",
    "print(f\"x2 =\\n{x2}\")\n",
    "print()\n",
    "print(f\"x2[0, 0] = {x2[0, 0]}\")\n",
    "print(f\"x2[2, -1] = {x2[2, -1]}\")\n",
    "print()\n",
    "x2[0, 0] = 0\n",
    "print(f\"x2 =\\n{x2}\")"
   ]
  },
  {
   "cell_type": "markdown",
   "id": "d60d476a",
   "metadata": {},
   "source": [
    "---\n",
    "## 3.3 Array Slicing\n",
    "\n",
    "- Slicing works the same way as with Python lists.\n",
    "  - Slice notation uses the colon `:` character.\n",
    "  - We access slices of an array `x` with `x [start:stop:step]`, with default values `start=0`, `stop=`<size of dimension>, `step=1`\n",
    "\n",
    "    ```python\n",
    "    x[1:7:2] # start=1, stop=7, step=2\n",
    "    x[:5]\n",
    "    # 1st 5 elements (start=0,stop=5,step=1)\n",
    "    x[5:]\n",
    "    # elements after index 5\n",
    "    x[4:7]\n",
    "    # middle sub-array (elements 5, 6 and 7)\n",
    "    x[::2]\n",
    "    # every other element (step=2)\n",
    "    ```\n",
    "\n",
    "  - If the `step` value is negative, the defaults for `start` and `stop` are swapped.\n",
    "\n",
    "    ```python\n",
    "    x[::-1] # reverse all elements\n",
    "    ```\n",
    "\n",
    "  - For multi-dimensional arrays, each dimension has its own set of `start:stop:step`\n",
    "\n",
    "    ```python\n",
    "    x[:1, :2] # 1st row (1st dim), 1st 2 cols (2nd dim)\n",
    "    ```"
   ]
  },
  {
   "cell_type": "code",
   "execution_count": 30,
   "id": "5817b69a",
   "metadata": {},
   "outputs": [
    {
     "name": "stdout",
     "output_type": "stream",
     "text": [
      "x = [0 1 2 3 4 5 6 7 8 9]\n",
      "\n",
      "x[1:7:2] = [1 3 5]\n",
      "x[:5] = [0 1 2 3 4]\n",
      "x[5:] = [5 6 7 8 9]\n",
      "x[4:7] = [4 5 6]\n",
      "x[::2] = [0 2 4 6 8]\n",
      "x[::-1] = [9 8 7 6 5 4 3 2 1 0]\n",
      "\n",
      "x2 =\n",
      "[[3 5]\n",
      " [7 6]\n",
      " [1 9]]\n",
      "\n",
      "x2[:1, :2] = [[3 5]]\n"
     ]
    }
   ],
   "source": [
    "x = np.arange(10)\n",
    "print(f\"x = {x}\")\n",
    "print()\n",
    "print(f\"x[1:7:2] = {x[1:7:2]}\")\n",
    "print(f\"x[:5] = {x[:5]}\")\n",
    "print(f\"x[5:] = {x[5:]}\")\n",
    "print(f\"x[4:7] = {x[4:7]}\")\n",
    "print(f\"x[::2] = {x[::2]}\")\n",
    "print(f\"x[::-1] = {x[::-1]}\")\n",
    "\n",
    "print()\n",
    "\n",
    "x2 = np.array([[3, 5], [7, 6], [1, 9]])\n",
    "print(f\"x2 =\\n{x2}\")\n",
    "print()\n",
    "print(f\"x2[:1, :2] = {x2[:1, :2]}\")"
   ]
  },
  {
   "cell_type": "markdown",
   "id": "46b48b24",
   "metadata": {},
   "source": [
    "---\n",
    "## 3.4 Array Slicing and Copies\n",
    "\n",
    "- Note that Python list slices return copies, whereas Numpy array slices return views that refer to the same original array.\n",
    "\n",
    "  ```python\n",
    "  x2 = np.array([[3, 5], [7, 6], [1, 9]])\n",
    "  x2_sub = x2[:2, :2]\n",
    "  x2_sub[0, 0] = 0\n",
    "  print(x2) # x2 modified where x2[0, 0] is 0\n",
    "  ```\n",
    "\n",
    "- To copy a sub-array returned from slicing a Numpy array, we can use the `copy()` method.\n",
    "\n",
    "  ```python\n",
    "  x2_sub_copy = x2[:2, :2].copy()\n",
    "  x2_sub_copy[0, 1] = 0\n",
    "  print(x2) # x2 unmodified, i.e. x2[0, 1] is 5\n",
    "  ```"
   ]
  },
  {
   "cell_type": "code",
   "execution_count": 34,
   "id": "991b4d6c",
   "metadata": {},
   "outputs": [
    {
     "name": "stdout",
     "output_type": "stream",
     "text": [
      "x2 =\n",
      "[[3 5]\n",
      " [7 6]\n",
      " [1 9]]\n",
      "\n",
      "x2_sub =\n",
      "[[3 5]\n",
      " [7 6]]\n",
      "\n",
      "x2_sub_copy =\n",
      "[[3 5]\n",
      " [7 6]]\n",
      "\n",
      "x2 =\n",
      "[[0 5]\n",
      " [7 6]\n",
      " [1 9]]\n"
     ]
    }
   ],
   "source": [
    "x2 = np.array([[3, 5], [7, 6], [1, 9]])\n",
    "print(f\"x2 =\\n{x2}\\n\")\n",
    "\n",
    "x2_sub = x2[:2, :2]\n",
    "print(f\"x2_sub =\\n{x2_sub}\\n\")\n",
    "\n",
    "x2_sub_copy = x2[:2, :2].copy()\n",
    "print(f\"x2_sub_copy =\\n{x2_sub_copy}\\n\")\n",
    "\n",
    "x2_sub[0, 0] = 0\n",
    "x2_sub_copy[0, 1] = 0\n",
    "\n",
    "print(f\"x2 =\\n{x2}\")"
   ]
  },
  {
   "cell_type": "markdown",
   "id": "c26bff0d",
   "metadata": {},
   "source": [
    "---\n",
    "## 3.5 Reshaping of Arrays\n",
    "\n",
    "- Arrays can be reshaped using the `reshape()` method.\n",
    "  - The new shape is given as an argument.\n",
    "  - The number of elements in the new shape must match   the number of elements in the original shape.\n",
    "  - A view of the original array is returned (not a copy).\n",
    "\n",
    "    ```python\n",
    "    a = np.arange(1,10) # 1 dim, 9 elements\n",
    "    m = a.reshape((3,3)) # 3x3 matrix\n",
    "    ```\n",
    "\n",
    "- Reshaping can also be done by adding additional dimensions using `np.newaxis` together with indexing and slicing.\n",
    "\n",
    "  ```python\n",
    "  x = np.array([1,2,3]) # 1 dim, 3 elements\n",
    "  x.reshape((1,3))      # 1x3 row vector\n",
    "  x[np.newaxis, :]      # 1x3 row vector\n",
    "  x.reshape((3,1))      # 3x1 column vector\n",
    "  x[:, np.newaxis]      # 3x1 column vector\n",
    "  ```"
   ]
  },
  {
   "cell_type": "code",
   "execution_count": 40,
   "id": "b58fe031",
   "metadata": {},
   "outputs": [
    {
     "name": "stdout",
     "output_type": "stream",
     "text": [
      "a = [1 2 3 4 5 6 7 8 9]\n",
      "\n",
      "m =\n",
      "[[1 2 3]\n",
      " [4 5 6]\n",
      " [7 8 9]]\n",
      "\n",
      "x = [1 2 3]\n",
      "\n",
      "r1 = [[1 2 3]]\n",
      "\n",
      "r2 = [[1 2 3]]\n",
      "\n",
      "c1 =\n",
      "[[1]\n",
      " [2]\n",
      " [3]]\n",
      "\n",
      "c2 =\n",
      "[[1]\n",
      " [2]\n",
      " [3]]\n"
     ]
    }
   ],
   "source": [
    "a = np.arange(1, 10)\n",
    "print(f\"a = {a}\\n\")\n",
    "\n",
    "m = a.reshape((3, 3))\n",
    "print(f\"m =\\n{m}\\n\")\n",
    "\n",
    "x = np.array([1, 2, 3])\n",
    "print(f\"x = {x}\\n\")\n",
    "\n",
    "r1 = x.reshape((1,3))\n",
    "print(f\"r1 = {r1}\\n\")\n",
    "\n",
    "r2 = x[np.newaxis, :]\n",
    "print(f\"r2 = {r2}\\n\")\n",
    "\n",
    "c1 = x.reshape((3,1))\n",
    "print(f\"c1 =\\n{c1}\\n\")\n",
    "\n",
    "c2 = x[:, np.newaxis]\n",
    "print(f\"c2 =\\n{c2}\")"
   ]
  },
  {
   "cell_type": "markdown",
   "id": "f036d126",
   "metadata": {},
   "source": [
    "---\n",
    "## 3.6 Array Concatenation\n",
    "\n",
    "- Two or more arrays can be joined together using the function `np.concatenate()`"
   ]
  },
  {
   "cell_type": "code",
   "execution_count": 43,
   "id": "85041d2b",
   "metadata": {},
   "outputs": [
    {
     "name": "stdout",
     "output_type": "stream",
     "text": [
      "x = [10 20 30]\n",
      "y = [40 50 60]\n",
      "z =\n",
      "[[1 2 3]\n",
      " [4 5 6]]\n",
      "\n",
      "a = [10 20 30 40 50 60]\n",
      "\n",
      "a =\n",
      "[[1 2 3]\n",
      " [4 5 6]\n",
      " [1 2 3]\n",
      " [4 5 6]]\n",
      "\n",
      "a =\n",
      "[[1 2 3 1 2 3]\n",
      " [4 5 6 4 5 6]]\n"
     ]
    }
   ],
   "source": [
    "x = np.array([10, 20, 30])\n",
    "y = np.array([40, 50, 60])\n",
    "z = np.array([[1, 2, 3], [4, 5, 6]])\n",
    "\n",
    "print(f\"x = {x}\")\n",
    "print(f\"y = {y}\")\n",
    "print(f\"z =\\n{z}\\n\")\n",
    "\n",
    "a = np.concatenate([x, y])\n",
    "print(f\"a = {a}\\n\")\n",
    "\n",
    "a = np.concatenate([z, z], axis=0)\n",
    "print(f\"a =\\n{a}\\n\")\n",
    "\n",
    "a = np.concatenate([z, z], axis=1)\n",
    "print(f\"a =\\n{a}\")"
   ]
  },
  {
   "cell_type": "markdown",
   "id": "fc7c95f9",
   "metadata": {},
   "source": [
    "- We can also join arrays using the functions `np.vstack()` and `np.hstack()`"
   ]
  },
  {
   "cell_type": "code",
   "execution_count": 46,
   "id": "c6a3e496",
   "metadata": {},
   "outputs": [
    {
     "name": "stdout",
     "output_type": "stream",
     "text": [
      "x = [1 2 3]\n",
      "y =\n",
      "[[4 5 6]\n",
      " [7 8 9]]\n",
      "z =\n",
      "[[10]\n",
      " [11]]\n",
      "\n",
      "a =\n",
      "[[1 2 3]\n",
      " [4 5 6]\n",
      " [7 8 9]]\n",
      "\n",
      "a =\n",
      "[[ 4  5  6 10]\n",
      " [ 7  8  9 11]]\n"
     ]
    }
   ],
   "source": [
    "x = np.array([1, 2, 3])\n",
    "y = np.array([[4, 5, 6], [7, 8, 9]])\n",
    "z = np.array([[10], [11]])\n",
    "\n",
    "print(f\"x = {x}\")\n",
    "print(f\"y =\\n{y}\")\n",
    "print(f\"z =\\n{z}\\n\")\n",
    "\n",
    "a = np.vstack([x, y])\n",
    "print(f\"a =\\n{a}\\n\")\n",
    "\n",
    "a = np.hstack([y, z])\n",
    "print(f\"a =\\n{a}\")"
   ]
  },
  {
   "cell_type": "markdown",
   "id": "5fda8cf6",
   "metadata": {},
   "source": [
    "---\n",
    "## 3.7 Array Splitting\n",
    "\n",
    "- An array can be split using the function `np.split()`, where a list of indices is given for the split points."
   ]
  },
  {
   "cell_type": "code",
   "execution_count": 47,
   "id": "786f4222",
   "metadata": {},
   "outputs": [
    {
     "name": "stdout",
     "output_type": "stream",
     "text": [
      "[1 2 3 4 5 6 7 8 9]\n",
      "[1 2 3] [4 5 6] [7 8 9]\n"
     ]
    }
   ],
   "source": [
    "x = np.array([1, 2, 3, 4, 5, 6, 7, 8, 9])\n",
    "print(x)\n",
    "\n",
    "x1, x2, x3 = np.split(x, [3, 6])\n",
    "print(x1, x2, x3)"
   ]
  },
  {
   "cell_type": "markdown",
   "id": "fc015380",
   "metadata": {},
   "source": [
    "- We can also use the functions `np.hsplit()` and `np.vsplit()`"
   ]
  },
  {
   "cell_type": "code",
   "execution_count": 51,
   "id": "f1e10b0d",
   "metadata": {},
   "outputs": [
    {
     "name": "stdout",
     "output_type": "stream",
     "text": [
      "[[ 0  1  2  3]\n",
      " [ 4  5  6  7]\n",
      " [ 8  9 10 11]\n",
      " [12 13 14 15]]\n",
      "\n",
      "[[0 1 2 3]\n",
      " [4 5 6 7]]\n",
      "\n",
      "[[ 8  9 10 11]\n",
      " [12 13 14 15]]\n",
      "\n",
      "[[ 0  1]\n",
      " [ 4  5]\n",
      " [ 8  9]\n",
      " [12 13]]\n",
      "\n",
      "[[ 2  3]\n",
      " [ 6  7]\n",
      " [10 11]\n",
      " [14 15]]\n"
     ]
    }
   ],
   "source": [
    "y = np.arange(16).reshape((4,4))\n",
    "print(y)\n",
    "\n",
    "print()\n",
    "\n",
    "upper, lower = np.vsplit(y, [2])\n",
    "print(upper)\n",
    "print()\n",
    "print(lower)\n",
    "\n",
    "print()\n",
    "\n",
    "left, right = np.hsplit(y, [2])\n",
    "print(left)\n",
    "print()\n",
    "print(right)"
   ]
  },
  {
   "cell_type": "markdown",
   "id": "fd7ddfef",
   "metadata": {},
   "source": [
    "---\n",
    "# 4. Computation on Numpy Arrays (ufuncs)\n",
    "---\n",
    "\n",
    "- The key to fast computations on Numpy arrays is via vectorized operations.\n",
    "- They are generally implemented via Numpy’s **universal functions (ufuncs)**.\n"
   ]
  },
  {
   "cell_type": "markdown",
   "id": "cbd4299f",
   "metadata": {},
   "source": [
    "---\n",
    "## 4.1 Array Arithmetic\n",
    "\n",
    "- The arithmetic ufuncs overload Python’s operators to perform vectorized operations on Numpy arrays instead of using loops.\n",
    "\n",
    "  ```python\n",
    "  x = np.arange(4) # [0 1 2 3]\n",
    "  x = x + 2\n",
    "  # [2 3 4 5]\n",
    "  ```\n",
    "\n",
    "- The equivalent ufuncs can be called directly via the syntax `np.<ufunc>`\n",
    "\n",
    "  ```python\n",
    "  x = np.arange(4) # [0 1 2 3]\n",
    "  x = np.add(x, 2) # [2 3 4 5]\n",
    "  ```\n",
    "\n",
    "<img src=\"../images/np-arithmetic-ufuncs.png\">\n",
    "\n",
    "- The overloaded arithmetic operators `+`, `-`, `*`, `/`, `//`, `**`, and `%` work with Numpy arrays.\n",
    "- We can also compute expressions containing Numpy arrays with the overloaded arithmetic operators.\n"
   ]
  },
  {
   "cell_type": "code",
   "execution_count": 52,
   "id": "50d2173d",
   "metadata": {},
   "outputs": [
    {
     "name": "stdout",
     "output_type": "stream",
     "text": [
      "x = [0 1 2 3]\n",
      "x + 5 = [5 6 7 8]\n",
      "x - 5 = [-5 -4 -3 -2]\n",
      "x * 2 = [0 2 4 6]\n",
      "x / 2 = [0.  0.5 1.  1.5]\n",
      "x // 2 = [0 0 1 1]\n",
      "-x = [ 0 -1 -2 -3]\n",
      "x ** 2 = [0 1 4 9]\n",
      "x % 2 = [0 1 0 1]\n",
      "-(0.5*x + 1) ** 2 = [-1.   -2.25 -4.   -6.25]\n",
      "np.add(x, 2) = [2 3 4 5]\n"
     ]
    }
   ],
   "source": [
    "x = np.arange(4)\n",
    "print(\"x =\", x)\n",
    "print(\"x + 5 =\", x + 5)\n",
    "print(\"x - 5 =\", x - 5)\n",
    "print(\"x * 2 =\", x * 2)\n",
    "print(\"x / 2 =\", x / 2)\n",
    "print(\"x // 2 =\", x // 2)\n",
    "print(\"-x =\", -x)\n",
    "print(\"x ** 2 =\", x ** 2)\n",
    "print(\"x % 2 =\", x % 2)\n",
    "print(\"-(0.5*x + 1) ** 2 =\", -(0.5*x + 1) ** 2)\n",
    "print(\"np.add(x, 2) =\", np.add(x, 2))"
   ]
  },
  {
   "cell_type": "markdown",
   "id": "786bfd01",
   "metadata": {},
   "source": [
    "---\n",
    "## 4.2 Absolute Value\n",
    "\n",
    "- Numpys’ ufunc for the absolute value is `np.absolute()` or `np.abs()`.\n",
    "- Numpy also understands Python’s built-in function `abs()`."
   ]
  },
  {
   "cell_type": "code",
   "execution_count": 53,
   "id": "2e0c089b",
   "metadata": {},
   "outputs": [
    {
     "name": "stdout",
     "output_type": "stream",
     "text": [
      "[-2 -1  0  1  2]\n",
      "[2 1 0 1 2]\n",
      "[2 1 0 1 2]\n",
      "[2 1 0 1 2]\n"
     ]
    }
   ],
   "source": [
    "x = np.array([-2, -1, 0, 1, 2])\n",
    "print(x)\n",
    "\n",
    "print(np.absolute(x))\n",
    "print(np.abs(x))\n",
    "print(abs(x))"
   ]
  },
  {
   "cell_type": "markdown",
   "id": "ccacbaf6",
   "metadata": {},
   "source": [
    "---\n",
    "## 4.3 Trigonometric Functions\n",
    "\n",
    "- Numpy provides ufuncs for the trigonometric functions."
   ]
  },
  {
   "cell_type": "code",
   "execution_count": 55,
   "id": "3368f974",
   "metadata": {},
   "outputs": [
    {
     "name": "stdout",
     "output_type": "stream",
     "text": [
      "[0.         1.57079633 3.14159265]\n",
      "[0.0000000e+00 1.0000000e+00 1.2246468e-16]\n",
      "[ 1.000000e+00  6.123234e-17 -1.000000e+00]\n",
      "[ 0.00000000e+00  1.63312394e+16 -1.22464680e-16]\n"
     ]
    }
   ],
   "source": [
    "theta = np.linspace(0, np.pi, 3)\n",
    "print(theta)\n",
    "print(np.sin(theta))\n",
    "print(np.cos(theta))\n",
    "print(np.tan(theta))"
   ]
  },
  {
   "cell_type": "markdown",
   "id": "6865bef8",
   "metadata": {},
   "source": [
    "- Numpy also provides ufuncs for the inverse trigonometric functions."
   ]
  },
  {
   "cell_type": "code",
   "execution_count": 56,
   "id": "c91a1f4b",
   "metadata": {},
   "outputs": [
    {
     "name": "stdout",
     "output_type": "stream",
     "text": [
      "[-1, 0, -1]\n",
      "[-1.57079633  0.         -1.57079633]\n",
      "[3.14159265 1.57079633 3.14159265]\n",
      "[-0.78539816  0.         -0.78539816]\n"
     ]
    }
   ],
   "source": [
    "x = [-1, 0, -1]\n",
    "print(x)\n",
    "print(np.arcsin(x))\n",
    "print(np.arccos(x))\n",
    "print(np.arctan(x))"
   ]
  },
  {
   "cell_type": "markdown",
   "id": "f863ad3e",
   "metadata": {},
   "source": [
    "---\n",
    "## 4.4 Exponents and Logarithms\n",
    "\n",
    "- Numpy provides ufuncs for the exponential functions."
   ]
  },
  {
   "cell_type": "code",
   "execution_count": 57,
   "id": "15910489",
   "metadata": {},
   "outputs": [
    {
     "name": "stdout",
     "output_type": "stream",
     "text": [
      "[1, 2, 3]\n",
      "[ 2.71828183  7.3890561  20.08553692]\n",
      "[2. 4. 8.]\n",
      "[ 3  9 27]\n"
     ]
    }
   ],
   "source": [
    "x = [1, 2, 3]\n",
    "print(x)\n",
    "print(np.exp(x))\n",
    "print(np.exp2(x))\n",
    "print(np.power(3, x))"
   ]
  },
  {
   "cell_type": "markdown",
   "id": "e82230d5",
   "metadata": {},
   "source": [
    "- Numpy also provides ufuncs for logarithmic functions."
   ]
  },
  {
   "cell_type": "code",
   "execution_count": 58,
   "id": "9f22e960",
   "metadata": {},
   "outputs": [
    {
     "name": "stdout",
     "output_type": "stream",
     "text": [
      "[1, 2, 4, 10]\n",
      "[0.         0.69314718 1.38629436 2.30258509]\n",
      "[0.         1.         2.         3.32192809]\n",
      "[0.         0.30103    0.60205999 1.        ]\n"
     ]
    }
   ],
   "source": [
    "x = [1, 2, 4, 10]\n",
    "print(x)\n",
    "print(np.log(x))\n",
    "print(np.log2(x))\n",
    "print(np.log10(x))"
   ]
  },
  {
   "cell_type": "markdown",
   "id": "87850ed8",
   "metadata": {},
   "source": [
    "---\n",
    "## 4.5 Aggregates\n",
    "\n",
    "- If we want to reduce an array with a particular operation, we can use the `reduce()` method of any ufunc.\n",
    "- A reduce repeatedly applies a given operation to the elements of an array until only a single result remains.\n",
    "- The `accumulate()` method repeatedly applies a given operation, but stores the intermediate results."
   ]
  },
  {
   "cell_type": "code",
   "execution_count": 60,
   "id": "3ec96d06",
   "metadata": {},
   "outputs": [
    {
     "name": "stdout",
     "output_type": "stream",
     "text": [
      "[1 2 3 4 5]\n",
      "\n",
      "15\n",
      "120\n",
      "\n",
      "[ 1  3  6 10 15]\n",
      "[  1   2   6  24 120]\n"
     ]
    }
   ],
   "source": [
    "x = np.arange(1, 6)\n",
    "print(x)\n",
    "\n",
    "print()\n",
    "\n",
    "print(np.add.reduce(x))\n",
    "print(np.multiply.reduce(x))\n",
    "\n",
    "print()\n",
    "\n",
    "print(np.add.accumulate(x))\n",
    "print(np.multiply.accumulate(x))"
   ]
  },
  {
   "cell_type": "markdown",
   "id": "9a8fc1ac",
   "metadata": {},
   "source": [
    "---\n",
    "## 4.6 Aggregations\n",
    "\n",
    "- Numpy’s aggregation functions allow you to summarize the typical numerical values (statistics) in a dataset.\n",
    "\n",
    "<img src=\"../images/np-aggregations.png\">"
   ]
  },
  {
   "cell_type": "code",
   "execution_count": 62,
   "id": "0ac4a005",
   "metadata": {},
   "outputs": [
    {
     "name": "stdout",
     "output_type": "stream",
     "text": [
      "[1 2 3 4 5]\n",
      "1\n",
      "5\n",
      "1\n",
      "5\n"
     ]
    }
   ],
   "source": [
    "x = np.arange(1, 6)\n",
    "print(x)\n",
    "\n",
    "print( np.min(x) )\n",
    "print( np.max(x) )\n",
    "\n",
    "print( x.min() )\n",
    "print( x.max() )"
   ]
  },
  {
   "cell_type": "markdown",
   "id": "5bce4c26",
   "metadata": {},
   "source": [
    "- Aggregations can be applied to one-dimensional arrays."
   ]
  },
  {
   "cell_type": "code",
   "execution_count": 65,
   "id": "1f1108c7",
   "metadata": {},
   "outputs": [
    {
     "name": "stdout",
     "output_type": "stream",
     "text": [
      "[1 2 3 4 5]\n",
      "\n",
      "1\n",
      "5\n",
      "3.0\n",
      "1.4142135623730951\n",
      "\n",
      "2.0\n",
      "3.0\n",
      "4.0\n"
     ]
    }
   ],
   "source": [
    "x = np.arange(1, 6)\n",
    "print(x)\n",
    "\n",
    "print()\n",
    "\n",
    "print(x.min())\n",
    "print(x.max())\n",
    "print(x.mean())\n",
    "print(x.std())\n",
    "\n",
    "print()\n",
    "\n",
    "print(np.percentile(x, 25))\n",
    "print(np.median(x))\n",
    "print(np.percentile(x, 75))"
   ]
  },
  {
   "cell_type": "markdown",
   "id": "e0b6c850",
   "metadata": {},
   "source": [
    "- Aggregations can be applied to multi-dimensional arrays."
   ]
  },
  {
   "cell_type": "code",
   "execution_count": 67,
   "id": "223d9140",
   "metadata": {},
   "outputs": [
    {
     "name": "stdout",
     "output_type": "stream",
     "text": [
      "[[1 2 3]\n",
      " [4 5 6]]\n",
      "\n",
      "21\n",
      "[1 2 3]\n",
      "[3 6]\n"
     ]
    }
   ],
   "source": [
    "x = np.array([[1, 2 ,3],[4, 5, 6]])\n",
    "print(x)\n",
    "\n",
    "print()\n",
    "\n",
    "print(x.sum())\n",
    "print(x.min(axis=0))\n",
    "print(x.max(axis=1))"
   ]
  },
  {
   "cell_type": "markdown",
   "id": "7b41a219",
   "metadata": {},
   "source": [
    "---\n",
    "# 5. Computations on Arrays: Broadcasting\n",
    "---\n",
    "\n",
    "- Applying functions to two arrays usually requires the arrays to be of the same shape.\n",
    "\n",
    "    ```python\n",
    "    a = np.array([0, 1, 2])\n",
    "    b = np.array([5, 5, 5])\n",
    "    print(a + b) # [5 6 7]\n",
    "    ```\n",
    "\n",
    "- Numpy **broadcasting** allows us to apply functions to **arrays of different shapes**.\n",
    "\n",
    "    ```python\n",
    "    print(a + 5) # [5 6 7]\n",
    "    ```\n",
    "\n",
    "- Broadcasting creates **temporary arrays** in memory during the computation to enable the operation.\n",
    "\n",
    "    ```python\n",
    "    a + 5 → [0 1 2] + 5 → [0 1 2] + [5 5 5] → [5 6 7]\n",
    "    # scalar 5 is “broadcast” into a temporary 3-element array\n",
    "    ```"
   ]
  },
  {
   "cell_type": "markdown",
   "id": "a41a4219",
   "metadata": {},
   "source": [
    "---\n",
    "## 5.1 Rules of Broadcasting\n",
    "\n",
    "Numpy broadcasting follows a strict set of rules to determine the interaction between two arrays.\n",
    "\n",
    "```python\n",
    "M = np.ones((2,3)) # M.shape = (2, 3)\n",
    "a = np.arange(3)   # a.shape = (3,)\n",
    "M + a              # Needs broadcasting\n",
    "```\n",
    "\n",
    "- **Rule 1**: If the two arrays differ in their number of dimensions, the shape of the one with fewer dimensions is padded with ones on its leading (left) side.\n",
    "\n",
    "  ```python\n",
    "  M.shape # (2, 3)\n",
    "  a.shape # (3,) → pad a’s shape with 1 on the left → (1, 3)\n",
    "  ```\n",
    "\n",
    "- **Rule 2**: If the shape of the two arrays does not match in a dimension, the array with shape equal to 1 in that dimension is stretched to match the other shape.\n",
    "\n",
    "  ```python\n",
    "  (2, 3)\n",
    "  (1, 3) # → stretch a’s dimension with shape 1 to match M’s dimension → (2, 3)\n",
    "  ```\n",
    "\n",
    "- **Rule 3**: If in any dimension the sizes disagree and neither is equal to 1, an error is raised."
   ]
  },
  {
   "cell_type": "markdown",
   "id": "2280ff5b",
   "metadata": {},
   "source": [
    "---\n",
    "## 5.2 Broadcasting Example 1"
   ]
  },
  {
   "cell_type": "code",
   "execution_count": 75,
   "id": "8311c869",
   "metadata": {},
   "outputs": [
    {
     "name": "stdout",
     "output_type": "stream",
     "text": [
      "M =\n",
      "[[1. 1. 1.]\n",
      " [1. 1. 1.]]\n",
      "M.shape = (2, 3)\n",
      "\n",
      "a = [0 1 2]\n",
      "a.shape = (3,)\n",
      "\n",
      "# Rule 1: Pad a’s shape with a 1 from the left\n",
      "# M: (2, 3)\n",
      "# a: (3,) → (1, 3) \n",
      "\n",
      "# Rule 2: Stretch dimension with a 1 to match other\n",
      "# M: (2, 3)\n",
      "# a: (1, 3) → (2, 3)\n",
      "\n",
      "res =\n",
      "[[1. 2. 3.]\n",
      " [1. 2. 3.]]\n",
      "res.shape = (2, 3)\n"
     ]
    }
   ],
   "source": [
    "M = np.ones((2,3))\n",
    "print(f\"M =\\n{M}\")\n",
    "print(f\"M.shape = {M.shape}\")\n",
    "\n",
    "print()\n",
    "\n",
    "a = np.arange(3)\n",
    "print(f\"a = {a}\")\n",
    "print(f\"a.shape = {a.shape}\")\n",
    "\n",
    "print(\"\"\"\n",
    "# Rule 1: Pad a’s shape with a 1 from the left\n",
    "# M: (2, 3)\n",
    "# a: (3,) → (1, 3) \"\"\")\n",
    "\n",
    "print(\"\"\"\n",
    "# Rule 2: Stretch dimension with a 1 to match other\n",
    "# M: (2, 3)\n",
    "# a: (1, 3) → (2, 3)\n",
    "\"\"\")\n",
    "\n",
    "res = M + a\n",
    "print(f\"res =\\n{res}\")\n",
    "print(f\"res.shape = {res.shape}\")"
   ]
  },
  {
   "cell_type": "markdown",
   "id": "ad308bf7",
   "metadata": {},
   "source": [
    "---\n",
    "## 5.3 Broadcasting Example 2"
   ]
  },
  {
   "cell_type": "code",
   "execution_count": 76,
   "id": "f78148e3",
   "metadata": {},
   "outputs": [
    {
     "name": "stdout",
     "output_type": "stream",
     "text": [
      "M =\n",
      "[[0]\n",
      " [1]\n",
      " [2]]\n",
      "M.shape = (3, 1)\n",
      "\n",
      "a = [0 1 2]\n",
      "a.shape = (3,)\n",
      "\n",
      "# Rule 1: Pad b’s shape with a 1 from the left\n",
      "# a: (3, 1)\n",
      "# b: (3,) → (1, 3) \n",
      "\n",
      "# Rule 2: Stretch dimension with a 1 to match other\n",
      "# a: (3, 1) → (3, 3)\n",
      "# b: (1, 3) → (3, 3)\n",
      "\n",
      "res =\n",
      "[[0 1 2]\n",
      " [1 2 3]\n",
      " [2 3 4]]\n",
      "res.shape = (3, 3)\n"
     ]
    }
   ],
   "source": [
    "a = np.arange(3).reshape((3, 1))\n",
    "print(f\"M =\\n{a}\")\n",
    "print(f\"M.shape = {a.shape}\")\n",
    "\n",
    "print()\n",
    "\n",
    "b = np.arange(3)\n",
    "print(f\"a = {b}\")\n",
    "print(f\"a.shape = {b.shape}\")\n",
    "\n",
    "print(\"\"\"\n",
    "# Rule 1: Pad b’s shape with a 1 from the left\n",
    "# a: (3, 1)\n",
    "# b: (3,) → (1, 3) \"\"\")\n",
    "\n",
    "print(\"\"\"\n",
    "# Rule 2: Stretch dimension with a 1 to match other\n",
    "# a: (3, 1) → (3, 3)\n",
    "# b: (1, 3) → (3, 3)\n",
    "\"\"\")\n",
    "\n",
    "res = a + b\n",
    "print(f\"res =\\n{res}\")\n",
    "print(f\"res.shape = {res.shape}\")"
   ]
  },
  {
   "cell_type": "markdown",
   "id": "1c23776a",
   "metadata": {},
   "source": [
    "---\n",
    "## 5.4 Broadcasting Example 3"
   ]
  },
  {
   "cell_type": "code",
   "execution_count": 78,
   "id": "eec097c3",
   "metadata": {},
   "outputs": [
    {
     "name": "stdout",
     "output_type": "stream",
     "text": [
      "M =\n",
      "[[1. 1.]\n",
      " [1. 1.]\n",
      " [1. 1.]]\n",
      "M.shape = (3, 2)\n",
      "\n",
      "a = [0 1 2]\n",
      "a.shape = (3,)\n",
      "\n",
      "# Rule 1: Pad a’s shape with a 1 from the left\n",
      "# M: (3, 2)\n",
      "# a: (3,) → (1, 3) \n",
      "\n",
      "# Rule 2: Stretch dimension with a 1 to match other\n",
      "# M: (3, 2)\n",
      "# a: (1, 3) → (3, 3) \n",
      "\n",
      "# Rule 3: shapes disagree in dimension 2, and neither is 1\n",
      "# M: (3, 2)\n",
      "# a: (3, 3)\n",
      "\n",
      "ValueError operands could not be broadcast together with shapes (3,2) (3,) \n"
     ]
    }
   ],
   "source": [
    "M = np.ones((3,2))\n",
    "print(f\"M =\\n{M}\")\n",
    "print(f\"M.shape = {M.shape}\")\n",
    "\n",
    "print()\n",
    "\n",
    "a = np.arange(3)\n",
    "print(f\"a = {a}\")\n",
    "print(f\"a.shape = {a.shape}\")\n",
    "\n",
    "print(\"\"\"\n",
    "# Rule 1: Pad a’s shape with a 1 from the left\n",
    "# M: (3, 2)\n",
    "# a: (3,) → (1, 3) \"\"\")\n",
    "\n",
    "print(\"\"\"\n",
    "# Rule 2: Stretch dimension with a 1 to match other\n",
    "# M: (3, 2)\n",
    "# a: (1, 3) → (3, 3) \"\"\")\n",
    "\n",
    "print(\"\"\"\n",
    "# Rule 3: shapes disagree in dimension 2, and neither is 1\n",
    "# M: (3, 2)\n",
    "# a: (3, 3)\n",
    "\"\"\")\n",
    "\n",
    "try:\n",
    "    res = M + a\n",
    "except Exception as e:\n",
    "    print(type(e).__name__, e)"
   ]
  },
  {
   "cell_type": "markdown",
   "id": "1371342f",
   "metadata": {},
   "source": [
    "---\n",
    "# 6. Comparisons, Masks, and Boolean Logic\n",
    "---\n",
    "\n",
    "- Numpy has overloaded the comparison and bitwise boolean operators and has equivalent ufuncs.\n",
    "\n",
    "<img src=\"../images/np-relational-operators.png\"></img>\n",
    "\n",
    "<img src=\"../images/np-bitwise-operators.png\"></img>\n",
    "\n",
    "- Applying comparisons and boolean logic on Numpy arrays result in an array where each element is a `bool` (`True`, `False`)."
   ]
  },
  {
   "cell_type": "code",
   "execution_count": 82,
   "id": "b1a172fd",
   "metadata": {},
   "outputs": [
    {
     "name": "stdout",
     "output_type": "stream",
     "text": [
      "[1 2 3 4 5]\n",
      "\n",
      "[ True  True False False False]\n",
      "[False  True  True False False]\n",
      "\n",
      "2\n"
     ]
    }
   ],
   "source": [
    "x = np.array([1, 2, 3, 4, 5])\n",
    "print(x)\n",
    "\n",
    "print()\n",
    "\n",
    "print(x < 3)\n",
    "print((x < 4) & (x > 1))\n",
    "\n",
    "print()\n",
    "\n",
    "print( np.sum(x < 3) )"
   ]
  },
  {
   "cell_type": "markdown",
   "id": "edcd34a7",
   "metadata": {},
   "source": [
    "- The boolean arrays can be used as masks to index into an array an select elements where the mask is `True`."
   ]
  },
  {
   "cell_type": "code",
   "execution_count": 86,
   "id": "b65f1e7b",
   "metadata": {},
   "outputs": [
    {
     "name": "stdout",
     "output_type": "stream",
     "text": [
      "[1 2 3 4 5]\n",
      "[1 2]\n"
     ]
    }
   ],
   "source": [
    "x = np.array([1, 2, 3, 4, 5])\n",
    "print(x)\n",
    "\n",
    "print( x[x < 3] )"
   ]
  },
  {
   "cell_type": "markdown",
   "id": "99f30155",
   "metadata": {},
   "source": [
    "---\n",
    "# 7. Fancy Indexing\n",
    "---\n",
    "\n",
    "- Fancy indexing means passing an array of indices to access multiple array elements at once."
   ]
  },
  {
   "cell_type": "code",
   "execution_count": 89,
   "id": "e44f5d68",
   "metadata": {},
   "outputs": [
    {
     "name": "stdout",
     "output_type": "stream",
     "text": [
      "[1 2 3 4 5 6 7 8 9]\n",
      "\n",
      "[4 8 5]\n"
     ]
    }
   ],
   "source": [
    "x = np.array([1, 2, 3, 4, 5, 6, 7, 8, 9])\n",
    "print(x)\n",
    "\n",
    "print()\n",
    "\n",
    "ind = [3, 7, 4]\n",
    "print(x[ind])"
   ]
  },
  {
   "cell_type": "markdown",
   "id": "29d49745",
   "metadata": {},
   "source": [
    "- With fancy indexing, the shape of the result reflects the shape of the index array (not the shape of the array being indexed)."
   ]
  },
  {
   "cell_type": "code",
   "execution_count": 90,
   "id": "487bf60f",
   "metadata": {},
   "outputs": [
    {
     "name": "stdout",
     "output_type": "stream",
     "text": [
      "[1 2 3 4 5 6 7 8 9]\n",
      "\n",
      "[[4 8]\n",
      " [5 6]]\n"
     ]
    }
   ],
   "source": [
    "x = np.array([1, 2, 3, 4, 5, 6, 7, 8, 9])\n",
    "print(x)\n",
    "\n",
    "print()\n",
    "\n",
    "ind = np.array([[3, 7], [4, 5]])\n",
    "print(x[ind])"
   ]
  },
  {
   "cell_type": "code",
   "execution_count": null,
   "id": "019dd0fa",
   "metadata": {},
   "outputs": [],
   "source": []
  }
 ],
 "metadata": {
  "kernelspec": {
   "display_name": "Python 3",
   "language": "python",
   "name": "python3"
  },
  "language_info": {
   "codemirror_mode": {
    "name": "ipython",
    "version": 3
   },
   "file_extension": ".py",
   "mimetype": "text/x-python",
   "name": "python",
   "nbconvert_exporter": "python",
   "pygments_lexer": "ipython3",
   "version": "3.12.11"
  },
  "polyglot_notebook": {
   "kernelInfo": {
    "defaultKernelName": "fsharp",
    "items": [
     {
      "aliases": [],
      "name": "fsharp"
     }
    ]
   }
  }
 },
 "nbformat": 4,
 "nbformat_minor": 5
}
